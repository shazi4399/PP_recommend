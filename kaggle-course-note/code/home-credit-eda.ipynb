{
 "cells": [
  {
   "cell_type": "code",
   "execution_count": 2,
   "metadata": {
    "execution": {
     "iopub.execute_input": "2021-07-12T15:28:15.848275Z",
     "iopub.status.busy": "2021-07-12T15:28:15.847742Z",
     "iopub.status.idle": "2021-07-12T15:28:15.966384Z",
     "shell.execute_reply": "2021-07-12T15:28:15.964979Z",
     "shell.execute_reply.started": "2021-07-12T15:28:15.848225Z"
    },
    "tags": []
   },
   "outputs": [
    {
     "name": "stdout",
     "output_type": "stream",
     "text": [
      "总用量 2.5G\n",
      "-rw-rw-r-- 1 lyz lyz  26M 12月 11  2019 application_test.csv\n",
      "-rw-rw-r-- 1 lyz lyz 159M 12月 11  2019 application_train.csv\n",
      "-rw-rw-r-- 1 lyz lyz 359M 12月 11  2019 bureau_balance.csv\n",
      "-rw-rw-r-- 1 lyz lyz 163M 12月 11  2019 bureau.csv\n",
      "-rw-rw-r-- 1 lyz lyz 405M 12月 11  2019 credit_card_balance.csv\n",
      "-rw-rw-r-- 1 lyz lyz  37K 12月 11  2019 HomeCredit_columns_description.csv\n",
      "-rw-rw-r-- 1 lyz lyz 690M 12月 11  2019 installments_payments.csv\n",
      "-rw-rw-r-- 1 lyz lyz 375M 12月 11  2019 POS_CASH_balance.csv\n",
      "-rw-rw-r-- 1 lyz lyz 387M 12月 11  2019 previous_application.csv\n",
      "-rw-rw-r-- 1 lyz lyz 524K 12月 11  2019 sample_submission.csv\n"
     ]
    }
   ],
   "source": [
    "!ls input -lh"
   ]
  },
  {
   "cell_type": "code",
   "execution_count": 3,
   "metadata": {
    "execution": {
     "iopub.execute_input": "2021-07-12T15:29:41.626355Z",
     "iopub.status.busy": "2021-07-12T15:29:41.625823Z",
     "iopub.status.idle": "2021-07-12T15:29:41.751627Z",
     "shell.execute_reply": "2021-07-12T15:29:41.750156Z",
     "shell.execute_reply.started": "2021-07-12T15:29:41.626304Z"
    },
    "scrolled": true,
    "tags": []
   },
   "outputs": [
    {
     "name": "stdout",
     "output_type": "stream",
     "text": [
      ",Table,Row,Description,Special\n",
      "1,application_{train|test}.csv,SK_ID_CURR,ID of loan in our sample,\n",
      "2,application_{train|test}.csv,TARGET,\"Target variable (1 - client with payment difficulties: he/she had late payment more than X days on at least one of the first Y installments of the loan in our sample, 0 - all other cases)\",\n",
      "5,application_{train|test}.csv,NAME_CONTRACT_TYPE,Identification if loan is cash or revolving,\n",
      "6,application_{train|test}.csv,CODE_GENDER,Gender of the client,\n",
      "7,application_{train|test}.csv,FLAG_OWN_CAR,Flag if the client owns a car,\n",
      "8,application_{train|test}.csv,FLAG_OWN_REALTY,Flag if client owns a house or flat,\n",
      "9,application_{train|test}.csv,CNT_CHILDREN,Number of children the client has,\n",
      "10,application_{train|test}.csv,AMT_INCOME_TOTAL,Income of the client,\n",
      "11,application_{train|test}.csv,AMT_CREDIT,Credit amount of the loan,\n",
      "12,application_{train|test}.csv,AMT_ANNUITY,Loan annuity,\n",
      "13,application_{train|test}.csv,AMT_GOODS_PRICE,For consumer loans it is the price of the goods for which the loan is given,\n",
      "14,application_{train|test}.csv,NAME_TYPE_SUITE,Who was accompanying client when he was applying for the loan,\n",
      "15,application_{train|test}.csv,NAME_INCOME_TYPE,\"Clients income type (businessman, working, maternity leave,�)\",\n",
      "16,application_{train|test}.csv,NAME_EDUCATION_TYPE,Level of highest education the client achieved,\n",
      "17,application_{train|test}.csv,NAME_FAMILY_STATUS,Family status of the client,\n",
      "18,application_{train|test}.csv,NAME_HOUSING_TYPE,\"What is the housing situation of the client (renting, living with parents, ...)\",\n",
      "19,application_{train|test}.csv,REGION_POPULATION_RELATIVE,Normalized population of region where client lives (higher number means the client lives in more populated region),normalized \n",
      "20,application_{train|test}.csv,DAYS_BIRTH,Client's age in days at the time of application,time only relative to the application\n",
      "21,application_{train|test}.csv,DAYS_EMPLOYED,How many days before the application the person started current employment,time only relative to the application\n",
      "22,application_{train|test}.csv,DAYS_REGISTRATION,How many days before the application did client change his registration,time only relative to the application\n",
      "23,application_{train|test}.csv,DAYS_ID_PUBLISH,How many days before the application did client change the identity document with which he applied for the loan,time only relative to the application\n",
      "24,application_{train|test}.csv,OWN_CAR_AGE,Age of client's car,\n",
      "25,application_{train|test}.csv,FLAG_MOBIL,\"Did client provide mobile phone (1=YES, 0=NO)\",\n",
      "26,application_{train|test}.csv,FLAG_EMP_PHONE,\"Did client provide work phone (1=YES, 0=NO)\",\n",
      "27,application_{train|test}.csv,FLAG_WORK_PHONE,\"Did client provide home phone (1=YES, 0=NO)\",\n",
      "28,application_{train|test}.csv,FLAG_CONT_MOBILE,\"Was mobile phone reachable (1=YES, 0=NO)\",\n",
      "29,application_{train|test}.csv,FLAG_PHONE,\"Did client provide home phone (1=YES, 0=NO)\",\n",
      "30,application_{train|test}.csv,FLAG_EMAIL,\"Did client provide email (1=YES, 0=NO)\",\n",
      "31,application_{train|test}.csv,OCCUPATION_TYPE,What kind of occupation does the client have,\n",
      "32,application_{train|test}.csv,CNT_FAM_MEMBERS,How many family members does client have,\n",
      "33,application_{train|test}.csv,REGION_RATING_CLIENT,\"Our rating of the region where client lives (1,2,3)\",\n",
      "34,application_{train|test}.csv,REGION_RATING_CLIENT_W_CITY,\"Our rating of the region where client lives with taking city into account (1,2,3)\",\n",
      "35,application_{train|test}.csv,WEEKDAY_APPR_PROCESS_START,On which day of the week did the client apply for the loan,\n",
      "36,application_{train|test}.csv,HOUR_APPR_PROCESS_START,Approximately at what hour did the client apply for the loan,rounded\n",
      "37,application_{train|test}.csv,REG_REGION_NOT_LIVE_REGION,\"Flag if client's permanent address does not match contact address (1=different, 0=same, at region level)\",\n",
      "38,application_{train|test}.csv,REG_REGION_NOT_WORK_REGION,\"Flag if client's permanent address does not match work address (1=different, 0=same, at region level)\",\n",
      "39,application_{train|test}.csv,LIVE_REGION_NOT_WORK_REGION,\"Flag if client's contact address does not match work address (1=different, 0=same, at region level)\",\n",
      "40,application_{train|test}.csv,REG_CITY_NOT_LIVE_CITY,\"Flag if client's permanent address does not match contact address (1=different, 0=same, at city level)\",\n",
      "41,application_{train|test}.csv,REG_CITY_NOT_WORK_CITY,\"Flag if client's permanent address does not match work address (1=different, 0=same, at city level)\",\n",
      "42,application_{train|test}.csv,LIVE_CITY_NOT_WORK_CITY,\"Flag if client's contact address does not match work address (1=different, 0=same, at city level)\",\n",
      "43,application_{train|test}.csv,ORGANIZATION_TYPE,Type of organization where client works,\n",
      "44,application_{train|test}.csv,EXT_SOURCE_1,Normalized score from external data source,normalized\n",
      "45,application_{train|test}.csv,EXT_SOURCE_2,Normalized score from external data source,normalized\n",
      "46,application_{train|test}.csv,EXT_SOURCE_3,Normalized score from external data source,normalized\n",
      "47,application_{train|test}.csv,APARTMENTS_AVG,\"Normalized information about building where the client lives, What is average (_AVG suffix), modus (_MODE suffix), median (_MEDI suffix) apartment size, common area, living area, age of building, number of elevators, number of entrances, state of the building, number of floor\",normalized\n",
      "48,application_{train|test}.csv,BASEMENTAREA_AVG,\"Normalized information about building where the client lives, What is average (_AVG suffix), modus (_MODE suffix), median (_MEDI suffix) apartment size, common area, living area, age of building, number of elevators, number of entrances, state of the building, number of floor\",normalized\n",
      "49,application_{train|test}.csv,YEARS_BEGINEXPLUATATION_AVG,\"Normalized information about building where the client lives, What is average (_AVG suffix), modus (_MODE suffix), median (_MEDI suffix) apartment size, common area, living area, age of building, number of elevators, number of entrances, state of the building, number of floor\",normalized\n",
      "50,application_{train|test}.csv,YEARS_BUILD_AVG,\"Normalized information about building where the client lives, What is average (_AVG suffix), modus (_MODE suffix), median (_MEDI suffix) apartment size, common area, living area, age of building, number of elevators, number of entrances, state of the building, number of floor\",normalized\n",
      "51,application_{train|test}.csv,COMMONAREA_AVG,\"Normalized information about building where the client lives, What is average (_AVG suffix), modus (_MODE suffix), median (_MEDI suffix) apartment size, common area, living area, age of building, number of elevators, number of entrances, state of the building, number of floor\",normalized\n",
      "52,application_{train|test}.csv,ELEVATORS_AVG,\"Normalized information about building where the client lives, What is average (_AVG suffix), modus (_MODE suffix), median (_MEDI suffix) apartment size, common area, living area, age of building, number of elevators, number of entrances, state of the building, number of floor\",normalized\n",
      "53,application_{train|test}.csv,ENTRANCES_AVG,\"Normalized information about building where the client lives, What is average (_AVG suffix), modus (_MODE suffix), median (_MEDI suffix) apartment size, common area, living area, age of building, number of elevators, number of entrances, state of the building, number of floor\",normalized\n",
      "54,application_{train|test}.csv,FLOORSMAX_AVG,\"Normalized information about building where the client lives, What is average (_AVG suffix), modus (_MODE suffix), median (_MEDI suffix) apartment size, common area, living area, age of building, number of elevators, number of entrances, state of the building, number of floor\",normalized\n",
      "55,application_{train|test}.csv,FLOORSMIN_AVG,\"Normalized information about building where the client lives, What is average (_AVG suffix), modus (_MODE suffix), median (_MEDI suffix) apartment size, common area, living area, age of building, number of elevators, number of entrances, state of the building, number of floor\",normalized\n",
      "56,application_{train|test}.csv,LANDAREA_AVG,\"Normalized information about building where the client lives, What is average (_AVG suffix), modus (_MODE suffix), median (_MEDI suffix) apartment size, common area, living area, age of building, number of elevators, number of entrances, state of the building, number of floor\",normalized\n",
      "57,application_{train|test}.csv,LIVINGAPARTMENTS_AVG,\"Normalized information about building where the client lives, What is average (_AVG suffix), modus (_MODE suffix), median (_MEDI suffix) apartment size, common area, living area, age of building, number of elevators, number of entrances, state of the building, number of floor\",normalized\n",
      "58,application_{train|test}.csv,LIVINGAREA_AVG,\"Normalized information about building where the client lives, What is average (_AVG suffix), modus (_MODE suffix), median (_MEDI suffix) apartment size, common area, living area, age of building, number of elevators, number of entrances, state of the building, number of floor\",normalized\n",
      "59,application_{train|test}.csv,NONLIVINGAPARTMENTS_AVG,\"Normalized information about building where the client lives, What is average (_AVG suffix), modus (_MODE suffix), median (_MEDI suffix) apartment size, common area, living area, age of building, number of elevators, number of entrances, state of the building, number of floor\",normalized\n",
      "60,application_{train|test}.csv,NONLIVINGAREA_AVG,\"Normalized information about building where the client lives, What is average (_AVG suffix), modus (_MODE suffix), median (_MEDI suffix) apartment size, common area, living area, age of building, number of elevators, number of entrances, state of the building, number of floor\",normalized\n",
      "61,application_{train|test}.csv,APARTMENTS_MODE,\"Normalized information about building where the client lives, What is average (_AVG suffix), modus (_MODE suffix), median (_MEDI suffix) apartment size, common area, living area, age of building, number of elevators, number of entrances, state of the building, number of floor\",normalized\n",
      "62,application_{train|test}.csv,BASEMENTAREA_MODE,\"Normalized information about building where the client lives, What is average (_AVG suffix), modus (_MODE suffix), median (_MEDI suffix) apartment size, common area, living area, age of building, number of elevators, number of entrances, state of the building, number of floor\",normalized\n",
      "63,application_{train|test}.csv,YEARS_BEGINEXPLUATATION_MODE,\"Normalized information about building where the client lives, What is average (_AVG suffix), modus (_MODE suffix), median (_MEDI suffix) apartment size, common area, living area, age of building, number of elevators, number of entrances, state of the building, number of floor\",normalized\n",
      "64,application_{train|test}.csv,YEARS_BUILD_MODE,\"Normalized information about building where the client lives, What is average (_AVG suffix), modus (_MODE suffix), median (_MEDI suffix) apartment size, common area, living area, age of building, number of elevators, number of entrances, state of the building, number of floor\",normalized\n",
      "65,application_{train|test}.csv,COMMONAREA_MODE,\"Normalized information about building where the client lives, What is average (_AVG suffix), modus (_MODE suffix), median (_MEDI suffix) apartment size, common area, living area, age of building, number of elevators, number of entrances, state of the building, number of floor\",normalized\n",
      "66,application_{train|test}.csv,ELEVATORS_MODE,\"Normalized information about building where the client lives, What is average (_AVG suffix), modus (_MODE suffix), median (_MEDI suffix) apartment size, common area, living area, age of building, number of elevators, number of entrances, state of the building, number of floor\",normalized\n",
      "67,application_{train|test}.csv,ENTRANCES_MODE,\"Normalized information about building where the client lives, What is average (_AVG suffix), modus (_MODE suffix), median (_MEDI suffix) apartment size, common area, living area, age of building, number of elevators, number of entrances, state of the building, number of floor\",normalized\n",
      "68,application_{train|test}.csv,FLOORSMAX_MODE,\"Normalized information about building where the client lives, What is average (_AVG suffix), modus (_MODE suffix), median (_MEDI suffix) apartment size, common area, living area, age of building, number of elevators, number of entrances, state of the building, number of floor\",normalized\n",
      "69,application_{train|test}.csv,FLOORSMIN_MODE,\"Normalized information about building where the client lives, What is average (_AVG suffix), modus (_MODE suffix), median (_MEDI suffix) apartment size, common area, living area, age of building, number of elevators, number of entrances, state of the building, number of floor\",normalized\n",
      "70,application_{train|test}.csv,LANDAREA_MODE,\"Normalized information about building where the client lives, What is average (_AVG suffix), modus (_MODE suffix), median (_MEDI suffix) apartment size, common area, living area, age of building, number of elevators, number of entrances, state of the building, number of floor\",normalized\n",
      "71,application_{train|test}.csv,LIVINGAPARTMENTS_MODE,\"Normalized information about building where the client lives, What is average (_AVG suffix), modus (_MODE suffix), median (_MEDI suffix) apartment size, common area, living area, age of building, number of elevators, number of entrances, state of the building, number of floor\",normalized\n",
      "72,application_{train|test}.csv,LIVINGAREA_MODE,\"Normalized information about building where the client lives, What is average (_AVG suffix), modus (_MODE suffix), median (_MEDI suffix) apartment size, common area, living area, age of building, number of elevators, number of entrances, state of the building, number of floor\",normalized\n",
      "73,application_{train|test}.csv,NONLIVINGAPARTMENTS_MODE,\"Normalized information about building where the client lives, What is average (_AVG suffix), modus (_MODE suffix), median (_MEDI suffix) apartment size, common area, living area, age of building, number of elevators, number of entrances, state of the building, number of floor\",normalized\n",
      "74,application_{train|test}.csv,NONLIVINGAREA_MODE,\"Normalized information about building where the client lives, What is average (_AVG suffix), modus (_MODE suffix), median (_MEDI suffix) apartment size, common area, living area, age of building, number of elevators, number of entrances, state of the building, number of floor\",normalized\n",
      "75,application_{train|test}.csv,APARTMENTS_MEDI,\"Normalized information about building where the client lives, What is average (_AVG suffix), modus (_MODE suffix), median (_MEDI suffix) apartment size, common area, living area, age of building, number of elevators, number of entrances, state of the building, number of floor\",normalized\n",
      "76,application_{train|test}.csv,BASEMENTAREA_MEDI,\"Normalized information about building where the client lives, What is average (_AVG suffix), modus (_MODE suffix), median (_MEDI suffix) apartment size, common area, living area, age of building, number of elevators, number of entrances, state of the building, number of floor\",normalized\n",
      "77,application_{train|test}.csv,YEARS_BEGINEXPLUATATION_MEDI,\"Normalized information about building where the client lives, What is average (_AVG suffix), modus (_MODE suffix), median (_MEDI suffix) apartment size, common area, living area, age of building, number of elevators, number of entrances, state of the building, number of floor\",normalized\n",
      "78,application_{train|test}.csv,YEARS_BUILD_MEDI,\"Normalized information about building where the client lives, What is average (_AVG suffix), modus (_MODE suffix), median (_MEDI suffix) apartment size, common area, living area, age of building, number of elevators, number of entrances, state of the building, number of floor\",normalized\n",
      "79,application_{train|test}.csv,COMMONAREA_MEDI,\"Normalized information about building where the client lives, What is average (_AVG suffix), modus (_MODE suffix), median (_MEDI suffix) apartment size, common area, living area, age of building, number of elevators, number of entrances, state of the building, number of floor\",normalized\n",
      "80,application_{train|test}.csv,ELEVATORS_MEDI,\"Normalized information about building where the client lives, What is average (_AVG suffix), modus (_MODE suffix), median (_MEDI suffix) apartment size, common area, living area, age of building, number of elevators, number of entrances, state of the building, number of floor\",normalized\n",
      "81,application_{train|test}.csv,ENTRANCES_MEDI,\"Normalized information about building where the client lives, What is average (_AVG suffix), modus (_MODE suffix), median (_MEDI suffix) apartment size, common area, living area, age of building, number of elevators, number of entrances, state of the building, number of floor\",normalized\n",
      "82,application_{train|test}.csv,FLOORSMAX_MEDI,\"Normalized information about building where the client lives, What is average (_AVG suffix), modus (_MODE suffix), median (_MEDI suffix) apartment size, common area, living area, age of building, number of elevators, number of entrances, state of the building, number of floor\",normalized\n",
      "83,application_{train|test}.csv,FLOORSMIN_MEDI,\"Normalized information about building where the client lives, What is average (_AVG suffix), modus (_MODE suffix), median (_MEDI suffix) apartment size, common area, living area, age of building, number of elevators, number of entrances, state of the building, number of floor\",normalized\n",
      "84,application_{train|test}.csv,LANDAREA_MEDI,\"Normalized information about building where the client lives, What is average (_AVG suffix), modus (_MODE suffix), median (_MEDI suffix) apartment size, common area, living area, age of building, number of elevators, number of entrances, state of the building, number of floor\",normalized\n",
      "85,application_{train|test}.csv,LIVINGAPARTMENTS_MEDI,\"Normalized information about building where the client lives, What is average (_AVG suffix), modus (_MODE suffix), median (_MEDI suffix) apartment size, common area, living area, age of building, number of elevators, number of entrances, state of the building, number of floor\",normalized\n",
      "86,application_{train|test}.csv,LIVINGAREA_MEDI,\"Normalized information about building where the client lives, What is average (_AVG suffix), modus (_MODE suffix), median (_MEDI suffix) apartment size, common area, living area, age of building, number of elevators, number of entrances, state of the building, number of floor\",normalized\n",
      "87,application_{train|test}.csv,NONLIVINGAPARTMENTS_MEDI,\"Normalized information about building where the client lives, What is average (_AVG suffix), modus (_MODE suffix), median (_MEDI suffix) apartment size, common area, living area, age of building, number of elevators, number of entrances, state of the building, number of floor\",normalized\n",
      "88,application_{train|test}.csv,NONLIVINGAREA_MEDI,\"Normalized information about building where the client lives, What is average (_AVG suffix), modus (_MODE suffix), median (_MEDI suffix) apartment size, common area, living area, age of building, number of elevators, number of entrances, state of the building, number of floor\",normalized\n",
      "89,application_{train|test}.csv,FONDKAPREMONT_MODE,\"Normalized information about building where the client lives, What is average (_AVG suffix), modus (_MODE suffix), median (_MEDI suffix) apartment size, common area, living area, age of building, number of elevators, number of entrances, state of the building, number of floor\",normalized\n",
      "90,application_{train|test}.csv,HOUSETYPE_MODE,\"Normalized information about building where the client lives, What is average (_AVG suffix), modus (_MODE suffix), median (_MEDI suffix) apartment size, common area, living area, age of building, number of elevators, number of entrances, state of the building, number of floor\",normalized\n",
      "91,application_{train|test}.csv,TOTALAREA_MODE,\"Normalized information about building where the client lives, What is average (_AVG suffix), modus (_MODE suffix), median (_MEDI suffix) apartment size, common area, living area, age of building, number of elevators, number of entrances, state of the building, number of floor\",normalized\n",
      "92,application_{train|test}.csv,WALLSMATERIAL_MODE,\"Normalized information about building where the client lives, What is average (_AVG suffix), modus (_MODE suffix), median (_MEDI suffix) apartment size, common area, living area, age of building, number of elevators, number of entrances, state of the building, number of floor\",normalized\n",
      "93,application_{train|test}.csv,EMERGENCYSTATE_MODE,\"Normalized information about building where the client lives, What is average (_AVG suffix), modus (_MODE suffix), median (_MEDI suffix) apartment size, common area, living area, age of building, number of elevators, number of entrances, state of the building, number of floor\",normalized\n",
      "94,application_{train|test}.csv,OBS_30_CNT_SOCIAL_CIRCLE,How many observation of client's social surroundings with observable 30 DPD (days past due) default,\n",
      "95,application_{train|test}.csv,DEF_30_CNT_SOCIAL_CIRCLE,How many observation of client's social surroundings defaulted on 30 DPD (days past due) ,\n",
      "96,application_{train|test}.csv,OBS_60_CNT_SOCIAL_CIRCLE,How many observation of client's social surroundings with observable 60 DPD (days past due) default,\n",
      "97,application_{train|test}.csv,DEF_60_CNT_SOCIAL_CIRCLE,How many observation of client's social surroundings defaulted on 60 (days past due) DPD,\n",
      "98,application_{train|test}.csv,DAYS_LAST_PHONE_CHANGE,How many days before application did client change phone,\n",
      "99,application_{train|test}.csv,FLAG_DOCUMENT_2,Did client provide document 2,\n",
      "100,application_{train|test}.csv,FLAG_DOCUMENT_3,Did client provide document 3,\n",
      "101,application_{train|test}.csv,FLAG_DOCUMENT_4,Did client provide document 4,\n",
      "102,application_{train|test}.csv,FLAG_DOCUMENT_5,Did client provide document 5,\n",
      "103,application_{train|test}.csv,FLAG_DOCUMENT_6,Did client provide document 6,\n",
      "104,application_{train|test}.csv,FLAG_DOCUMENT_7,Did client provide document 7,\n",
      "105,application_{train|test}.csv,FLAG_DOCUMENT_8,Did client provide document 8,\n",
      "106,application_{train|test}.csv,FLAG_DOCUMENT_9,Did client provide document 9,\n",
      "107,application_{train|test}.csv,FLAG_DOCUMENT_10,Did client provide document 10,\n",
      "108,application_{train|test}.csv,FLAG_DOCUMENT_11,Did client provide document 11,\n",
      "109,application_{train|test}.csv,FLAG_DOCUMENT_12,Did client provide document 12,\n",
      "110,application_{train|test}.csv,FLAG_DOCUMENT_13,Did client provide document 13,\n",
      "111,application_{train|test}.csv,FLAG_DOCUMENT_14,Did client provide document 14,\n",
      "112,application_{train|test}.csv,FLAG_DOCUMENT_15,Did client provide document 15,\n",
      "113,application_{train|test}.csv,FLAG_DOCUMENT_16,Did client provide document 16,\n",
      "114,application_{train|test}.csv,FLAG_DOCUMENT_17,Did client provide document 17,\n",
      "115,application_{train|test}.csv,FLAG_DOCUMENT_18,Did client provide document 18,\n",
      "116,application_{train|test}.csv,FLAG_DOCUMENT_19,Did client provide document 19,\n",
      "117,application_{train|test}.csv,FLAG_DOCUMENT_20,Did client provide document 20,\n",
      "118,application_{train|test}.csv,FLAG_DOCUMENT_21,Did client provide document 21,\n",
      "119,application_{train|test}.csv,AMT_REQ_CREDIT_BUREAU_HOUR,Number of enquiries to Credit Bureau about the client one hour before application,\n",
      "120,application_{train|test}.csv,AMT_REQ_CREDIT_BUREAU_DAY,Number of enquiries to Credit Bureau about the client one day before application (excluding one hour before application),\n",
      "121,application_{train|test}.csv,AMT_REQ_CREDIT_BUREAU_WEEK,Number of enquiries to Credit Bureau about the client one week before application (excluding one day before application),\n",
      "122,application_{train|test}.csv,AMT_REQ_CREDIT_BUREAU_MON,Number of enquiries to Credit Bureau about the client one month before application (excluding one week before application),\n",
      "123,application_{train|test}.csv,AMT_REQ_CREDIT_BUREAU_QRT,Number of enquiries to Credit Bureau about the client 3 month before application (excluding one month before application),\n",
      "124,application_{train|test}.csv,AMT_REQ_CREDIT_BUREAU_YEAR,Number of enquiries to Credit Bureau about the client one day year (excluding last 3 months before application),\n",
      "125,bureau.csv,SK_ID_CURR,\"ID of loan in our sample - one loan in our sample can have 0,1,2 or more related previous credits in credit bureau \",hashed\n",
      "126,bureau.csv,SK_BUREAU_ID,Recoded ID of previous Credit Bureau credit related to our loan (unique coding for each loan application),hashed\n",
      "127,bureau.csv,CREDIT_ACTIVE,Status of the Credit Bureau (CB) reported credits,\n",
      "128,bureau.csv,CREDIT_CURRENCY,Recoded currency of the Credit Bureau credit,recoded\n",
      "129,bureau.csv,DAYS_CREDIT,How many days before current application did client apply for Credit Bureau credit,time only relative to the application\n",
      "130,bureau.csv,CREDIT_DAY_OVERDUE,Number of days past due on CB credit at the time of application for related loan in our sample,\n",
      "131,bureau.csv,DAYS_CREDIT_ENDDATE,Remaining duration of CB credit (in days) at the time of application in Home Credit,time only relative to the application\n",
      "132,bureau.csv,DAYS_ENDDATE_FACT,Days since CB credit ended at the time of application in Home Credit (only for closed credit),time only relative to the application\n",
      "133,bureau.csv,AMT_CREDIT_MAX_OVERDUE,Maximal amount overdue on the Credit Bureau credit so far (at application date of loan in our sample),\n",
      "134,bureau.csv,CNT_CREDIT_PROLONG,How many times was the Credit Bureau credit prolonged,\n",
      "135,bureau.csv,AMT_CREDIT_SUM,Current credit amount for the Credit Bureau credit,\n",
      "136,bureau.csv,AMT_CREDIT_SUM_DEBT,Current debt on Credit Bureau credit,\n",
      "137,bureau.csv,AMT_CREDIT_SUM_LIMIT,Current credit limit of credit card reported in Credit Bureau,\n",
      "138,bureau.csv,AMT_CREDIT_SUM_OVERDUE,Current amount overdue on Credit Bureau credit,\n",
      "139,bureau.csv,CREDIT_TYPE,\"Type of Credit Bureau credit (Car, cash,...)\",\n",
      "140,bureau.csv,DAYS_CREDIT_UPDATE,How many days before loan application did last information about the Credit Bureau credit come,time only relative to the application\n",
      "141,bureau.csv,AMT_ANNUITY,Annuity of the Credit Bureau credit,\n",
      "142,bureau_balance.csv,SK_BUREAU_ID,Recoded ID of Credit Bureau credit (unique coding for each application) - use this to join to CREDIT_BUREAU table ,hashed\n",
      "143,bureau_balance.csv,MONTHS_BALANCE,Month of balance relative to application date (-1 means the freshest balance date),time only relative to the application\n",
      "144,bureau_balance.csv,STATUS,\"Status of Credit Bureau loan during the month (active, closed, DPD0-30,� [C means closed, X means status unknown, 0 means no DPD, 1 means maximal did during month between 1-30, 2 means DPD 31-60,� 5 means DPD 120+ or sold or written off ] )\",\n",
      "145,POS_CASH_balance.csv,SK_ID_PREV ,\"ID of previous credit in Home Credit related to loan in our sample. (One loan in our sample can have 0,1,2 or more previous loans in Home Credit)\",\n",
      "146,POS_CASH_balance.csv,SK_ID_CURR,ID of loan in our sample,\n",
      "147,POS_CASH_balance.csv,MONTHS_BALANCE,\"Month of balance relative to application date (-1 means the information to the freshest monthly snapshot, 0 means the information at application - often it will be the same as -1 as many banks are not updating the information to Credit Bureau regularly )\",time only relative to the application\n",
      "148,POS_CASH_balance.csv,CNT_INSTALMENT,Term of previous credit (can change over time),\n",
      "149,POS_CASH_balance.csv,CNT_INSTALMENT_FUTURE,Installments left to pay on the previous credit,\n",
      "150,POS_CASH_balance.csv,NAME_CONTRACT_STATUS,Contract status during the month,\n",
      "151,POS_CASH_balance.csv,SK_DPD,DPD (days past due) during the month of previous credit,\n",
      "152,POS_CASH_balance.csv,SK_DPD_DEF,DPD during the month with tolerance (debts with low loan amounts are ignored) of the previous credit,\n",
      "153,credit_card_balance.csv,SK_ID_PREV ,\"ID of previous credit in Home credit related to loan in our sample. (One loan in our sample can have 0,1,2 or more previous loans in Home Credit)\",hashed\n",
      "154,credit_card_balance.csv,SK_ID_CURR,ID of loan in our sample,hashed\n",
      "155,credit_card_balance.csv,MONTHS_BALANCE,Month of balance relative to application date (-1 means the freshest balance date),time only relative to the application\n",
      "156,credit_card_balance.csv,AMT_BALANCE,Balance during the month of previous credit,\n",
      "157,credit_card_balance.csv,AMT_CREDIT_LIMIT_ACTUAL,Credit card limit during the month of the previous credit,\n",
      "158,credit_card_balance.csv,AMT_DRAWINGS_ATM_CURRENT,Amount drawing at ATM during the month of the previous credit,\n",
      "159,credit_card_balance.csv,AMT_DRAWINGS_CURRENT,Amount drawing during the month of the previous credit,\n",
      "160,credit_card_balance.csv,AMT_DRAWINGS_OTHER_CURRENT,Amount of other drawings during the month of the previous credit,\n",
      "161,credit_card_balance.csv,AMT_DRAWINGS_POS_CURRENT,Amount drawing or buying goods during the month of the previous credit,\n",
      "162,credit_card_balance.csv,AMT_INST_MIN_REGULARITY,Minimal installment for this month of the previous credit,\n",
      "163,credit_card_balance.csv,AMT_PAYMENT_CURRENT,How much did the client pay during the month on the previous credit,\n",
      "164,credit_card_balance.csv,AMT_PAYMENT_TOTAL_CURRENT,How much did the client pay during the month in total on the previous credit,\n",
      "165,credit_card_balance.csv,AMT_RECEIVABLE_PRINCIPAL,Amount receivable for principal on the previous credit,\n",
      "166,credit_card_balance.csv,AMT_RECIVABLE,Amount receivable on the previous credit,\n",
      "167,credit_card_balance.csv,AMT_TOTAL_RECEIVABLE,Total amount receivable on the previous credit,\n",
      "168,credit_card_balance.csv,CNT_DRAWINGS_ATM_CURRENT,Number of drawings at ATM during this month on the previous credit,\n",
      "169,credit_card_balance.csv,CNT_DRAWINGS_CURRENT,Number of drawings during this month on the previous credit,\n",
      "170,credit_card_balance.csv,CNT_DRAWINGS_OTHER_CURRENT,Number of other drawings during this month on the previous credit,\n",
      "171,credit_card_balance.csv,CNT_DRAWINGS_POS_CURRENT,Number of drawings for goods during this month on the previous credit,\n",
      "172,credit_card_balance.csv,CNT_INSTALMENT_MATURE_CUM,Number of paid installments on the previous credit,\n",
      "173,credit_card_balance.csv,NAME_CONTRACT_STATUS,\"Contract status (active signed,...) on the previous credit\",\n",
      "174,credit_card_balance.csv,SK_DPD,DPD (Days past due) during the month on the previous credit,\n",
      "175,credit_card_balance.csv,SK_DPD_DEF,DPD (Days past due) during the month with tolerance (debts with low loan amounts are ignored) of the previous credit,\n",
      "176,previous_application.csv,SK_ID_PREV ,\"ID of previous credit in Home credit related to loan in our sample. (One loan in our sample can have 0,1,2 or more previous loan applications in Home Credit, previous application could, but not necessarily have to lead to credit) \",hashed\n",
      "177,previous_application.csv,SK_ID_CURR,ID of loan in our sample,hashed\n",
      "178,previous_application.csv,NAME_CONTRACT_TYPE,\"Contract product type (Cash loan, consumer loan [POS] ,...) of the previous application\",\n",
      "179,previous_application.csv,AMT_ANNUITY,Annuity of previous application,\n",
      "180,previous_application.csv,AMT_APPLICATION,For how much credit did client ask on the previous application,\n",
      "181,previous_application.csv,AMT_CREDIT,\"Final credit amount on the previous application. This differs from AMT_APPLICATION in a way that the AMT_APPLICATION is the amount for which the client initially applied for, but during our approval process he could have received different amount - AMT_CREDIT\",\n",
      "182,previous_application.csv,AMT_DOWN_PAYMENT,Down payment on the previous application,\n",
      "183,previous_application.csv,AMT_GOODS_PRICE,Goods price of good that client asked for (if applicable) on the previous application,\n",
      "184,previous_application.csv,WEEKDAY_APPR_PROCESS_START,On which day of the week did the client apply for previous application,\n",
      "185,previous_application.csv,HOUR_APPR_PROCESS_START,Approximately at what day hour did the client apply for the previous application,rounded\n",
      "186,previous_application.csv,FLAG_LAST_APPL_PER_CONTRACT,Flag if it was last application for the previous contract. Sometimes by mistake of client or our clerk there could be more applications for one single contract,\n",
      "187,previous_application.csv,NFLAG_LAST_APPL_IN_DAY,Flag if the application was the last application per day of the client. Sometimes clients apply for more applications a day. Rarely it could also be error in our system that one application is in the database twice,\n",
      "188,previous_application.csv,NFLAG_MICRO_CASH,Flag Micro finance loan,\n",
      "189,previous_application.csv,RATE_DOWN_PAYMENT,Down payment rate normalized on previous credit,normalized\n",
      "190,previous_application.csv,RATE_INTEREST_PRIMARY,Interest rate normalized on previous credit,normalized\n",
      "191,previous_application.csv,RATE_INTEREST_PRIVILEGED,Interest rate normalized on previous credit,normalized\n",
      "192,previous_application.csv,NAME_CASH_LOAN_PURPOSE,Purpose of the cash loan,\n",
      "193,previous_application.csv,NAME_CONTRACT_STATUS,\"Contract status (approved, cancelled, ...) of previous application\",\n",
      "194,previous_application.csv,DAYS_DECISION,Relative to current application when was the decision about previous application made,time only relative to the application\n",
      "195,previous_application.csv,NAME_PAYMENT_TYPE,Payment method that client chose to pay for the previous application,\n",
      "196,previous_application.csv,CODE_REJECT_REASON,Why was the previous application rejected,\n",
      "197,previous_application.csv,NAME_TYPE_SUITE,Who accompanied client when applying for the previous application,\n",
      "198,previous_application.csv,NAME_CLIENT_TYPE,Was the client old or new client when applying for the previous application,\n",
      "199,previous_application.csv,NAME_GOODS_CATEGORY,What kind of goods did the client apply for in the previous application,\n",
      "200,previous_application.csv,NAME_PORTFOLIO,\"Was the previous application for CASH, POS, CAR, �\",\n",
      "201,previous_application.csv,NAME_PRODUCT_TYPE,Was the previous application x-sell o walk-in,\n",
      "202,previous_application.csv,CHANNEL_TYPE,Through which channel we acquired the client on the previous application,\n",
      "203,previous_application.csv,SELLERPLACE_AREA,Selling area of seller place of the previous application,\n",
      "204,previous_application.csv,NAME_SELLER_INDUSTRY,The industry of the seller,\n",
      "205,previous_application.csv,CNT_PAYMENT,Term of previous credit at application of the previous application,\n",
      "206,previous_application.csv,NAME_YIELD_GROUP,Grouped interest rate into small medium and high of the previous application,grouped\n",
      "207,previous_application.csv,PRODUCT_COMBINATION,Detailed product combination of the previous application,\n",
      "208,previous_application.csv,DAYS_FIRST_DRAWING,Relative to application date of current application when was the first disbursement of the previous application,time only relative to the application\n",
      "209,previous_application.csv,DAYS_FIRST_DUE,Relative to application date of current application when was the first due supposed to be of the previous application,time only relative to the application\n",
      "210,previous_application.csv,DAYS_LAST_DUE_1ST_VERSION,Relative to application date of current application when was the first due of the previous application,time only relative to the application\n",
      "211,previous_application.csv,DAYS_LAST_DUE,Relative to application date of current application when was the last due date of the previous application,time only relative to the application\n",
      "212,previous_application.csv,DAYS_TERMINATION,Relative to application date of current application when was the expected termination of the previous application,time only relative to the application\n",
      "213,previous_application.csv,NFLAG_INSURED_ON_APPROVAL,Did the client requested insurance during the previous application,\n",
      "214,installments_payments.csv,SK_ID_PREV ,\"ID of previous credit in Home credit related to loan in our sample. (One loan in our sample can have 0,1,2 or more previous loans in Home Credit)\",hashed\n",
      "215,installments_payments.csv,SK_ID_CURR,ID of loan in our sample,hashed\n",
      "216,installments_payments.csv,NUM_INSTALMENT_VERSION,Version of installment calendar (0 is for credit card) of previous credit. Change of installment version from month to month signifies that some parameter of payment calendar has changed,\n",
      "217,installments_payments.csv,NUM_INSTALMENT_NUMBER,On which installment we observe payment,\n",
      "218,installments_payments.csv,DAYS_INSTALMENT,When the installment of previous credit was supposed to be paid (relative to application date of current loan),time only relative to the application\n",
      "219,installments_payments.csv,DAYS_ENTRY_PAYMENT,When was the installments of previous credit paid actually (relative to application date of current loan),time only relative to the application\n",
      "220,installments_payments.csv,AMT_INSTALMENT,What was the prescribed installment amount of previous credit on this installment,\n",
      "221,installments_payments.csv,AMT_PAYMENT,What the client actually paid on previous credit on this installment,\n"
     ]
    }
   ],
   "source": [
    "!cat input/HomeCredit_columns_description.csv"
   ]
  },
  {
   "cell_type": "markdown",
   "metadata": {},
   "source": [
    "各个文件的字段含义在*HomeCredit_columns_description.csv* 中都有介绍。\n",
    "\n",
    "| 字段                                                      | 含义                                                         |\n",
    "| --------------------------------------------------------- | ------------------------------------------------------------ |\n",
    "| SK_ID_CURR                                                | 此次申请的ID                                                 |\n",
    "| TARGET                                                    | 申请人本次申请的还款风险：1-风险较高；0-风险较低             |\n",
    "| NAME_CONTRACT_TYPE                                        | 贷款类型：cash(现金)还是revolving(周转金，一次申请，多次循环提取) |\n",
    "| CODE_GENDER                                               | 申请人性别                                                   |\n",
    "| FLAG_OWN_CAR                                              | 申请人是否有车                                               |\n",
    "| FLAG_OWN_REALTY                                           | 申请人是否有房                                               |\n",
    "| CNT_CHILDREN                                              | 申请人子女个数                                               |\n",
    "| AMT_INCOME_TOTAL                                          | 申请人收入状况                                               |\n",
    "| AMT_CREDIT                                                | 此次申请的贷款金额                                           |\n",
    "| AMT_ANNUITY                                               | 贷款年金                                                     |\n",
    "| AMT_GOODS_PRICE                                           | 如果是消费贷款，改字段表示商品的实际价格                     |\n",
    "| NAME_TYPE_SUITE                                           | 申请人此次申请的陪同人员                                     |\n",
    "| NAME_INCOME_TYPE                                          | 申请人收入类型                                               |\n",
    "| NAME_EDUCATION_TYPE                                       | 申请人受教育程度                                             |\n",
    "| NAME_FAMILY_STATUS                                        | 申请人婚姻状况                                               |\n",
    "| NAME_HOUSING_TYPE                                         | 申请人居住状况（租房，已购房，和父母一起住等）               |\n",
    "| REGION_POPULATION_RELATIVE                                | 申请人居住地人口密度，已标准化                               |\n",
    "| DAYS_BIRTH                                                | 申请人出生日（距离申请当日的天数，负值）                     |\n",
    "| DAYS_EMPLOYED                                             | 申请人当前工作的工作年限（距离申请当日的天数，负值）         |\n",
    "| DAYS_REGISTRATION                                         | 申请人最近一次修改注册信息的时间（距离申请当日的天数，负值） |\n",
    "| DAYS_ID_PUBLISH                                           | 申请人最近一次修改申请贷款的身份证明文件的时间（距离申请当日的天数，负值） |\n",
    "| FLAG_MOBIL                                                | 申请人是否提供个人电话（1-yes，0-no）                        |\n",
    "| FLAG_EMP_PHONE                                            | 申请人是否提供家庭电话（1-yes，0-no）                        |\n",
    "| FLAG_WORK_PHONE                                           | 申请人是否提供工作电话（1-yes，0-no）                        |\n",
    "| FLAG_CONT_MOBILE                                          | 申请人个人电话是否能拨通（1-yes，0-no）                      |\n",
    "| FLAG_EMAIL                                                | 申请人是否提供电子邮箱（1-yes，0-no）                        |\n",
    "| OCCUPATION_TYPE                                           | 申请人职务                                                   |\n",
    "| REGION_RATING_CLIENT                                      | 本公司对申请人居住区域的评分等级（1,2,3）                    |\n",
    "| REGION_RATING_CLIENT_W_CITY                               | 在考虑所在城市的情况下，本公司对申请人居住区域的评分等级（1,2,3） |\n",
    "| WEEKDAY_APPR_PROCESS_START                                | 申请人发起申请日是星期几                                     |\n",
    "| HOUR_APPR_PROCESS_START                                   | 申请人发起申请的hour                                         |\n",
    "| REG_REGION_NOT_LIVE_REGION                                | 申请人提供的的永久地址和联系地址是否匹配（1-不匹配，2-匹配，区域级别的） |\n",
    "| REG_REGION_NOT_WORK_REGION                                | 申请人提供的的永久地址和工作地址是否匹配（1-不匹配，2-匹配，区域级别的） |\n",
    "| LIVE_REGION_NOT_WORK_REGION                               | 申请人提供的的联系地址和工作地址是否匹配（1-不匹配，2-匹配，区域级别的） |\n",
    "| REG_CITY_NOT_LIVE_CITY                                    | 申请人提供的的永久地址和联系地址是否匹配（1-不匹配，2-匹配，城市级别的） |\n",
    "| REG_CITY_NOT_WORK_CITY                                    | 申请人提供的的永久地址和工作地址是否匹配（1-不匹配，2-匹配，城市级别的） |\n",
    "| LIVE_CITY_NOT_WORK_CITY                                   | 申请人提供的的联系地址和工作地址是否匹配（1-不匹配，2-匹配，城市级别的） |\n",
    "| ORGANIZATION_TYPE                                         | 申请人工作所属组织类型                                       |\n",
    "| EXT_SOURCE_1                                              | 外部数据源1的标准化评分                                      |\n",
    "| EXT_SOURCE_2                                              | 外部数据源2的标准化评分                                      |\n",
    "| EXT_SOURCE_3                                              | 外部数据源3的标准化评分                                      |\n",
    "| APARTMENTS_AVG <----> EMERGENCYSTATE_MODE                 | 申请人居住环境各项指标的标准化评分                           |\n",
    "| OBS_30_CNT_SOCIAL_CIRC LE <----> DEF_60_CNT_SOCIAL_CIRCLE | 这部分字段含义没看懂                                         |\n",
    "| DAYS_LAST_PHONE_CHANGE                                    | 申请人最近一次修改手机号码的时间（距离申请当日的天数，负值） |\n",
    "| FLAG_DOCUMENT_2 <----> FLAG_DOCUMENT_21                   | 申请人是否额外提供了文件2,3,4. . .21                         |\n",
    "| AMT_REQ_CREDIT_BUREAU_HOUR                                | 申请人发起申请前1个小时以内，被查询征信的次数                |\n",
    "| AMT_REQ_CREDIT_BUREAU_DAY                                 | 申请人发起申请前一天以内，被查询征信的次数                   |\n",
    "| AMT_REQ_CREDIT_BUREAU_WEEK                                | 申请人发起申请前一周以内，被查询征信的次数                   |\n",
    "| AMT_REQ_CREDIT_BUREAU_MONTH                               | 申请人发起申请前一个月以内，被查询征信的次数                 |\n",
    "| AMT_REQ_CREDIT_BUREAU_QRT                                 | 申请人发起申请前一个季度以内，被查询征信的次数               |\n",
    "| AMT_REQ_CREDIT_BUREAU_YEAR                                | 申请人发起申请前一年以内，被查询征信的次数                   |\n"
   ]
  },
  {
   "cell_type": "code",
   "execution_count": 1,
   "metadata": {
    "execution": {
     "iopub.execute_input": "2021-07-26T10:25:59.948823Z",
     "iopub.status.busy": "2021-07-26T10:25:59.948287Z",
     "iopub.status.idle": "2021-07-26T10:26:02.484924Z",
     "shell.execute_reply": "2021-07-26T10:26:02.484389Z",
     "shell.execute_reply.started": "2021-07-26T10:25:59.948775Z"
    },
    "tags": []
   },
   "outputs": [],
   "source": [
    "import pandas as pd \n",
    "import numpy as np\n",
    "import matplotlib\n",
    "import matplotlib.pyplot as plt\n",
    "import seaborn as sns\n",
    "%matplotlib inline "
   ]
  },
  {
   "cell_type": "code",
   "execution_count": 2,
   "metadata": {
    "execution": {
     "iopub.execute_input": "2021-07-26T10:26:02.486056Z",
     "iopub.status.busy": "2021-07-26T10:26:02.485765Z",
     "iopub.status.idle": "2021-07-26T10:26:02.489106Z",
     "shell.execute_reply": "2021-07-26T10:26:02.488522Z",
     "shell.execute_reply.started": "2021-07-26T10:26:02.486034Z"
    },
    "tags": []
   },
   "outputs": [],
   "source": [
    "PATH=\"./input\""
   ]
  },
  {
   "cell_type": "code",
   "execution_count": 3,
   "metadata": {
    "execution": {
     "iopub.execute_input": "2021-07-26T10:26:02.490202Z",
     "iopub.status.busy": "2021-07-26T10:26:02.489957Z",
     "iopub.status.idle": "2021-07-26T10:26:35.057507Z",
     "shell.execute_reply": "2021-07-26T10:26:35.056962Z",
     "shell.execute_reply.started": "2021-07-26T10:26:02.490180Z"
    },
    "tags": []
   },
   "outputs": [],
   "source": [
    "application_train = pd.read_csv(PATH+\"/application_train.csv\")\n",
    "application_test = pd.read_csv(PATH+\"/application_test.csv\")\n",
    "bureau = pd.read_csv(PATH+\"/bureau.csv\")\n",
    "bureau_balance = pd.read_csv(PATH+\"/bureau_balance.csv\")\n",
    "credit_card_balance = pd.read_csv(PATH+\"/credit_card_balance.csv\")\n",
    "installments_payments = pd.read_csv(PATH+\"/installments_payments.csv\")\n",
    "previous_application = pd.read_csv(PATH+\"/previous_application.csv\")\n",
    "POS_CASH_balance = pd.read_csv(PATH+\"/POS_CASH_balance.csv\")"
   ]
  },
  {
   "cell_type": "code",
   "execution_count": 13,
   "metadata": {
    "execution": {
     "iopub.execute_input": "2021-07-26T15:43:47.335687Z",
     "iopub.status.busy": "2021-07-26T15:43:47.335110Z",
     "iopub.status.idle": "2021-07-26T15:43:47.365499Z",
     "shell.execute_reply": "2021-07-26T15:43:47.364955Z",
     "shell.execute_reply.started": "2021-07-26T15:43:47.335641Z"
    },
    "tags": []
   },
   "outputs": [
    {
     "data": {
      "text/html": [
       "<div>\n",
       "<style scoped>\n",
       "    .dataframe tbody tr th:only-of-type {\n",
       "        vertical-align: middle;\n",
       "    }\n",
       "\n",
       "    .dataframe tbody tr th {\n",
       "        vertical-align: top;\n",
       "    }\n",
       "\n",
       "    .dataframe thead th {\n",
       "        text-align: right;\n",
       "    }\n",
       "</style>\n",
       "<table border=\"1\" class=\"dataframe\">\n",
       "  <thead>\n",
       "    <tr style=\"text-align: right;\">\n",
       "      <th></th>\n",
       "      <th>SK_ID_CURR</th>\n",
       "      <th>DAYS_CREDIT_UPDATE</th>\n",
       "      <th>CREDIT_ACTIVE</th>\n",
       "      <th>DAYS_CREDIT</th>\n",
       "      <th>DAYS_CREDIT_ENDDATE</th>\n",
       "    </tr>\n",
       "  </thead>\n",
       "  <tbody>\n",
       "    <tr>\n",
       "      <th>0</th>\n",
       "      <td>215354</td>\n",
       "      <td>-131</td>\n",
       "      <td>Closed</td>\n",
       "      <td>-497</td>\n",
       "      <td>-153.0</td>\n",
       "    </tr>\n",
       "    <tr>\n",
       "      <th>1</th>\n",
       "      <td>215354</td>\n",
       "      <td>-20</td>\n",
       "      <td>Active</td>\n",
       "      <td>-208</td>\n",
       "      <td>1075.0</td>\n",
       "    </tr>\n",
       "    <tr>\n",
       "      <th>2</th>\n",
       "      <td>215354</td>\n",
       "      <td>-16</td>\n",
       "      <td>Active</td>\n",
       "      <td>-203</td>\n",
       "      <td>528.0</td>\n",
       "    </tr>\n",
       "    <tr>\n",
       "      <th>3</th>\n",
       "      <td>215354</td>\n",
       "      <td>-16</td>\n",
       "      <td>Active</td>\n",
       "      <td>-203</td>\n",
       "      <td>NaN</td>\n",
       "    </tr>\n",
       "    <tr>\n",
       "      <th>4</th>\n",
       "      <td>215354</td>\n",
       "      <td>-21</td>\n",
       "      <td>Active</td>\n",
       "      <td>-629</td>\n",
       "      <td>1197.0</td>\n",
       "    </tr>\n",
       "    <tr>\n",
       "      <th>...</th>\n",
       "      <td>...</td>\n",
       "      <td>...</td>\n",
       "      <td>...</td>\n",
       "      <td>...</td>\n",
       "      <td>...</td>\n",
       "    </tr>\n",
       "    <tr>\n",
       "      <th>1716423</th>\n",
       "      <td>259355</td>\n",
       "      <td>-19</td>\n",
       "      <td>Active</td>\n",
       "      <td>-44</td>\n",
       "      <td>-30.0</td>\n",
       "    </tr>\n",
       "    <tr>\n",
       "      <th>1716424</th>\n",
       "      <td>100044</td>\n",
       "      <td>-2493</td>\n",
       "      <td>Closed</td>\n",
       "      <td>-2648</td>\n",
       "      <td>-2433.0</td>\n",
       "    </tr>\n",
       "    <tr>\n",
       "      <th>1716425</th>\n",
       "      <td>100044</td>\n",
       "      <td>-967</td>\n",
       "      <td>Closed</td>\n",
       "      <td>-1809</td>\n",
       "      <td>-1628.0</td>\n",
       "    </tr>\n",
       "    <tr>\n",
       "      <th>1716426</th>\n",
       "      <td>246829</td>\n",
       "      <td>-1508</td>\n",
       "      <td>Closed</td>\n",
       "      <td>-1878</td>\n",
       "      <td>-1513.0</td>\n",
       "    </tr>\n",
       "    <tr>\n",
       "      <th>1716427</th>\n",
       "      <td>246829</td>\n",
       "      <td>-387</td>\n",
       "      <td>Closed</td>\n",
       "      <td>-463</td>\n",
       "      <td>NaN</td>\n",
       "    </tr>\n",
       "  </tbody>\n",
       "</table>\n",
       "<p>1716428 rows × 5 columns</p>\n",
       "</div>"
      ],
      "text/plain": [
       "         SK_ID_CURR  DAYS_CREDIT_UPDATE CREDIT_ACTIVE  DAYS_CREDIT  \\\n",
       "0            215354                -131        Closed         -497   \n",
       "1            215354                 -20        Active         -208   \n",
       "2            215354                 -16        Active         -203   \n",
       "3            215354                 -16        Active         -203   \n",
       "4            215354                 -21        Active         -629   \n",
       "...             ...                 ...           ...          ...   \n",
       "1716423      259355                 -19        Active          -44   \n",
       "1716424      100044               -2493        Closed        -2648   \n",
       "1716425      100044                -967        Closed        -1809   \n",
       "1716426      246829               -1508        Closed        -1878   \n",
       "1716427      246829                -387        Closed         -463   \n",
       "\n",
       "         DAYS_CREDIT_ENDDATE  \n",
       "0                     -153.0  \n",
       "1                     1075.0  \n",
       "2                      528.0  \n",
       "3                        NaN  \n",
       "4                     1197.0  \n",
       "...                      ...  \n",
       "1716423                -30.0  \n",
       "1716424              -2433.0  \n",
       "1716425              -1628.0  \n",
       "1716426              -1513.0  \n",
       "1716427                  NaN  \n",
       "\n",
       "[1716428 rows x 5 columns]"
      ]
     },
     "execution_count": 13,
     "metadata": {},
     "output_type": "execute_result"
    }
   ],
   "source": [
    "bureau[['SK_ID_CURR','DAYS_CREDIT_UPDATE', 'CREDIT_ACTIVE', 'DAYS_CREDIT', 'DAYS_CREDIT_ENDDATE']]"
   ]
  },
  {
   "cell_type": "code",
   "execution_count": 7,
   "metadata": {
    "execution": {
     "iopub.execute_input": "2021-07-12T15:47:58.954433Z",
     "iopub.status.busy": "2021-07-12T15:47:58.953897Z",
     "iopub.status.idle": "2021-07-12T15:47:58.965648Z",
     "shell.execute_reply": "2021-07-12T15:47:58.964978Z",
     "shell.execute_reply.started": "2021-07-12T15:47:58.954387Z"
    }
   },
   "outputs": [
    {
     "name": "stdout",
     "output_type": "stream",
     "text": [
      "application_train -  rows: 307511  columns: 122\n",
      "application_test -  rows: 48744  columns: 121\n",
      "bureau -  rows: 1716428  columns: 17\n",
      "bureau_balance -  rows: 27299925  columns: 3\n",
      "credit_card_balance -  rows: 3840312  columns: 23\n",
      "installments_payments -  rows: 13605401  columns: 8\n",
      "previous_application -  rows: 1670214  columns: 37\n",
      "POS_CASH_balance -  rows: 10001358  columns: 8\n"
     ]
    }
   ],
   "source": [
    "print(\"application_train -  rows:\",application_train.shape[0],\" columns:\", application_train.shape[1])\n",
    "print(\"application_test -  rows:\",application_test.shape[0],\" columns:\", application_test.shape[1])\n",
    "print(\"bureau -  rows:\",bureau.shape[0],\" columns:\", bureau.shape[1])\n",
    "print(\"bureau_balance -  rows:\",bureau_balance.shape[0],\" columns:\", bureau_balance.shape[1])\n",
    "print(\"credit_card_balance -  rows:\",credit_card_balance.shape[0],\" columns:\", credit_card_balance.shape[1])\n",
    "print(\"installments_payments -  rows:\",installments_payments.shape[0],\" columns:\", installments_payments.shape[1])\n",
    "print(\"previous_application -  rows:\",previous_application.shape[0],\" columns:\", previous_application.shape[1])\n",
    "print(\"POS_CASH_balance -  rows:\",POS_CASH_balance.shape[0],\" columns:\", POS_CASH_balance.shape[1])"
   ]
  },
  {
   "cell_type": "code",
   "execution_count": 10,
   "metadata": {
    "execution": {
     "iopub.execute_input": "2021-07-26T10:28:34.114021Z",
     "iopub.status.busy": "2021-07-26T10:28:34.113459Z",
     "iopub.status.idle": "2021-07-26T10:28:34.212300Z",
     "shell.execute_reply": "2021-07-26T10:28:34.211812Z",
     "shell.execute_reply.started": "2021-07-26T10:28:34.113975Z"
    },
    "tags": []
   },
   "outputs": [
    {
     "data": {
      "text/plain": [
       "<AxesSubplot:xlabel='TARGET', ylabel='EXT_SOURCE_1'>"
      ]
     },
     "execution_count": 10,
     "metadata": {},
     "output_type": "execute_result"
    },
    {
     "data": {
      "image/png": "[encoded data removed]",
      "text/plain": [
       "<Figure size 432x288 with 1 Axes>"
      ]
     },
     "metadata": {
      "needs_background": "light"
     },
     "output_type": "display_data"
    }
   ],
   "source": [
    "sns.boxplot(x='TARGET', y='EXT_SOURCE_1', data = application_train)"
   ]
  },
  {
   "cell_type": "code",
   "execution_count": 9,
   "metadata": {
    "execution": {
     "iopub.execute_input": "2021-07-26T10:28:28.838283Z",
     "iopub.status.busy": "2021-07-26T10:28:28.838050Z",
     "iopub.status.idle": "2021-07-26T10:28:28.953353Z",
     "shell.execute_reply": "2021-07-26T10:28:28.952147Z",
     "shell.execute_reply.started": "2021-07-26T10:28:28.838266Z"
    },
    "tags": []
   },
   "outputs": [
    {
     "data": {
      "text/plain": [
       "<AxesSubplot:xlabel='TARGET', ylabel='EXT_SOURCE_2'>"
      ]
     },
     "execution_count": 9,
     "metadata": {},
     "output_type": "execute_result"
    },
    {
     "data": {
      "image/png": "[encoded data removed]",
      "text/plain": [
       "<Figure size 432x288 with 1 Axes>"
      ]
     },
     "metadata": {
      "needs_background": "light"
     },
     "output_type": "display_data"
    }
   ],
   "source": [
    "sns.boxplot(x='TARGET', y='EXT_SOURCE_2', data = application_train)"
   ]
  },
  {
   "cell_type": "code",
   "execution_count": 11,
   "metadata": {
    "execution": {
     "iopub.execute_input": "2021-07-26T10:28:39.493840Z",
     "iopub.status.busy": "2021-07-26T10:28:39.493283Z",
     "iopub.status.idle": "2021-07-26T10:28:39.590005Z",
     "shell.execute_reply": "2021-07-26T10:28:39.589469Z",
     "shell.execute_reply.started": "2021-07-26T10:28:39.493795Z"
    },
    "tags": []
   },
   "outputs": [
    {
     "data": {
      "text/plain": [
       "<AxesSubplot:xlabel='TARGET', ylabel='EXT_SOURCE_3'>"
      ]
     },
     "execution_count": 11,
     "metadata": {},
     "output_type": "execute_result"
    },
    {
     "data": {
      "image/png": "[encoded data removed]",
      "text/plain": [
       "<Figure size 432x288 with 1 Axes>"
      ]
     },
     "metadata": {
      "needs_background": "light"
     },
     "output_type": "display_data"
    }
   ],
   "source": [
    "sns.boxplot(x='TARGET', y='EXT_SOURCE_3', data = application_train)"
   ]
  },
  {
   "cell_type": "code",
   "execution_count": 10,
   "metadata": {
    "execution": {
     "iopub.execute_input": "2021-07-12T15:50:04.142324Z",
     "iopub.status.busy": "2021-07-12T15:50:04.141751Z",
     "iopub.status.idle": "2021-07-12T15:50:04.233918Z",
     "shell.execute_reply": "2021-07-12T15:50:04.233453Z",
     "shell.execute_reply.started": "2021-07-12T15:50:04.142277Z"
    }
   },
   "outputs": [
    {
     "data": {
      "image/png": "[encoded data removed]",
      "text/plain": [
       "<Figure size 432x432 with 1 Axes>"
      ]
     },
     "metadata": {
      "needs_background": "light"
     },
     "output_type": "display_data"
    }
   ],
   "source": [
    "temp = application_train[\"TARGET\"].value_counts()\n",
    "df = pd.DataFrame({'labels': temp.index,\n",
    "                   'values': temp.values\n",
    "                  })\n",
    "plt.figure(figsize = (6,6))\n",
    "plt.title('Application loans repayed - train dataset')\n",
    "sns.set_color_codes(\"pastel\")\n",
    "sns.barplot(x = 'labels', y=\"values\", data=df)\n",
    "locs, labels = plt.xticks()\n",
    "plt.show()"
   ]
  },
  {
   "cell_type": "code",
   "execution_count": 11,
   "metadata": {
    "execution": {
     "iopub.execute_input": "2021-07-12T15:50:30.857714Z",
     "iopub.status.busy": "2021-07-12T15:50:30.857145Z",
     "iopub.status.idle": "2021-07-12T15:50:30.870303Z",
     "shell.execute_reply": "2021-07-12T15:50:30.869678Z",
     "shell.execute_reply.started": "2021-07-12T15:50:30.857668Z"
    }
   },
   "outputs": [],
   "source": [
    "def plot_stats(feature,label_rotation=False,horizontal_layout=True):\n",
    "    temp = application_train[feature].value_counts()\n",
    "    df1 = pd.DataFrame({feature: temp.index,'Number of contracts': temp.values})\n",
    "\n",
    "    # Calculate the percentage of target=1 per category value\n",
    "    cat_perc = application_train[[feature, 'TARGET']].groupby([feature],as_index=False).mean()\n",
    "    cat_perc.sort_values(by='TARGET', ascending=False, inplace=True)\n",
    "    \n",
    "    if(horizontal_layout):\n",
    "        fig, (ax1, ax2) = plt.subplots(ncols=2, figsize=(12,6))\n",
    "    else:\n",
    "        fig, (ax1, ax2) = plt.subplots(nrows=2, figsize=(12,14))\n",
    "    sns.set_color_codes(\"pastel\")\n",
    "    s = sns.barplot(ax=ax1, x = feature, y=\"Number of contracts\",data=df1)\n",
    "    if(label_rotation):\n",
    "        s.set_xticklabels(s.get_xticklabels(),rotation=90)\n",
    "    \n",
    "    s = sns.barplot(ax=ax2, x = feature, y='TARGET', order=cat_perc[feature], data=cat_perc)\n",
    "    if(label_rotation):\n",
    "        s.set_xticklabels(s.get_xticklabels(),rotation=90)\n",
    "    plt.ylabel('Percent of target with value 1 [%]', fontsize=10)\n",
    "    plt.tick_params(axis='both', which='major', labelsize=10)\n",
    "\n",
    "    plt.show();"
   ]
  },
  {
   "cell_type": "code",
   "execution_count": 12,
   "metadata": {
    "execution": {
     "iopub.execute_input": "2021-07-12T15:50:46.549483Z",
     "iopub.status.busy": "2021-07-12T15:50:46.548941Z",
     "iopub.status.idle": "2021-07-12T15:50:46.734331Z",
     "shell.execute_reply": "2021-07-12T15:50:46.733201Z",
     "shell.execute_reply.started": "2021-07-12T15:50:46.549432Z"
    }
   },
   "outputs": [
    {
     "data": {
      "image/png": "[encoded data removed]",
      "text/plain": [
       "<Figure size 864x432 with 2 Axes>"
      ]
     },
     "metadata": {
      "needs_background": "light"
     },
     "output_type": "display_data"
    }
   ],
   "source": [
    "plot_stats('NAME_CONTRACT_TYPE')\n"
   ]
  },
  {
   "cell_type": "code",
   "execution_count": 13,
   "metadata": {
    "execution": {
     "iopub.execute_input": "2021-07-12T15:51:38.942657Z",
     "iopub.status.busy": "2021-07-12T15:51:38.942090Z",
     "iopub.status.idle": "2021-07-12T15:51:39.130148Z",
     "shell.execute_reply": "2021-07-12T15:51:39.129665Z",
     "shell.execute_reply.started": "2021-07-12T15:51:38.942610Z"
    }
   },
   "outputs": [
    {
     "data": {
      "image/png": "[encoded data removed]",
      "text/plain": [
       "<Figure size 864x432 with 2 Axes>"
      ]
     },
     "metadata": {
      "needs_background": "light"
     },
     "output_type": "display_data"
    }
   ],
   "source": [
    "plot_stats('CODE_GENDER')\n"
   ]
  },
  {
   "cell_type": "code",
   "execution_count": 14,
   "metadata": {
    "execution": {
     "iopub.execute_input": "2021-07-12T15:52:27.494895Z",
     "iopub.status.busy": "2021-07-12T15:52:27.494306Z",
     "iopub.status.idle": "2021-07-12T15:52:27.733775Z",
     "shell.execute_reply": "2021-07-12T15:52:27.733284Z",
     "shell.execute_reply.started": "2021-07-12T15:52:27.494847Z"
    }
   },
   "outputs": [
    {
     "data": {
      "image/png": "[encoded data removed]",
      "text/plain": [
       "<Figure size 864x432 with 2 Axes>"
      ]
     },
     "metadata": {
      "needs_background": "light"
     },
     "output_type": "display_data"
    }
   ],
   "source": [
    "plot_stats('FLAG_OWN_CAR')\n"
   ]
  },
  {
   "cell_type": "code",
   "execution_count": 15,
   "metadata": {
    "execution": {
     "iopub.execute_input": "2021-07-12T15:52:51.454161Z",
     "iopub.status.busy": "2021-07-12T15:52:51.453600Z",
     "iopub.status.idle": "2021-07-12T15:52:51.684525Z",
     "shell.execute_reply": "2021-07-12T15:52:51.684039Z",
     "shell.execute_reply.started": "2021-07-12T15:52:51.454114Z"
    }
   },
   "outputs": [
    {
     "data": {
      "image/png": "[encoded data removed]",
      "text/plain": [
       "<Figure size 864x432 with 2 Axes>"
      ]
     },
     "metadata": {
      "needs_background": "light"
     },
     "output_type": "display_data"
    }
   ],
   "source": [
    "plot_stats('NAME_FAMILY_STATUS',True, True)\n"
   ]
  },
  {
   "cell_type": "code",
   "execution_count": null,
   "metadata": {},
   "outputs": [],
   "source": []
  }
 ],
 "metadata": {
  "kernelspec": {
   "display_name": "Python 3",
   "language": "python",
   "name": "python3"
  },
  "language_info": {
   "codemirror_mode": {
    "name": "ipython",
    "version": 3
   },
   "file_extension": ".py",
   "mimetype": "text/x-python",
   "name": "python",
   "nbconvert_exporter": "python",
   "pygments_lexer": "ipython3",
   "version": "3.6.9"
  }
 },
 "nbformat": 4,
 "nbformat_minor": 4
}
