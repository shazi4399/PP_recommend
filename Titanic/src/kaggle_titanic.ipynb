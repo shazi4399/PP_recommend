{
 "cells": [
  {
   "cell_type": "code",
   "execution_count": 1,
   "id": "db1129e7",
   "metadata": {
    "_cell_guid": "b1076dfc-b9ad-4769-8c92-a6c4dae69d19",
    "_uuid": "8f2839f25d086af736a60e9eeb907d3b93b6e0e5",
    "execution": {
     "iopub.execute_input": "2022-11-06T09:07:32.152590Z",
     "iopub.status.busy": "2022-11-06T09:07:32.151853Z",
     "iopub.status.idle": "2022-11-06T09:07:32.164993Z",
     "shell.execute_reply": "2022-11-06T09:07:32.163409Z"
    },
    "papermill": {
     "duration": 0.033408,
     "end_time": "2022-11-06T09:07:32.168040",
     "exception": false,
     "start_time": "2022-11-06T09:07:32.134632",
     "status": "completed"
    },
    "tags": []
   },
   "outputs": [
    {
     "ename": "ValueError",
     "evalue": "numpy.ndarray size changed, may indicate binary incompatibility. Expected 96 from C header, got 88 from PyObject",
     "output_type": "error",
     "traceback": [
      "\u001B[0;31m---------------------------------------------------------------------------\u001B[0m",
      "\u001B[0;31mValueError\u001B[0m                                Traceback (most recent call last)",
      "Input \u001B[0;32mIn [1]\u001B[0m, in \u001B[0;36m<cell line: 6>\u001B[0;34m()\u001B[0m\n\u001B[1;32m      1\u001B[0m \u001B[38;5;66;03m# This Python 3 environment comes with many helpful analytics libraries installed\u001B[39;00m\n\u001B[1;32m      2\u001B[0m \u001B[38;5;66;03m# It is defined by the kaggle/python Docker image: https://github.com/kaggle/docker-python\u001B[39;00m\n\u001B[1;32m      3\u001B[0m \u001B[38;5;66;03m# For example, here's several helpful packages to load\u001B[39;00m\n\u001B[1;32m      5\u001B[0m \u001B[38;5;28;01mimport\u001B[39;00m \u001B[38;5;21;01mnumpy\u001B[39;00m \u001B[38;5;28;01mas\u001B[39;00m \u001B[38;5;21;01mnp\u001B[39;00m \u001B[38;5;66;03m# linear algebra\u001B[39;00m\n\u001B[0;32m----> 6\u001B[0m \u001B[38;5;28;01mimport\u001B[39;00m \u001B[38;5;21;01mpandas\u001B[39;00m \u001B[38;5;28;01mas\u001B[39;00m \u001B[38;5;21;01mpd\u001B[39;00m \u001B[38;5;66;03m# data processing, CSV file I/O (e.g. pd.read_csv)\u001B[39;00m\n\u001B[1;32m      8\u001B[0m \u001B[38;5;66;03m# Input data files are available in the read-only \"../input/\" directory\u001B[39;00m\n\u001B[1;32m      9\u001B[0m \u001B[38;5;66;03m# For example, running this (by clicking run or pressing Shift+Enter) will list all files under the input directory\u001B[39;00m\n\u001B[1;32m     11\u001B[0m \u001B[38;5;28;01mimport\u001B[39;00m \u001B[38;5;21;01mos\u001B[39;00m\n",
      "File \u001B[0;32m~/miniforge3/lib/python3.9/site-packages/pandas/__init__.py:29\u001B[0m, in \u001B[0;36m<module>\u001B[0;34m\u001B[0m\n\u001B[1;32m     22\u001B[0m \u001B[38;5;28;01mfrom\u001B[39;00m \u001B[38;5;21;01mpandas\u001B[39;00m\u001B[38;5;21;01m.\u001B[39;00m\u001B[38;5;21;01mcompat\u001B[39;00m\u001B[38;5;21;01m.\u001B[39;00m\u001B[38;5;21;01mnumpy\u001B[39;00m \u001B[38;5;28;01mimport\u001B[39;00m (\n\u001B[1;32m     23\u001B[0m     np_version_under1p17 \u001B[38;5;28;01mas\u001B[39;00m _np_version_under1p17,\n\u001B[1;32m     24\u001B[0m     np_version_under1p18 \u001B[38;5;28;01mas\u001B[39;00m _np_version_under1p18,\n\u001B[1;32m     25\u001B[0m     is_numpy_dev \u001B[38;5;28;01mas\u001B[39;00m _is_numpy_dev,\n\u001B[1;32m     26\u001B[0m )\n\u001B[1;32m     28\u001B[0m \u001B[38;5;28;01mtry\u001B[39;00m:\n\u001B[0;32m---> 29\u001B[0m     \u001B[38;5;28;01mfrom\u001B[39;00m \u001B[38;5;21;01mpandas\u001B[39;00m\u001B[38;5;21;01m.\u001B[39;00m\u001B[38;5;21;01m_libs\u001B[39;00m \u001B[38;5;28;01mimport\u001B[39;00m hashtable \u001B[38;5;28;01mas\u001B[39;00m _hashtable, lib \u001B[38;5;28;01mas\u001B[39;00m _lib, tslib \u001B[38;5;28;01mas\u001B[39;00m _tslib\n\u001B[1;32m     30\u001B[0m \u001B[38;5;28;01mexcept\u001B[39;00m \u001B[38;5;167;01mImportError\u001B[39;00m \u001B[38;5;28;01mas\u001B[39;00m e:  \u001B[38;5;66;03m# pragma: no cover\u001B[39;00m\n\u001B[1;32m     31\u001B[0m     \u001B[38;5;66;03m# hack but overkill to use re\u001B[39;00m\n\u001B[1;32m     32\u001B[0m     module \u001B[38;5;241m=\u001B[39m \u001B[38;5;28mstr\u001B[39m(e)\u001B[38;5;241m.\u001B[39mreplace(\u001B[38;5;124m\"\u001B[39m\u001B[38;5;124mcannot import name \u001B[39m\u001B[38;5;124m\"\u001B[39m, \u001B[38;5;124m\"\u001B[39m\u001B[38;5;124m\"\u001B[39m)\n",
      "File \u001B[0;32m~/miniforge3/lib/python3.9/site-packages/pandas/_libs/__init__.py:13\u001B[0m, in \u001B[0;36m<module>\u001B[0;34m\u001B[0m\n\u001B[1;32m      1\u001B[0m __all__ \u001B[38;5;241m=\u001B[39m [\n\u001B[1;32m      2\u001B[0m     \u001B[38;5;124m\"\u001B[39m\u001B[38;5;124mNaT\u001B[39m\u001B[38;5;124m\"\u001B[39m,\n\u001B[1;32m      3\u001B[0m     \u001B[38;5;124m\"\u001B[39m\u001B[38;5;124mNaTType\u001B[39m\u001B[38;5;124m\"\u001B[39m,\n\u001B[0;32m   (...)\u001B[0m\n\u001B[1;32m      9\u001B[0m     \u001B[38;5;124m\"\u001B[39m\u001B[38;5;124mInterval\u001B[39m\u001B[38;5;124m\"\u001B[39m,\n\u001B[1;32m     10\u001B[0m ]\n\u001B[0;32m---> 13\u001B[0m \u001B[38;5;28;01mfrom\u001B[39;00m \u001B[38;5;21;01mpandas\u001B[39;00m\u001B[38;5;21;01m.\u001B[39;00m\u001B[38;5;21;01m_libs\u001B[39;00m\u001B[38;5;21;01m.\u001B[39;00m\u001B[38;5;21;01minterval\u001B[39;00m \u001B[38;5;28;01mimport\u001B[39;00m Interval\n\u001B[1;32m     14\u001B[0m \u001B[38;5;28;01mfrom\u001B[39;00m \u001B[38;5;21;01mpandas\u001B[39;00m\u001B[38;5;21;01m.\u001B[39;00m\u001B[38;5;21;01m_libs\u001B[39;00m\u001B[38;5;21;01m.\u001B[39;00m\u001B[38;5;21;01mtslibs\u001B[39;00m \u001B[38;5;28;01mimport\u001B[39;00m (\n\u001B[1;32m     15\u001B[0m     NaT,\n\u001B[1;32m     16\u001B[0m     NaTType,\n\u001B[0;32m   (...)\u001B[0m\n\u001B[1;32m     21\u001B[0m     iNaT,\n\u001B[1;32m     22\u001B[0m )\n",
      "File \u001B[0;32mpandas/_libs/interval.pyx:1\u001B[0m, in \u001B[0;36minit pandas._libs.interval\u001B[0;34m()\u001B[0m\n",
      "\u001B[0;31mValueError\u001B[0m: numpy.ndarray size changed, may indicate binary incompatibility. Expected 96 from C header, got 88 from PyObject"
     ]
    }
   ],
   "source": [
    "# This Python 3 environment comes with many helpful analytics libraries installed\n",
    "# It is defined by the kaggle/python Docker image: https://github.com/kaggle/docker-python\n",
    "# For example, here's several helpful packages to load\n",
    "\n",
    "import numpy as np # linear algebra\n",
    "import pandas as pd # data processing, CSV file I/O (e.g. pd.read_csv)\n",
    "\n",
    "# Input data files are available in the read-only \"../input/\" directory\n",
    "# For example, running this (by clicking run or pressing Shift+Enter) will list all files under the input directory\n",
    "\n",
    "import os\n",
    "for dirname, _, filenames in os.walk('/kaggle/input'):\n",
    "    for filename in filenames:\n",
    "        print(os.path.join(dirname, filename))\n",
    "\n",
    "# You can write up to 20GB to the current directory (/kaggle/working/) that gets preserved as output when you create a version using \"Save & Run All\" \n",
    "# You can also write temporary files to /kaggle/temp/, but they won't be saved outside of the current session"
   ]
  },
  {
   "cell_type": "markdown",
   "id": "654678b8",
   "metadata": {
    "papermill": {
     "duration": 0.01409,
     "end_time": "2022-11-06T09:07:32.196895",
     "exception": false,
     "start_time": "2022-11-06T09:07:32.182805",
     "status": "completed"
    },
    "tags": []
   },
   "source": [
    "## 1) Import Necessary Libraries\n",
    "First off, we need to import serveral Python libraries such as numpy, pandas, matplotlib and seaborn."
   ]
  },
  {
   "cell_type": "markdown",
   "id": "3f711b12",
   "metadata": {
    "papermill": {
     "duration": 0.014223,
     "end_time": "2022-11-06T09:07:32.225701",
     "exception": false,
     "start_time": "2022-11-06T09:07:32.211478",
     "status": "completed"
    },
    "tags": []
   },
   "source": []
  },
  {
   "cell_type": "code",
   "execution_count": null,
   "id": "03897251",
   "metadata": {
    "execution": {
     "iopub.execute_input": "2022-11-06T09:07:32.256800Z",
     "iopub.status.busy": "2022-11-06T09:07:32.255916Z",
     "iopub.status.idle": "2022-11-06T09:07:33.144797Z",
     "shell.execute_reply": "2022-11-06T09:07:33.143765Z"
    },
    "papermill": {
     "duration": 0.906892,
     "end_time": "2022-11-06T09:07:33.147094",
     "exception": false,
     "start_time": "2022-11-06T09:07:32.240202",
     "status": "completed"
    },
    "tags": []
   },
   "outputs": [],
   "source": [
    "#data analysis libraries\n",
    "import numpy as np\n",
    "import pandas as pd\n",
    "\n",
    "#visualization libraries\n",
    "import matplotlib.pyplot as plt\n",
    "import seaborn as sns\n",
    "%matplotlib inline\n",
    "\n",
    "#ignore warnings\n",
    "import warnings\n",
    "warnings.filterwarnings('ignore')"
   ]
  },
  {
   "cell_type": "markdown",
   "id": "2cd2a189",
   "metadata": {
    "papermill": {
     "duration": 0.013706,
     "end_time": "2022-11-06T09:07:33.174884",
     "exception": false,
     "start_time": "2022-11-06T09:07:33.161178",
     "status": "completed"
    },
    "tags": []
   },
   "source": [
    "## 2)Read in Explore the Data\n",
    "It's time to read in our training and testing data using pd_read.csv, and take a first look at the training data using the `describe()` function"
   ]
  },
  {
   "cell_type": "markdown",
   "id": "0be290c6",
   "metadata": {
    "papermill": {
     "duration": 0.014807,
     "end_time": "2022-11-06T09:07:33.203501",
     "exception": false,
     "start_time": "2022-11-06T09:07:33.188694",
     "status": "completed"
    },
    "tags": []
   },
   "source": []
  },
  {
   "cell_type": "code",
   "execution_count": null,
   "id": "8b2401b2",
   "metadata": {
    "execution": {
     "iopub.execute_input": "2022-11-06T09:07:33.233988Z",
     "iopub.status.busy": "2022-11-06T09:07:33.233641Z",
     "iopub.status.idle": "2022-11-06T09:07:33.309385Z",
     "shell.execute_reply": "2022-11-06T09:07:33.308110Z"
    },
    "papermill": {
     "duration": 0.09395,
     "end_time": "2022-11-06T09:07:33.311871",
     "exception": false,
     "start_time": "2022-11-06T09:07:33.217921",
     "status": "completed"
    },
    "tags": []
   },
   "outputs": [],
   "source": [
    "#import train and test CSV files\n",
    "train = pd.read_csv(\"../input/titanic/train.csv\")\n",
    "test = pd.read_csv(\"../input/titanic/test.csv\")\n",
    "\n",
    "#take a look at the training data\n",
    "train.describe(include = \"all\")\n"
   ]
  },
  {
   "cell_type": "markdown",
   "id": "905b1b86",
   "metadata": {
    "papermill": {
     "duration": 0.014384,
     "end_time": "2022-11-06T09:07:33.341184",
     "exception": false,
     "start_time": "2022-11-06T09:07:33.326800",
     "status": "completed"
    },
    "tags": []
   },
   "source": [
    "## 3) Data Analysis\n",
    "We're going to consider the features in the dataset and how complete they are. "
   ]
  },
  {
   "cell_type": "code",
   "execution_count": null,
   "id": "adccce70",
   "metadata": {
    "execution": {
     "iopub.execute_input": "2022-11-06T09:07:33.373408Z",
     "iopub.status.busy": "2022-11-06T09:07:33.372996Z",
     "iopub.status.idle": "2022-11-06T09:07:33.379521Z",
     "shell.execute_reply": "2022-11-06T09:07:33.378132Z"
    },
    "papermill": {
     "duration": 0.025198,
     "end_time": "2022-11-06T09:07:33.381683",
     "exception": false,
     "start_time": "2022-11-06T09:07:33.356485",
     "status": "completed"
    },
    "tags": []
   },
   "outputs": [],
   "source": [
    "#get a list of the feature within the dataset\n",
    "print(train.columns)"
   ]
  },
  {
   "cell_type": "code",
   "execution_count": null,
   "id": "5f4f5cc3",
   "metadata": {
    "execution": {
     "iopub.execute_input": "2022-11-06T09:07:33.412241Z",
     "iopub.status.busy": "2022-11-06T09:07:33.411903Z",
     "iopub.status.idle": "2022-11-06T09:07:33.428926Z",
     "shell.execute_reply": "2022-11-06T09:07:33.427863Z"
    },
    "papermill": {
     "duration": 0.034433,
     "end_time": "2022-11-06T09:07:33.430746",
     "exception": false,
     "start_time": "2022-11-06T09:07:33.396313",
     "status": "completed"
    },
    "tags": []
   },
   "outputs": [],
   "source": [
    "#see a sample of the dataset to get an idea of the variables\n",
    "train.sample(5)"
   ]
  },
  {
   "cell_type": "markdown",
   "id": "51339578",
   "metadata": {
    "papermill": {
     "duration": 0.014096,
     "end_time": "2022-11-06T09:07:33.459312",
     "exception": false,
     "start_time": "2022-11-06T09:07:33.445216",
     "status": "completed"
    },
    "tags": []
   },
   "source": [
    "- 数值类型字段： Age(Continues)、SibSp(Discrete)、Parch(Discrete)、Fare（Continues）\n",
    "- 类别类型字段：Pclass、Ticket、Cabin、Embarked\n",
    "- 字符串类型字段：Name、Ticket、Cabin"
   ]
  },
  {
   "cell_type": "markdown",
   "id": "d4ea20b1",
   "metadata": {
    "papermill": {
     "duration": 0.014094,
     "end_time": "2022-11-06T09:07:33.487931",
     "exception": false,
     "start_time": "2022-11-06T09:07:33.473837",
     "status": "completed"
    },
    "tags": []
   },
   "source": [
    "**What are the data types for each feature?**\n",
    "- Survived：int\n",
    "- Pclass : int\n",
    "- Name:string\n",
    "- Sex:string\n",
    "- Age:float\n",
    "- SibSp:int\n",
    "- Parch:int\n",
    "- Ticket:string\n",
    "- Fare:float\n",
    "- Cabin:string\n",
    "- Embarked:string\n",
    "\n",
    "Now that we hava an idea of what kinds of features we're working with,we can see how much information we hava about each of them"
   ]
  },
  {
   "cell_type": "code",
   "execution_count": null,
   "id": "2494b265",
   "metadata": {
    "execution": {
     "iopub.execute_input": "2022-11-06T09:07:33.518327Z",
     "iopub.status.busy": "2022-11-06T09:07:33.517885Z",
     "iopub.status.idle": "2022-11-06T09:07:33.555059Z",
     "shell.execute_reply": "2022-11-06T09:07:33.554184Z"
    },
    "papermill": {
     "duration": 0.055006,
     "end_time": "2022-11-06T09:07:33.557211",
     "exception": false,
     "start_time": "2022-11-06T09:07:33.502205",
     "status": "completed"
    },
    "tags": []
   },
   "outputs": [],
   "source": [
    "#see a summary of the training dataset\n",
    "train.describe(include = \"all\")"
   ]
  },
  {
   "cell_type": "markdown",
   "id": "1b621f8b",
   "metadata": {
    "papermill": {
     "duration": 0.015143,
     "end_time": "2022-11-06T09:07:33.587583",
     "exception": false,
     "start_time": "2022-11-06T09:07:33.572440",
     "status": "completed"
    },
    "tags": []
   },
   "source": [
    "**Some Observations:**\n",
    "- There are a total of 891 passengers in our training set.\n",
    "- The Age feature is missing approximately 19.8% of its values. I'm guessing that the Age feature is pretty important to  \n",
    "survival, so we should probably attempt to fill these gaps.\n",
    "- The Cabin feature is missing approximately 77.1% of its values. Since so much of the feature is missing, it would be  \n",
    "hard to fill in the missing values. We'll probably drop these values from our dataset.\n",
    "- The Embarked feature is missing 0.22% of its value, which should be relatively hramless.  \n"
   ]
  },
  {
   "cell_type": "code",
   "execution_count": null,
   "id": "4ecbaf98",
   "metadata": {
    "execution": {
     "iopub.execute_input": "2022-11-06T09:07:33.619864Z",
     "iopub.status.busy": "2022-11-06T09:07:33.619485Z",
     "iopub.status.idle": "2022-11-06T09:07:33.627495Z",
     "shell.execute_reply": "2022-11-06T09:07:33.626091Z"
    },
    "papermill": {
     "duration": 0.026799,
     "end_time": "2022-11-06T09:07:33.629648",
     "exception": false,
     "start_time": "2022-11-06T09:07:33.602849",
     "status": "completed"
    },
    "tags": []
   },
   "outputs": [],
   "source": [
    "#check for any other unusable values\n",
    "print(pd.isnull(train).sum())"
   ]
  },
  {
   "cell_type": "markdown",
   "id": "235a3ee6",
   "metadata": {
    "papermill": {
     "duration": 0.014635,
     "end_time": "2022-11-06T09:07:33.660074",
     "exception": false,
     "start_time": "2022-11-06T09:07:33.645439",
     "status": "completed"
    },
    "tags": []
   },
   "source": [
    "We can see that except for the abovementioned missing values, no NaN values exist."
   ]
  },
  {
   "cell_type": "markdown",
   "id": "accaa034",
   "metadata": {
    "papermill": {
     "duration": 0.014491,
     "end_time": "2022-11-06T09:07:33.689483",
     "exception": false,
     "start_time": "2022-11-06T09:07:33.674992",
     "status": "completed"
    },
    "tags": []
   },
   "source": [
    "**Some Predictions:**\n",
    "- Sex: Females are more likely to survive.\n",
    "- SibSp/Parch: People traveling alone are more likely to survive.\n",
    "- Age:Young children are more likely to survive.\n",
    "- Pclass:People of higher socioeconomic class are more likely to survive."
   ]
  },
  {
   "cell_type": "markdown",
   "id": "e5ba5fe4",
   "metadata": {
    "papermill": {
     "duration": 0.014428,
     "end_time": "2022-11-06T09:07:33.718865",
     "exception": false,
     "start_time": "2022-11-06T09:07:33.704437",
     "status": "completed"
    },
    "tags": []
   },
   "source": [
    "## 4) Data Visualization\n",
    "It's time to visualize our data so we can see whether our predictions were accurtae!"
   ]
  },
  {
   "cell_type": "markdown",
   "id": "3cef814f",
   "metadata": {
    "papermill": {
     "duration": 0.014612,
     "end_time": "2022-11-06T09:07:33.748274",
     "exception": false,
     "start_time": "2022-11-06T09:07:33.733662",
     "status": "completed"
    },
    "tags": []
   },
   "source": [
    "**Sex Feature**"
   ]
  },
  {
   "cell_type": "code",
   "execution_count": null,
   "id": "532ddb11",
   "metadata": {
    "execution": {
     "iopub.execute_input": "2022-11-06T09:07:33.786993Z",
     "iopub.status.busy": "2022-11-06T09:07:33.786599Z",
     "iopub.status.idle": "2022-11-06T09:07:34.015638Z",
     "shell.execute_reply": "2022-11-06T09:07:34.014864Z"
    },
    "papermill": {
     "duration": 0.251728,
     "end_time": "2022-11-06T09:07:34.018534",
     "exception": false,
     "start_time": "2022-11-06T09:07:33.766806",
     "status": "completed"
    },
    "tags": []
   },
   "outputs": [],
   "source": [
    "#draw a bar plot of survival by sex\n",
    "sns.barplot(x = \"Sex\", y = \"Survived\", data = train)\n",
    "\n",
    "#print percentages of females vs. males that survive\n",
    "print(\"Percentage of females who survived:\", train[\"Survived\"][train[\"Sex\"] == 'female'].value_counts(normalize = True)[1]*100)\n",
    "\n",
    "print(\"percentage of males who survived:\", train[\"Survived\"][train[\"Sex\"] == 'male'].value_counts(normalize = True)[1]*100)"
   ]
  },
  {
   "cell_type": "markdown",
   "id": "79b72400",
   "metadata": {
    "papermill": {
     "duration": 0.01492,
     "end_time": "2022-11-06T09:07:34.048860",
     "exception": false,
     "start_time": "2022-11-06T09:07:34.033940",
     "status": "completed"
    },
    "tags": []
   },
   "source": [
    "**Pclass Feature**\n"
   ]
  },
  {
   "cell_type": "code",
   "execution_count": null,
   "id": "28d5d236",
   "metadata": {
    "execution": {
     "iopub.execute_input": "2022-11-06T09:07:34.081501Z",
     "iopub.status.busy": "2022-11-06T09:07:34.080929Z",
     "iopub.status.idle": "2022-11-06T09:07:34.283909Z",
     "shell.execute_reply": "2022-11-06T09:07:34.283162Z"
    },
    "papermill": {
     "duration": 0.222438,
     "end_time": "2022-11-06T09:07:34.286718",
     "exception": false,
     "start_time": "2022-11-06T09:07:34.064280",
     "status": "completed"
    },
    "tags": []
   },
   "outputs": [],
   "source": [
    "#draw a bar plot of survival by Pclass\n",
    "sns.barplot(x = \"Pclass\", y=\"Survived\", data = train)\n",
    "\n",
    "#print percentage of people by Pclass that survived\n",
    "print(\"Percentage of Pclass = 1 who survived:\", train[\"Survived\"][train[\"Pclass\"] == 1].value_counts(normalize = True)[1]*100)\n",
    "\n",
    "print(\"Percentage of Pclass = 2 who survived:\", train[\"Survived\"][train[\"Pclass\"] == 2].value_counts(normalize = True)[1]*100)\n",
    "\n",
    "print(\"Percentage of Pclass = 3 who survived:\", train[\"Survived\"][train[\"Pclass\"] == 3].value_counts(normalize = True)[1]*100)"
   ]
  },
  {
   "cell_type": "markdown",
   "id": "0a175453",
   "metadata": {
    "papermill": {
     "duration": 0.015536,
     "end_time": "2022-11-06T09:07:34.322743",
     "exception": false,
     "start_time": "2022-11-06T09:07:34.307207",
     "status": "completed"
    },
    "tags": []
   },
   "source": [
    "As predicted, people with higher socioeconomic class had a higher rate of survival.(62.9% vs 47.3% vs 24.2%)"
   ]
  },
  {
   "cell_type": "markdown",
   "id": "c513230e",
   "metadata": {
    "papermill": {
     "duration": 0.015667,
     "end_time": "2022-11-06T09:07:34.354107",
     "exception": false,
     "start_time": "2022-11-06T09:07:34.338440",
     "status": "completed"
    },
    "tags": []
   },
   "source": [
    "**SibSp Feature**"
   ]
  },
  {
   "cell_type": "code",
   "execution_count": null,
   "id": "8755395e",
   "metadata": {
    "execution": {
     "iopub.execute_input": "2022-11-06T09:07:34.388158Z",
     "iopub.status.busy": "2022-11-06T09:07:34.387508Z",
     "iopub.status.idle": "2022-11-06T09:07:34.681023Z",
     "shell.execute_reply": "2022-11-06T09:07:34.680204Z"
    },
    "papermill": {
     "duration": 0.312759,
     "end_time": "2022-11-06T09:07:34.682997",
     "exception": false,
     "start_time": "2022-11-06T09:07:34.370238",
     "status": "completed"
    },
    "tags": []
   },
   "outputs": [],
   "source": [
    "#draw a bar plot for SibSp vs survival\n",
    "sns.barplot(x = \"SibSp\", y = \"Survived\", data = train)\n",
    "\n",
    "#I won't be printing individual percent values for all of these.\n",
    "print(\"Percentage of SibSp = 0 who survived:\" , train[\"Survived\"][train[\"SibSp\"] == 0].value_counts(normalize = True)[1]*100)\n",
    "\n",
    "print(\"Percentage of SibSp = 1 who survived:\" , train[\"Survived\"][train[\"SibSp\"] == 1].value_counts(normalize = True)[1]*100)\n",
    "\n",
    "print(\"Percentage of SibSp = 2 who survived:\" , train[\"Survived\"][train[\"SibSp\"] == 2].value_counts(normalize = True)[1]*100)"
   ]
  },
  {
   "cell_type": "markdown",
   "id": "632a3a1a",
   "metadata": {
    "papermill": {
     "duration": 0.015246,
     "end_time": "2022-11-06T09:07:34.715887",
     "exception": false,
     "start_time": "2022-11-06T09:07:34.700641",
     "status": "completed"
    },
    "tags": []
   },
   "source": [
    "In general, it's clear that people with more siblings or spouses aboard were less likely to survive. However, contrary to  \n",
    "expectations, people with no siblings or spouses were less to likely to survive than those with one or two.(34.5% vs 53.4% vs 46.4%)"
   ]
  },
  {
   "cell_type": "markdown",
   "id": "826f7f6f",
   "metadata": {
    "papermill": {
     "duration": 0.01587,
     "end_time": "2022-11-06T09:07:34.747942",
     "exception": false,
     "start_time": "2022-11-06T09:07:34.732072",
     "status": "completed"
    },
    "tags": []
   },
   "source": [
    "**Parch Feature**"
   ]
  },
  {
   "cell_type": "code",
   "execution_count": null,
   "id": "8eee0da8",
   "metadata": {
    "execution": {
     "iopub.execute_input": "2022-11-06T09:07:34.782986Z",
     "iopub.status.busy": "2022-11-06T09:07:34.782498Z",
     "iopub.status.idle": "2022-11-06T09:07:35.037308Z",
     "shell.execute_reply": "2022-11-06T09:07:35.036488Z"
    },
    "papermill": {
     "duration": 0.275395,
     "end_time": "2022-11-06T09:07:35.040000",
     "exception": false,
     "start_time": "2022-11-06T09:07:34.764605",
     "status": "completed"
    },
    "tags": []
   },
   "outputs": [],
   "source": [
    "#draw a bar plot for Parch vs. survival\n",
    "sns.barplot(x = \"Parch\", y = \"Survived\", data = train)\n",
    "plt.show()"
   ]
  },
  {
   "cell_type": "markdown",
   "id": "47fe0cb0",
   "metadata": {
    "papermill": {
     "duration": 0.016295,
     "end_time": "2022-11-06T09:07:35.077441",
     "exception": false,
     "start_time": "2022-11-06T09:07:35.061146",
     "status": "completed"
    },
    "tags": []
   },
   "source": [
    "People with less than four parents or children aboard are more likely to survive than those with four or more.   \n",
    "Again,people traveling alone are less likely to survive than those with 1-3 parents or children."
   ]
  },
  {
   "cell_type": "markdown",
   "id": "2de648c9",
   "metadata": {
    "papermill": {
     "duration": 0.016575,
     "end_time": "2022-11-06T09:07:35.110534",
     "exception": false,
     "start_time": "2022-11-06T09:07:35.093959",
     "status": "completed"
    },
    "tags": []
   },
   "source": [
    "**Age Feature**"
   ]
  },
  {
   "cell_type": "code",
   "execution_count": null,
   "id": "1b65cb4f",
   "metadata": {
    "execution": {
     "iopub.execute_input": "2022-11-06T09:07:35.146160Z",
     "iopub.status.busy": "2022-11-06T09:07:35.145610Z",
     "iopub.status.idle": "2022-11-06T09:07:35.462895Z",
     "shell.execute_reply": "2022-11-06T09:07:35.462151Z"
    },
    "papermill": {
     "duration": 0.337934,
     "end_time": "2022-11-06T09:07:35.464855",
     "exception": false,
     "start_time": "2022-11-06T09:07:35.126921",
     "status": "completed"
    },
    "tags": []
   },
   "outputs": [],
   "source": [
    "#sort the ages into logical categories\n",
    "train[\"Age\"] = train[\"Age\"].fillna(-0.5)\n",
    "test[\"Age\"] = train[\"Age\"].fillna(-0.5)\n",
    "bins = [-1, 0, 5, 12, 18, 24, 35, 60, np.inf]##数据处理 封箱操作\n",
    "labels = ['Unknown', 'Baby', 'Child', 'Teenager', 'Student', 'Young Adult', 'Adult', 'Senior']\n",
    "train['AgeGroup'] = pd.cut(train[\"Age\"], bins, labels = labels)\n",
    "test['AgeGroup'] = pd.cut(test[\"Age\"], bins, labels = labels)\n",
    "\n",
    "#draw a bar plot of Age vs. survival\n",
    "sns.barplot(x=\"AgeGroup\", y = \"Survived\", data = train)\n",
    "plt.show()"
   ]
  },
  {
   "cell_type": "markdown",
   "id": "34e34eb4",
   "metadata": {
    "papermill": {
     "duration": 0.016714,
     "end_time": "2022-11-06T09:07:35.497921",
     "exception": false,
     "start_time": "2022-11-06T09:07:35.481207",
     "status": "completed"
    },
    "tags": []
   },
   "source": [
    "Babies are more likely to survive than any other age group"
   ]
  },
  {
   "cell_type": "markdown",
   "id": "fb42bf53",
   "metadata": {
    "papermill": {
     "duration": 0.016404,
     "end_time": "2022-11-06T09:07:35.530851",
     "exception": false,
     "start_time": "2022-11-06T09:07:35.514447",
     "status": "completed"
    },
    "tags": []
   },
   "source": [
    "**Cabin Feature**"
   ]
  },
  {
   "cell_type": "markdown",
   "id": "d5cd833c",
   "metadata": {
    "papermill": {
     "duration": 0.016303,
     "end_time": "2022-11-06T09:07:35.564031",
     "exception": false,
     "start_time": "2022-11-06T09:07:35.547728",
     "status": "completed"
    },
    "tags": []
   },
   "source": [
    "I think the idea here is that people with recorded cabin numbers are of highers are of higher socioeconomic class, and thus more likely  \n",
    "to survive. Thanks for the tips.@** and @***"
   ]
  },
  {
   "cell_type": "code",
   "execution_count": null,
   "id": "44dbb586",
   "metadata": {
    "execution": {
     "iopub.execute_input": "2022-11-06T09:07:35.599621Z",
     "iopub.status.busy": "2022-11-06T09:07:35.599103Z",
     "iopub.status.idle": "2022-11-06T09:07:35.769429Z",
     "shell.execute_reply": "2022-11-06T09:07:35.768402Z"
    },
    "papermill": {
     "duration": 0.191295,
     "end_time": "2022-11-06T09:07:35.772014",
     "exception": false,
     "start_time": "2022-11-06T09:07:35.580719",
     "status": "completed"
    },
    "tags": []
   },
   "outputs": [],
   "source": [
    "train[\"CabinBool\"] = (train[\"Cabin\"].notnull().astype('int'))\n",
    "test[\"CabinBool\"] = (test[\"Cabin\"].notnull().astype('int'))\n",
    "\n",
    "#calculate percentages of CabinBool vs. survived\n",
    "print(\"Percentage of CabinBool = 1 who survived:\", train[\"Survived\"][train[\"CabinBool\"] == 1].value_counts(normalize = True)[1]*100)\n",
    "print(\"Percentage of CabinBool = 0 who survived:\", train[\"Survived\"][train[\"CabinBool\"] == 1].value_counts(normalize = True)[1]*100)\n",
    "\n",
    "#draw a bar plot of CabinBool vs. survival\n",
    "sns.barplot(x = \"CabinBool\", y = \"Survived\", data=train)\n",
    "plt.show()"
   ]
  },
  {
   "cell_type": "markdown",
   "id": "5afcdf0d",
   "metadata": {
    "papermill": {
     "duration": 0.020462,
     "end_time": "2022-11-06T09:07:35.818118",
     "exception": false,
     "start_time": "2022-11-06T09:07:35.797656",
     "status": "completed"
    },
    "tags": []
   },
   "source": [
    "People with a recorded Cabin number are , in fact , more likely to survive(66.6% vs 29.9%)"
   ]
  },
  {
   "cell_type": "markdown",
   "id": "583193f5",
   "metadata": {
    "papermill": {
     "duration": 0.018118,
     "end_time": "2022-11-06T09:07:35.855508",
     "exception": false,
     "start_time": "2022-11-06T09:07:35.837390",
     "status": "completed"
    },
    "tags": []
   },
   "source": [
    "**Looking at the Test Data**  \n",
    "\n",
    "Let's see how our test data looks!"
   ]
  },
  {
   "cell_type": "code",
   "execution_count": null,
   "id": "3689749a",
   "metadata": {
    "execution": {
     "iopub.execute_input": "2022-11-06T09:07:35.890667Z",
     "iopub.status.busy": "2022-11-06T09:07:35.890258Z",
     "iopub.status.idle": "2022-11-06T09:07:35.929759Z",
     "shell.execute_reply": "2022-11-06T09:07:35.928887Z"
    },
    "papermill": {
     "duration": 0.059489,
     "end_time": "2022-11-06T09:07:35.931630",
     "exception": false,
     "start_time": "2022-11-06T09:07:35.872141",
     "status": "completed"
    },
    "tags": []
   },
   "outputs": [],
   "source": [
    "test.describe(include=\"all\")"
   ]
  },
  {
   "cell_type": "markdown",
   "id": "250ce0e0",
   "metadata": {
    "papermill": {
     "duration": 0.01642,
     "end_time": "2022-11-06T09:07:35.965214",
     "exception": false,
     "start_time": "2022-11-06T09:07:35.948794",
     "status": "completed"
    },
    "tags": []
   },
   "source": [
    "- We hava a total of 418 passengers.\n",
    "- 1 value from the Fare feature is missing\n",
    "- Around 20.5% of the Age feature is missing, we will need to fill that in."
   ]
  },
  {
   "cell_type": "markdown",
   "id": "75c8a98c",
   "metadata": {
    "papermill": {
     "duration": 0.016666,
     "end_time": "2022-11-06T09:07:35.998535",
     "exception": false,
     "start_time": "2022-11-06T09:07:35.981869",
     "status": "completed"
    },
    "tags": []
   },
   "source": [
    "**Cabin Feature**\n"
   ]
  },
  {
   "cell_type": "code",
   "execution_count": null,
   "id": "d8c6c048",
   "metadata": {
    "execution": {
     "iopub.execute_input": "2022-11-06T09:07:36.033111Z",
     "iopub.status.busy": "2022-11-06T09:07:36.032754Z",
     "iopub.status.idle": "2022-11-06T09:07:36.039839Z",
     "shell.execute_reply": "2022-11-06T09:07:36.039178Z"
    },
    "papermill": {
     "duration": 0.02633,
     "end_time": "2022-11-06T09:07:36.041400",
     "exception": false,
     "start_time": "2022-11-06T09:07:36.015070",
     "status": "completed"
    },
    "tags": []
   },
   "outputs": [],
   "source": [
    "#we'll start off by dropping the Cabin feature since not a lot more useful information can be extracted from it.\n",
    "train = train.drop(['Cabin'], axis = 1)\n",
    "test = test.drop(['Cabin'], axis = 1)"
   ]
  },
  {
   "cell_type": "markdown",
   "id": "2cce91bc",
   "metadata": {
    "papermill": {
     "duration": 0.016696,
     "end_time": "2022-11-06T09:07:36.075192",
     "exception": false,
     "start_time": "2022-11-06T09:07:36.058496",
     "status": "completed"
    },
    "tags": []
   },
   "source": [
    "**Ticket Feature**\n"
   ]
  },
  {
   "cell_type": "code",
   "execution_count": null,
   "id": "8e428a13",
   "metadata": {
    "execution": {
     "iopub.execute_input": "2022-11-06T09:07:36.111159Z",
     "iopub.status.busy": "2022-11-06T09:07:36.110607Z",
     "iopub.status.idle": "2022-11-06T09:07:36.117198Z",
     "shell.execute_reply": "2022-11-06T09:07:36.115930Z"
    },
    "papermill": {
     "duration": 0.027572,
     "end_time": "2022-11-06T09:07:36.119786",
     "exception": false,
     "start_time": "2022-11-06T09:07:36.092214",
     "status": "completed"
    },
    "tags": []
   },
   "outputs": [],
   "source": [
    "#we can also drop the Ticket feature since it's unlikely to yield any useful information\n",
    "train = train.drop(['Ticket'], axis = 1)\n",
    "test = test.drop(['Ticket'], axis = 1)\n"
   ]
  },
  {
   "cell_type": "markdown",
   "id": "6659def7",
   "metadata": {
    "papermill": {
     "duration": 0.017118,
     "end_time": "2022-11-06T09:07:36.154185",
     "exception": false,
     "start_time": "2022-11-06T09:07:36.137067",
     "status": "completed"
    },
    "tags": []
   },
   "source": [
    "**Embarked Feature**"
   ]
  },
  {
   "cell_type": "code",
   "execution_count": null,
   "id": "73749e45",
   "metadata": {
    "execution": {
     "iopub.execute_input": "2022-11-06T09:07:36.189986Z",
     "iopub.status.busy": "2022-11-06T09:07:36.189669Z",
     "iopub.status.idle": "2022-11-06T09:07:36.199645Z",
     "shell.execute_reply": "2022-11-06T09:07:36.197926Z"
    },
    "papermill": {
     "duration": 0.030493,
     "end_time": "2022-11-06T09:07:36.201885",
     "exception": false,
     "start_time": "2022-11-06T09:07:36.171392",
     "status": "completed"
    },
    "tags": []
   },
   "outputs": [],
   "source": [
    "#now we need to fill in the missing values in the Embarked feature\n",
    "print(\"Number of people embarking in Southampton (S)\")\n",
    "southampton = train[train[\"Embarked\"] == \"S\"].shape[0]\n",
    "print(southampton)\n",
    "\n",
    "print(\"Number of people embarking in Cherbourg(C)\")\n",
    "cherbourg = train[train[\"Embarked\"] == \"C\"].shape[0]\n",
    "print(cherbourg)\n",
    "\n",
    "print(\"Number of people embarking in Queenstown(Q)\")\n",
    "queenstown = train[train[\"Embarked\"] == \"Q\"].shape[0]\n",
    "print(queenstown)"
   ]
  },
  {
   "cell_type": "markdown",
   "id": "3f86ab47",
   "metadata": {
    "papermill": {
     "duration": 0.01649,
     "end_time": "2022-11-06T09:07:36.235312",
     "exception": false,
     "start_time": "2022-11-06T09:07:36.218822",
     "status": "completed"
    },
    "tags": []
   },
   "source": [
    "It's clear that the majority of people embarked in Southampton(S). Let's go head and fill in the missing values with S."
   ]
  },
  {
   "cell_type": "code",
   "execution_count": null,
   "id": "187b5c39",
   "metadata": {
    "execution": {
     "iopub.execute_input": "2022-11-06T09:07:36.270770Z",
     "iopub.status.busy": "2022-11-06T09:07:36.270422Z",
     "iopub.status.idle": "2022-11-06T09:07:36.276260Z",
     "shell.execute_reply": "2022-11-06T09:07:36.275117Z"
    },
    "papermill": {
     "duration": 0.025876,
     "end_time": "2022-11-06T09:07:36.278162",
     "exception": false,
     "start_time": "2022-11-06T09:07:36.252286",
     "status": "completed"
    },
    "tags": []
   },
   "outputs": [],
   "source": [
    "#replacing the missing values in the Embarked feature with S\n",
    "train = train.fillna({\"Embarked\":\"S\"})"
   ]
  },
  {
   "cell_type": "markdown",
   "id": "7c6819cf",
   "metadata": {
    "papermill": {
     "duration": 0.016497,
     "end_time": "2022-11-06T09:07:36.311473",
     "exception": false,
     "start_time": "2022-11-06T09:07:36.294976",
     "status": "completed"
    },
    "tags": []
   },
   "source": [
    "**Age Feature**"
   ]
  },
  {
   "cell_type": "markdown",
   "id": "fc6357c9",
   "metadata": {
    "papermill": {
     "duration": 0.015961,
     "end_time": "2022-11-06T09:07:36.343861",
     "exception": false,
     "start_time": "2022-11-06T09:07:36.327900",
     "status": "completed"
    },
    "tags": []
   },
   "source": [
    "Next we'll fill in the missing values in the Age feature. Since a higher percentage of values are missing, it would be illogical  \n",
    "to fill all of them with the same value (as we did with Embarked). Instead, let's try to find a way to predict the missing ages."
   ]
  },
  {
   "cell_type": "code",
   "execution_count": null,
   "id": "4f082cf2",
   "metadata": {
    "execution": {
     "iopub.execute_input": "2022-11-06T09:07:36.378393Z",
     "iopub.status.busy": "2022-11-06T09:07:36.377896Z",
     "iopub.status.idle": "2022-11-06T09:07:36.407305Z",
     "shell.execute_reply": "2022-11-06T09:07:36.405696Z"
    },
    "papermill": {
     "duration": 0.049395,
     "end_time": "2022-11-06T09:07:36.409354",
     "exception": false,
     "start_time": "2022-11-06T09:07:36.359959",
     "status": "completed"
    },
    "tags": []
   },
   "outputs": [],
   "source": [
    "#create a combined group of both datasets\n",
    "combine = [train, test]\n",
    "\n",
    "#extract a title for each Name in the train and test datasets\n",
    "for dataset in combine:\n",
    "    dataset['Title'] = dataset.Name.str.extract('([A-Za-z]+)\\.', expand = False)\n",
    "\n",
    "pd.crosstab(train['Title'], train['Sex'])\n",
    "#train.head(20)"
   ]
  },
  {
   "cell_type": "code",
   "execution_count": null,
   "id": "51107b42",
   "metadata": {
    "execution": {
     "iopub.execute_input": "2022-11-06T09:07:36.445789Z",
     "iopub.status.busy": "2022-11-06T09:07:36.445313Z",
     "iopub.status.idle": "2022-11-06T09:07:36.470720Z",
     "shell.execute_reply": "2022-11-06T09:07:36.469742Z"
    },
    "papermill": {
     "duration": 0.045789,
     "end_time": "2022-11-06T09:07:36.472469",
     "exception": false,
     "start_time": "2022-11-06T09:07:36.426680",
     "status": "completed"
    },
    "tags": []
   },
   "outputs": [],
   "source": [
    "#replace various titles with more common names\n",
    "for dataset in combine:\n",
    "    dataset['Title'] = dataset['Title'].replace(['Lady', 'Capt', 'Col', 'Don', 'Dr', 'Major', 'Rev', 'Jonkheer', 'Dona'],'Rare')\n",
    "    \n",
    "    dataset['Title'] = dataset['Title'].replace(['Countees', 'Lady', 'Sir'], 'Royal')\n",
    "    dataset['Title'] = dataset['Title'].replace('Mlle', 'Miss')\n",
    "    dataset['Title'] = dataset['Title'].replace('Ms', 'Miss')\n",
    "    dataset['Title'] = dataset['Title'].replace('Mme', 'Mrs')\n",
    "    \n",
    "train[['Title', 'Survived']].groupby(['Title'], as_index = False).mean()"
   ]
  },
  {
   "cell_type": "code",
   "execution_count": null,
   "id": "e88fd5bd",
   "metadata": {
    "execution": {
     "iopub.execute_input": "2022-11-06T09:07:36.517450Z",
     "iopub.status.busy": "2022-11-06T09:07:36.516337Z",
     "iopub.status.idle": "2022-11-06T09:07:36.546097Z",
     "shell.execute_reply": "2022-11-06T09:07:36.545270Z"
    },
    "papermill": {
     "duration": 0.053406,
     "end_time": "2022-11-06T09:07:36.547934",
     "exception": false,
     "start_time": "2022-11-06T09:07:36.494528",
     "status": "completed"
    },
    "tags": []
   },
   "outputs": [],
   "source": [
    "#map each of the title groups to a numerical value\n",
    "title_mapping = {\"Mr\":1, \"Miss\":2, \"Mrs\":3, \"Master\":4, \"Royal\":5, \"Rare\":6}\n",
    "for dataset in combine:\n",
    "    dataset['Title'] = dataset['Title'].map(title_mapping)\n",
    "    dataset['Title'] = dataset['Title'].fillna(0)\n",
    "    \n",
    "train.head(20)"
   ]
  },
  {
   "cell_type": "markdown",
   "id": "19a6a656",
   "metadata": {
    "papermill": {
     "duration": 0.017371,
     "end_time": "2022-11-06T09:07:36.584516",
     "exception": false,
     "start_time": "2022-11-06T09:07:36.567145",
     "status": "completed"
    },
    "tags": []
   },
   "source": [
    "The code I used above is from here(这应该有个超链接). Next, we'll to predict the missing Age values from the most common age for their Title"
   ]
  },
  {
   "cell_type": "code",
   "execution_count": null,
   "id": "7b6a4d6d",
   "metadata": {
    "execution": {
     "iopub.execute_input": "2022-11-06T09:07:36.623592Z",
     "iopub.status.busy": "2022-11-06T09:07:36.623235Z",
     "iopub.status.idle": "2022-11-06T09:07:36.678766Z",
     "shell.execute_reply": "2022-11-06T09:07:36.677496Z"
    },
    "papermill": {
     "duration": 0.081577,
     "end_time": "2022-11-06T09:07:36.684521",
     "exception": false,
     "start_time": "2022-11-06T09:07:36.602944",
     "status": "completed"
    },
    "tags": []
   },
   "outputs": [],
   "source": [
    "#fill missing age with mode age group for each title\n",
    "mr_age = train[train[\"Title\"] == 1][\"AgeGroup\"].mode() #Young Adult\n",
    "miss_age = train[train[\"Title\"] == 2][\"AgeGroup\"].mode() #Student\n",
    "mrs_age = train[train[\"Title\"] == 3][\"AgeGroup\"].mode() #Adult\n",
    "master_age = train[train[\"Title\"] == 4][\"AgeGroup\"].mode() #Baby\n",
    "royal_age = train[train[\"Title\"] == 5][\"AgeGroup\"].mode() #Adult\n",
    "rare_age = train[train[\"Title\"] == 6][\"AgeGroup\"].mode() #Adult\n",
    "\n",
    "age_title_mapping = {1:\"Young Adult\", 2: \"Student\", 3: \"Adult\", 4:\"Baby\", 5:\"Adult\", 6:\"Adult\"}\n",
    "\n",
    "#I tried to get this code to work with using .map(), but could't.\n",
    "#I've put down a less elegent, temporary solution for now.\n",
    "#train = train.fillna({\"Age\": train[\"Title\"].map(age_title_mapping)})\n",
    "#test = test.fillna({\"Age\": test[\"Title\"].map(age_title_mapping)})\n",
    "\n",
    "for x in range(len(train[\"AgeGroup\"])):\n",
    "    if train[\"AgeGroup\"][x] == \"Unknow\":\n",
    "        train[\"AgeGroup\"][x] = age_title_mapping[train[\"Title\"][x]]\n",
    "        \n",
    "for x in range(len(test[\"AgeGroup\"])):\n",
    "    if test[\"AgeGroup\"][x] == \"Unknow\":\n",
    "        test[\"AgeGroup\"][x] = age_title_mapping[test[\"Title\"][x]]\n",
    "train.head(20)"
   ]
  },
  {
   "cell_type": "markdown",
   "id": "5acd4abb",
   "metadata": {
    "papermill": {
     "duration": 0.018182,
     "end_time": "2022-11-06T09:07:36.721463",
     "exception": false,
     "start_time": "2022-11-06T09:07:36.703281",
     "status": "completed"
    },
    "tags": []
   },
   "source": [
    "Now that we've filled in the missing values at least somewhat accurately(I will work on a better way  \n",
    "for predicting missing age values), It's time to map each group to a numerical value."
   ]
  },
  {
   "cell_type": "code",
   "execution_count": null,
   "id": "a00ed4df",
   "metadata": {
    "execution": {
     "iopub.execute_input": "2022-11-06T09:07:36.765179Z",
     "iopub.status.busy": "2022-11-06T09:07:36.764798Z",
     "iopub.status.idle": "2022-11-06T09:07:36.791329Z",
     "shell.execute_reply": "2022-11-06T09:07:36.790619Z"
    },
    "papermill": {
     "duration": 0.051349,
     "end_time": "2022-11-06T09:07:36.793116",
     "exception": false,
     "start_time": "2022-11-06T09:07:36.741767",
     "status": "completed"
    },
    "tags": []
   },
   "outputs": [],
   "source": [
    "#map each Age value to a numerical value\n",
    "age_mapping = {'Baby':1, 'Child':2, 'Teenager':3, 'Student':4, 'Young Adult':5, 'Adult':6, 'Senior':7, 'Unknown':8}##封箱操作\n",
    "train['AgeGroup'] = train['AgeGroup'].map(age_mapping)\n",
    "test['AgeGroup'] = test['AgeGroup'].map(age_mapping)\n",
    "\n",
    "train.head(20)\n",
    "#dropping the Age feature for now might change\n",
    "train = train.drop(['Age'],axis = 1)\n",
    "test = test.drop(['Age'], axis = 1)\n",
    "\n",
    "train.head(20)"
   ]
  },
  {
   "cell_type": "markdown",
   "id": "833d39a9",
   "metadata": {
    "papermill": {
     "duration": 0.018764,
     "end_time": "2022-11-06T09:07:36.831536",
     "exception": false,
     "start_time": "2022-11-06T09:07:36.812772",
     "status": "completed"
    },
    "tags": []
   },
   "source": [
    "**Name Feature**\n",
    "\n",
    "We can drop the name feature now that we're extracted the titles."
   ]
  },
  {
   "cell_type": "code",
   "execution_count": null,
   "id": "ded1e349",
   "metadata": {
    "execution": {
     "iopub.execute_input": "2022-11-06T09:07:36.871535Z",
     "iopub.status.busy": "2022-11-06T09:07:36.870904Z",
     "iopub.status.idle": "2022-11-06T09:07:36.876755Z",
     "shell.execute_reply": "2022-11-06T09:07:36.876082Z"
    },
    "papermill": {
     "duration": 0.02856,
     "end_time": "2022-11-06T09:07:36.879103",
     "exception": false,
     "start_time": "2022-11-06T09:07:36.850543",
     "status": "completed"
    },
    "tags": []
   },
   "outputs": [],
   "source": [
    "#drop the name feature since it contains no more usefull information.\n",
    "train = train.drop(['Name'], axis = 1)\n",
    "test = test.drop(['Name'], axis = 1)"
   ]
  },
  {
   "cell_type": "markdown",
   "id": "911e2087",
   "metadata": {
    "papermill": {
     "duration": 0.018765,
     "end_time": "2022-11-06T09:07:36.916979",
     "exception": false,
     "start_time": "2022-11-06T09:07:36.898214",
     "status": "completed"
    },
    "tags": []
   },
   "source": []
  },
  {
   "cell_type": "markdown",
   "id": "ee68f2de",
   "metadata": {
    "papermill": {
     "duration": 0.018867,
     "end_time": "2022-11-06T09:07:36.954914",
     "exception": false,
     "start_time": "2022-11-06T09:07:36.936047",
     "status": "completed"
    },
    "tags": []
   },
   "source": [
    "**Sex Feature**\n"
   ]
  },
  {
   "cell_type": "code",
   "execution_count": null,
   "id": "c84ba548",
   "metadata": {
    "execution": {
     "iopub.execute_input": "2022-11-06T09:07:36.995406Z",
     "iopub.status.busy": "2022-11-06T09:07:36.994509Z",
     "iopub.status.idle": "2022-11-06T09:07:37.013357Z",
     "shell.execute_reply": "2022-11-06T09:07:37.012155Z"
    },
    "papermill": {
     "duration": 0.041958,
     "end_time": "2022-11-06T09:07:37.015959",
     "exception": false,
     "start_time": "2022-11-06T09:07:36.974001",
     "status": "completed"
    },
    "tags": []
   },
   "outputs": [],
   "source": [
    "#map each Sex value to a numerical value\n",
    "sex_mapping = {\"male\":0, \"female\":1}\n",
    "train['Sex'] = train['Sex'].map(sex_mapping)\n",
    "test['Sex'] = test['Sex'].map(sex_mapping)\n",
    "\n",
    "train.head()"
   ]
  },
  {
   "cell_type": "markdown",
   "id": "5c5718bf",
   "metadata": {
    "papermill": {
     "duration": 0.018588,
     "end_time": "2022-11-06T09:07:37.054127",
     "exception": false,
     "start_time": "2022-11-06T09:07:37.035539",
     "status": "completed"
    },
    "tags": []
   },
   "source": [
    "**Embarked Feature**"
   ]
  },
  {
   "cell_type": "code",
   "execution_count": null,
   "id": "55914309",
   "metadata": {
    "execution": {
     "iopub.execute_input": "2022-11-06T09:07:37.095512Z",
     "iopub.status.busy": "2022-11-06T09:07:37.094638Z",
     "iopub.status.idle": "2022-11-06T09:07:37.114457Z",
     "shell.execute_reply": "2022-11-06T09:07:37.112813Z"
    },
    "papermill": {
     "duration": 0.044399,
     "end_time": "2022-11-06T09:07:37.117236",
     "exception": false,
     "start_time": "2022-11-06T09:07:37.072837",
     "status": "completed"
    },
    "tags": []
   },
   "outputs": [],
   "source": [
    "#map each Embarked value to a numerical value\n",
    "embarked_mapping = {\"S\": 1, \"C\":2, \"Q\":3}\n",
    "train['Embarked'] = train['Embarked'].map(embarked_mapping)\n",
    "test['Embarked'] = test['Embarked'].map(embarked_mapping)\n",
    "\n",
    "train.head()"
   ]
  },
  {
   "cell_type": "markdown",
   "id": "96952553",
   "metadata": {
    "papermill": {
     "duration": 0.020656,
     "end_time": "2022-11-06T09:07:37.157758",
     "exception": false,
     "start_time": "2022-11-06T09:07:37.137102",
     "status": "completed"
    },
    "tags": []
   },
   "source": [
    "**Fare Feature**  \n",
    "\n",
    "It's time separate the fare values into some logical groups as well as filling in the single missing value in the test dataset."
   ]
  },
  {
   "cell_type": "code",
   "execution_count": null,
   "id": "8397705d",
   "metadata": {
    "execution": {
     "iopub.execute_input": "2022-11-06T09:07:37.200520Z",
     "iopub.status.busy": "2022-11-06T09:07:37.200100Z",
     "iopub.status.idle": "2022-11-06T09:07:37.216557Z",
     "shell.execute_reply": "2022-11-06T09:07:37.215746Z"
    },
    "papermill": {
     "duration": 0.040212,
     "end_time": "2022-11-06T09:07:37.218793",
     "exception": false,
     "start_time": "2022-11-06T09:07:37.178581",
     "status": "completed"
    },
    "tags": []
   },
   "outputs": [],
   "source": [
    "#fill in missing Fare value in test set base on mean fare for that Pclass\n",
    "for x in range(len(test[\"Fare\"])):\n",
    "    if pd.isnull(test[\"Fare\"][x]):\n",
    "        pclass = test[\"Pclass\"][x] #Pclass = 3\n",
    "        test[\"Fare\"][x] = round(train[train[\"Pclass\"] == pclass][\"Fare\"].mean(), 4)\n",
    "        \n",
    "#mpa Fare values into groups of numerical values\n",
    "train['FareBand'] = pd.qcut(train['Fare'], 4, labels = [1,2,3,4]) #qcut 是pands里面的封箱函数\n",
    "test['FareBand'] = pd.qcut(test['Fare'], 4, labels = [1,2,3,4])\n",
    "\n",
    "#drop Fare values\n",
    "train = train.drop(['Fare'], axis = 1)\n",
    "test = test.drop(['Fare'], axis = 1)"
   ]
  },
  {
   "cell_type": "code",
   "execution_count": null,
   "id": "8e2d7437",
   "metadata": {
    "execution": {
     "iopub.execute_input": "2022-11-06T09:07:37.259535Z",
     "iopub.status.busy": "2022-11-06T09:07:37.258559Z",
     "iopub.status.idle": "2022-11-06T09:07:37.274007Z",
     "shell.execute_reply": "2022-11-06T09:07:37.273408Z"
    },
    "papermill": {
     "duration": 0.037644,
     "end_time": "2022-11-06T09:07:37.275770",
     "exception": false,
     "start_time": "2022-11-06T09:07:37.238126",
     "status": "completed"
    },
    "tags": []
   },
   "outputs": [],
   "source": [
    "#check train data\n",
    "train.head(20)"
   ]
  },
  {
   "cell_type": "code",
   "execution_count": null,
   "id": "01e8a487",
   "metadata": {
    "execution": {
     "iopub.execute_input": "2022-11-06T09:07:37.318546Z",
     "iopub.status.busy": "2022-11-06T09:07:37.317584Z",
     "iopub.status.idle": "2022-11-06T09:07:37.330036Z",
     "shell.execute_reply": "2022-11-06T09:07:37.328852Z"
    },
    "papermill": {
     "duration": 0.03585,
     "end_time": "2022-11-06T09:07:37.331781",
     "exception": false,
     "start_time": "2022-11-06T09:07:37.295931",
     "status": "completed"
    },
    "tags": []
   },
   "outputs": [],
   "source": [
    "#check test data\n",
    "test.head()"
   ]
  },
  {
   "cell_type": "markdown",
   "id": "c2a58e1d",
   "metadata": {
    "papermill": {
     "duration": 0.018859,
     "end_time": "2022-11-06T09:07:37.369919",
     "exception": false,
     "start_time": "2022-11-06T09:07:37.351060",
     "status": "completed"
    },
    "tags": []
   },
   "source": [
    "## 6) Choosing the Best Model\n",
    "**Splitting the Training Data**\n",
    "\n",
    "We will use part of our training data(22% in this case) to test the accuracy of our different models."
   ]
  },
  {
   "cell_type": "code",
   "execution_count": null,
   "id": "019e3475",
   "metadata": {
    "execution": {
     "iopub.execute_input": "2022-11-06T09:07:37.409386Z",
     "iopub.status.busy": "2022-11-06T09:07:37.409056Z",
     "iopub.status.idle": "2022-11-06T09:07:37.588962Z",
     "shell.execute_reply": "2022-11-06T09:07:37.587831Z"
    },
    "papermill": {
     "duration": 0.2027,
     "end_time": "2022-11-06T09:07:37.591594",
     "exception": false,
     "start_time": "2022-11-06T09:07:37.388894",
     "status": "completed"
    },
    "tags": []
   },
   "outputs": [],
   "source": [
    "from sklearn.model_selection import train_test_split\n",
    "\n",
    "predictors = train.drop(['Survived', 'PassengerId'], axis = 1)\n",
    "target = train[\"Survived\"]\n",
    "x_train, x_val, y_train, y_val = train_test_split(predictors, target, test_size = 0.22, random_state = 0)"
   ]
  },
  {
   "cell_type": "markdown",
   "id": "43cc0d46",
   "metadata": {
    "papermill": {
     "duration": 0.020842,
     "end_time": "2022-11-06T09:07:37.633055",
     "exception": false,
     "start_time": "2022-11-06T09:07:37.612213",
     "status": "completed"
    },
    "tags": []
   },
   "source": [
    "** Testing Different Models**\n",
    "\n",
    "I will be testing the following models with my training data(got the list from here //有个超链接)：\n",
    "- Gaussian Naive Bayes\n",
    "- Logistic Regression\n",
    "- Support Vector Machines\n",
    "- Perceptron\n",
    "- Decision Tree Classifier\n",
    "- Random Forest Classifier\n",
    "- KNN or k-Nearest Neighbors\n",
    "- Stochastic Gradient Descent\n",
    "- Gradient Boosting Classifier\n",
    "\n",
    "For each model, we set the model, fit it with 80% of our training data, predict for 20% of the training data and check the accuracy."
   ]
  },
  {
   "cell_type": "code",
   "execution_count": null,
   "id": "a84657bb",
   "metadata": {
    "execution": {
     "iopub.execute_input": "2022-11-06T09:07:37.674927Z",
     "iopub.status.busy": "2022-11-06T09:07:37.674523Z",
     "iopub.status.idle": "2022-11-06T09:07:37.689612Z",
     "shell.execute_reply": "2022-11-06T09:07:37.687928Z"
    },
    "papermill": {
     "duration": 0.03815,
     "end_time": "2022-11-06T09:07:37.691813",
     "exception": false,
     "start_time": "2022-11-06T09:07:37.653663",
     "status": "completed"
    },
    "tags": []
   },
   "outputs": [],
   "source": [
    "#Gussian Naive Bayes\n",
    "from sklearn.naive_bayes import GaussianNB\n",
    "from sklearn.metrics import accuracy_score\n",
    "\n",
    "gaussian = GaussianNB()\n",
    "gaussian.fit(x_train, y_train)\n",
    "y_pred = gaussian.predict(x_val)\n",
    "acc_gaussian = round(accuracy_score(y_pred, y_val) * 100 , 2)\n",
    "print(acc_gaussian)"
   ]
  },
  {
   "cell_type": "code",
   "execution_count": null,
   "id": "a340a394",
   "metadata": {
    "execution": {
     "iopub.execute_input": "2022-11-06T09:07:37.734281Z",
     "iopub.status.busy": "2022-11-06T09:07:37.733928Z",
     "iopub.status.idle": "2022-11-06T09:07:37.828582Z",
     "shell.execute_reply": "2022-11-06T09:07:37.827097Z"
    },
    "papermill": {
     "duration": 0.118811,
     "end_time": "2022-11-06T09:07:37.830812",
     "exception": false,
     "start_time": "2022-11-06T09:07:37.712001",
     "status": "completed"
    },
    "tags": []
   },
   "outputs": [],
   "source": [
    "#Logistic Regression\n",
    "from sklearn.linear_model import LogisticRegression\n",
    "\n",
    "logreg = LogisticRegression()\n",
    "logreg.fit(x_train, y_train)\n",
    "y_pred = logreg.predict(x_val)\n",
    "acc_logreg = round(accuracy_score(y_pred, y_val) * 100 , 2)\n",
    "print(acc_logreg)"
   ]
  },
  {
   "cell_type": "code",
   "execution_count": null,
   "id": "927e2cb8",
   "metadata": {
    "execution": {
     "iopub.execute_input": "2022-11-06T09:07:37.872514Z",
     "iopub.status.busy": "2022-11-06T09:07:37.872092Z",
     "iopub.status.idle": "2022-11-06T09:07:37.902222Z",
     "shell.execute_reply": "2022-11-06T09:07:37.900826Z"
    },
    "papermill": {
     "duration": 0.053719,
     "end_time": "2022-11-06T09:07:37.904875",
     "exception": false,
     "start_time": "2022-11-06T09:07:37.851156",
     "status": "completed"
    },
    "tags": []
   },
   "outputs": [],
   "source": [
    "#Support Vector Machine\n",
    "from sklearn.svm import SVC\n",
    "\n",
    "svc = SVC()\n",
    "svc.fit(x_train, y_train)\n",
    "y_pred = svc.predict(x_val)\n",
    "acc_svc = round(accuracy_score(y_pred, y_val)*100, 2)\n",
    "print(acc_svc)"
   ]
  },
  {
   "cell_type": "code",
   "execution_count": null,
   "id": "7abe915d",
   "metadata": {
    "execution": {
     "iopub.execute_input": "2022-11-06T09:07:37.945949Z",
     "iopub.status.busy": "2022-11-06T09:07:37.945549Z",
     "iopub.status.idle": "2022-11-06T09:07:37.994159Z",
     "shell.execute_reply": "2022-11-06T09:07:37.992965Z"
    },
    "papermill": {
     "duration": 0.072031,
     "end_time": "2022-11-06T09:07:37.996615",
     "exception": false,
     "start_time": "2022-11-06T09:07:37.924584",
     "status": "completed"
    },
    "tags": []
   },
   "outputs": [],
   "source": [
    "# Linear SVC\n",
    "from sklearn.svm import LinearSVC\n",
    "\n",
    "linear_svc = LinearSVC()\n",
    "linear_svc.fit(x_train, y_train)\n",
    "y_pred = linear_svc.predict(x_val)\n",
    "acc_linear_svc = round(accuracy_score(y_pred, y_val)*100, 2)\n",
    "print(acc_linear_svc)"
   ]
  },
  {
   "cell_type": "code",
   "execution_count": null,
   "id": "91a065bd",
   "metadata": {
    "execution": {
     "iopub.execute_input": "2022-11-06T09:07:38.037090Z",
     "iopub.status.busy": "2022-11-06T09:07:38.036761Z",
     "iopub.status.idle": "2022-11-06T09:07:38.049671Z",
     "shell.execute_reply": "2022-11-06T09:07:38.048403Z"
    },
    "papermill": {
     "duration": 0.035814,
     "end_time": "2022-11-06T09:07:38.051906",
     "exception": false,
     "start_time": "2022-11-06T09:07:38.016092",
     "status": "completed"
    },
    "tags": []
   },
   "outputs": [],
   "source": [
    "# Perceptron\n",
    "from sklearn.linear_model import Perceptron\n",
    "\n",
    "perceptron = Perceptron()\n",
    "perceptron.fit(x_train, y_train)\n",
    "y_pred = perceptron.predict(x_val)\n",
    "acc_perceptron = round(accuracy_score(y_pred, y_val)*100, 2)\n",
    "print(acc_perceptron)"
   ]
  },
  {
   "cell_type": "code",
   "execution_count": null,
   "id": "1f9e0efa",
   "metadata": {
    "execution": {
     "iopub.execute_input": "2022-11-06T09:07:38.095476Z",
     "iopub.status.busy": "2022-11-06T09:07:38.094353Z",
     "iopub.status.idle": "2022-11-06T09:07:38.177947Z",
     "shell.execute_reply": "2022-11-06T09:07:38.176519Z"
    },
    "papermill": {
     "duration": 0.107779,
     "end_time": "2022-11-06T09:07:38.180328",
     "exception": false,
     "start_time": "2022-11-06T09:07:38.072549",
     "status": "completed"
    },
    "tags": []
   },
   "outputs": [],
   "source": [
    "# Decision Tree\n",
    "from sklearn.tree import DecisionTreeClassifier\n",
    "\n",
    "decisiontree = DecisionTreeClassifier()\n",
    "decisiontree.fit(x_train, y_train)\n",
    "y_pred = decisiontree.predict(x_val)\n",
    "acc_decisiontree = round(accuracy_score(y_pred, y_val)*100, 2)\n",
    "print(acc_decisiontree)"
   ]
  },
  {
   "cell_type": "code",
   "execution_count": null,
   "id": "90d390a7",
   "metadata": {
    "execution": {
     "iopub.execute_input": "2022-11-06T09:07:38.222713Z",
     "iopub.status.busy": "2022-11-06T09:07:38.222320Z",
     "iopub.status.idle": "2022-11-06T09:07:38.438556Z",
     "shell.execute_reply": "2022-11-06T09:07:38.436666Z"
    },
    "papermill": {
     "duration": 0.240169,
     "end_time": "2022-11-06T09:07:38.440845",
     "exception": false,
     "start_time": "2022-11-06T09:07:38.200676",
     "status": "completed"
    },
    "tags": []
   },
   "outputs": [],
   "source": [
    "# Random Forest\n",
    "from sklearn.ensemble import RandomForestClassifier\n",
    "\n",
    "randomforest = RandomForestClassifier()\n",
    "randomforest.fit(x_train, y_train)\n",
    "y_pred = randomforest.predict(x_val)\n",
    "acc_randomforest = round(accuracy_score(y_pred, y_val)*100, 2)\n",
    "print(acc_randomforest)"
   ]
  },
  {
   "cell_type": "code",
   "execution_count": null,
   "id": "b6ab6f1f",
   "metadata": {
    "execution": {
     "iopub.execute_input": "2022-11-06T09:07:38.481427Z",
     "iopub.status.busy": "2022-11-06T09:07:38.481080Z",
     "iopub.status.idle": "2022-11-06T09:07:38.498699Z",
     "shell.execute_reply": "2022-11-06T09:07:38.497274Z"
    },
    "papermill": {
     "duration": 0.040188,
     "end_time": "2022-11-06T09:07:38.500834",
     "exception": false,
     "start_time": "2022-11-06T09:07:38.460646",
     "status": "completed"
    },
    "tags": []
   },
   "outputs": [],
   "source": [
    "# KNN or k-Nearest Neighbors\n",
    "from sklearn.neighbors import KNeighborsClassifier\n",
    "\n",
    "knn = KNeighborsClassifier()\n",
    "knn.fit(x_train, y_train)\n",
    "y_pred = knn.predict(x_val)\n",
    "acc_knn = round(accuracy_score(y_pred, y_val)*100, 2)\n",
    "print(acc_knn)"
   ]
  },
  {
   "cell_type": "code",
   "execution_count": null,
   "id": "c36c5f40",
   "metadata": {
    "execution": {
     "iopub.execute_input": "2022-11-06T09:07:38.541951Z",
     "iopub.status.busy": "2022-11-06T09:07:38.541625Z",
     "iopub.status.idle": "2022-11-06T09:07:38.557773Z",
     "shell.execute_reply": "2022-11-06T09:07:38.556441Z"
    },
    "papermill": {
     "duration": 0.039294,
     "end_time": "2022-11-06T09:07:38.560281",
     "exception": false,
     "start_time": "2022-11-06T09:07:38.520987",
     "status": "completed"
    },
    "tags": []
   },
   "outputs": [],
   "source": [
    "# Stochastic Gradient Descent\n",
    "from sklearn.linear_model import SGDClassifier\n",
    "\n",
    "sgd = SGDClassifier()\n",
    "sgd.fit(x_train, y_train)\n",
    "y_pred = sgd.predict(x_val)\n",
    "acc_sgd = round(accuracy_score(y_pred, y_val)*100, 2)\n",
    "print(acc_sgd)"
   ]
  },
  {
   "cell_type": "code",
   "execution_count": null,
   "id": "23a64124",
   "metadata": {
    "execution": {
     "iopub.execute_input": "2022-11-06T09:07:38.601161Z",
     "iopub.status.busy": "2022-11-06T09:07:38.600831Z",
     "iopub.status.idle": "2022-11-06T09:07:38.680876Z",
     "shell.execute_reply": "2022-11-06T09:07:38.679412Z"
    },
    "papermill": {
     "duration": 0.102924,
     "end_time": "2022-11-06T09:07:38.682975",
     "exception": false,
     "start_time": "2022-11-06T09:07:38.580051",
     "status": "completed"
    },
    "tags": []
   },
   "outputs": [],
   "source": [
    "# Gradient Boosting Classifer\n",
    "from sklearn.ensemble import GradientBoostingClassifier\n",
    "\n",
    "gbk= GradientBoostingClassifier()\n",
    "gbk.fit(x_train, y_train)\n",
    "y_pred = gbk.predict(x_val)\n",
    "acc_gbk = round(accuracy_score(y_pred, y_val)*100, 2)\n",
    "print(acc_gbk)"
   ]
  },
  {
   "cell_type": "markdown",
   "id": "ed60e2bb",
   "metadata": {
    "papermill": {
     "duration": 0.019562,
     "end_time": "2022-11-06T09:07:38.722258",
     "exception": false,
     "start_time": "2022-11-06T09:07:38.702696",
     "status": "completed"
    },
    "tags": []
   },
   "source": [
    "Let's compare the accuracies of each model!"
   ]
  },
  {
   "cell_type": "code",
   "execution_count": null,
   "id": "410cf085",
   "metadata": {
    "execution": {
     "iopub.execute_input": "2022-11-06T09:07:38.764327Z",
     "iopub.status.busy": "2022-11-06T09:07:38.763191Z",
     "iopub.status.idle": "2022-11-06T09:07:38.778933Z",
     "shell.execute_reply": "2022-11-06T09:07:38.777783Z"
    },
    "papermill": {
     "duration": 0.038561,
     "end_time": "2022-11-06T09:07:38.780744",
     "exception": false,
     "start_time": "2022-11-06T09:07:38.742183",
     "status": "completed"
    },
    "tags": []
   },
   "outputs": [],
   "source": [
    "models = pd.DataFrame({\n",
    "    'Model':['Support Vector Machines','KNN', 'Logistic Regression',\n",
    "            'Random Forest', 'Naive Bayes', 'Perceptron','Linear SVC',\n",
    "            'Decision Tree', 'Stochastic Gradient Descent', 'Gradient Boosting Classifier'],\n",
    "    'Score':[acc_svc, acc_knn, acc_logreg,\n",
    "              acc_randomforest, acc_gaussian, acc_perceptron, acc_linear_svc, acc_decisiontree,\n",
    "             acc_sgd, acc_gbk]})\n",
    "models.sort_values(by='Score', ascending = False)"
   ]
  },
  {
   "cell_type": "markdown",
   "id": "adbbbf20",
   "metadata": {
    "papermill": {
     "duration": 0.019401,
     "end_time": "2022-11-06T09:07:38.819964",
     "exception": false,
     "start_time": "2022-11-06T09:07:38.800563",
     "status": "completed"
    },
    "tags": []
   },
   "source": [
    "I decided to use the Gradient Boosting Classifier model for the testing data.\n"
   ]
  },
  {
   "cell_type": "markdown",
   "id": "2847828b",
   "metadata": {
    "papermill": {
     "duration": 0.019459,
     "end_time": "2022-11-06T09:07:38.858967",
     "exception": false,
     "start_time": "2022-11-06T09:07:38.839508",
     "status": "completed"
    },
    "tags": []
   },
   "source": [
    "## 7) Creating Submission File\n",
    "It's time to create a submission.csv file to upload to the Kagle competition!"
   ]
  },
  {
   "cell_type": "code",
   "execution_count": null,
   "id": "277dca82",
   "metadata": {
    "execution": {
     "iopub.execute_input": "2022-11-06T09:07:38.899611Z",
     "iopub.status.busy": "2022-11-06T09:07:38.899255Z",
     "iopub.status.idle": "2022-11-06T09:07:38.913265Z",
     "shell.execute_reply": "2022-11-06T09:07:38.912184Z"
    },
    "papermill": {
     "duration": 0.036461,
     "end_time": "2022-11-06T09:07:38.915229",
     "exception": false,
     "start_time": "2022-11-06T09:07:38.878768",
     "status": "completed"
    },
    "tags": []
   },
   "outputs": [],
   "source": [
    "#set ids as PassengerId and predict survival\n",
    "ids = test['PassengerId']\n",
    "predictions = gbk.predict(test.drop('PassengerId', axis = 1))\n",
    "\n",
    "#set the output as a dataframe and convert to csv file named submission.csv\n",
    "output = pd.DataFrame({'PassengerId':ids, 'Survived':predictions})\n",
    "output.to_csv('submission.csv', index = False)"
   ]
  }
 ],
 "metadata": {
  "kernelspec": {
   "display_name": "Python 3",
   "language": "python",
   "name": "python3"
  },
  "language_info": {
   "codemirror_mode": {
    "name": "ipython",
    "version": 3
   },
   "file_extension": ".py",
   "mimetype": "text/x-python",
   "name": "python",
   "nbconvert_exporter": "python",
   "pygments_lexer": "ipython3",
   "version": "3.7.12"
  },
  "papermill": {
   "default_parameters": {},
   "duration": 15.145751,
   "end_time": "2022-11-06T09:07:39.657532",
   "environment_variables": {},
   "exception": null,
   "input_path": "__notebook__.ipynb",
   "output_path": "__notebook__.ipynb",
   "parameters": {},
   "start_time": "2022-11-06T09:07:24.511781",
   "version": "2.3.4"
  }
 },
 "nbformat": 4,
 "nbformat_minor": 5
}