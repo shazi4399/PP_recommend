{
 "cells": [
  {
   "cell_type": "code",
   "execution_count": 1,
   "id": "db1129e7",
   "metadata": {
    "_cell_guid": "b1076dfc-b9ad-4769-8c92-a6c4dae69d19",
    "_uuid": "8f2839f25d086af736a60e9eeb907d3b93b6e0e5",
    "execution": {
     "iopub.execute_input": "2022-11-06T09:07:32.152590Z",
     "iopub.status.busy": "2022-11-06T09:07:32.151853Z",
     "iopub.status.idle": "2022-11-06T09:07:32.164993Z",
     "shell.execute_reply": "2022-11-06T09:07:32.163409Z"
    },
    "papermill": {
     "duration": 0.033408,
     "end_time": "2022-11-06T09:07:32.168040",
     "exception": false,
     "start_time": "2022-11-06T09:07:32.134632",
     "status": "completed"
    },
    "tags": []
   },
   "outputs": [],
   "source": [
    "# This Python 3 environment comes with many helpful analytics libraries installed\n",
    "# It is defined by the kaggle/python Docker image: https://github.com/kaggle/docker-python\n",
    "# For example, here's several helpful packages to load\n",
    "\n",
    "import numpy as np # linear algebra\n",
    "import pandas as pd # data processing, CSV file I/O (e.g. pd.read_csv)\n",
    "\n",
    "# Input data files are available in the read-only \"../input/\" directory\n",
    "# For example, running this (by clicking run or pressing Shift+Enter) will list all files under the input directory\n",
    "\n",
    "import os\n",
    "for dirname, _, filenames in os.walk('/kaggle/input'):\n",
    "    for filename in filenames:\n",
    "        print(os.path.join(dirname, filename))\n",
    "\n",
    "# You can write up to 20GB to the current directory (/kaggle/working/) that gets preserved as output when you create a version using \"Save & Run All\" \n",
    "# You can also write temporary files to /kaggle/temp/, but they won't be saved outside of the current session"
   ]
  },
  {
   "cell_type": "markdown",
   "id": "654678b8",
   "metadata": {
    "papermill": {
     "duration": 0.01409,
     "end_time": "2022-11-06T09:07:32.196895",
     "exception": false,
     "start_time": "2022-11-06T09:07:32.182805",
     "status": "completed"
    },
    "tags": []
   },
   "source": [
    "## 1) Import Necessary Libraries\n",
    "First off, we need to import serveral Python libraries such as numpy, pandas, matplotlib and seaborn."
   ]
  },
  {
   "cell_type": "markdown",
   "id": "3f711b12",
   "metadata": {
    "papermill": {
     "duration": 0.014223,
     "end_time": "2022-11-06T09:07:32.225701",
     "exception": false,
     "start_time": "2022-11-06T09:07:32.211478",
     "status": "completed"
    },
    "tags": []
   },
   "source": []
  },
  {
   "cell_type": "code",
   "execution_count": 2,
   "id": "03897251",
   "metadata": {
    "execution": {
     "iopub.execute_input": "2022-11-06T09:07:32.256800Z",
     "iopub.status.busy": "2022-11-06T09:07:32.255916Z",
     "iopub.status.idle": "2022-11-06T09:07:33.144797Z",
     "shell.execute_reply": "2022-11-06T09:07:33.143765Z"
    },
    "papermill": {
     "duration": 0.906892,
     "end_time": "2022-11-06T09:07:33.147094",
     "exception": false,
     "start_time": "2022-11-06T09:07:32.240202",
     "status": "completed"
    },
    "tags": []
   },
   "outputs": [],
   "source": [
    "#data analysis libraries\n",
    "import numpy as np\n",
    "import pandas as pd\n",
    "\n",
    "#visualization libraries\n",
    "import matplotlib.pyplot as plt\n",
    "import seaborn as sns\n",
    "%matplotlib inline\n",
    "\n",
    "#ignore warnings\n",
    "import warnings\n",
    "warnings.filterwarnings('ignore')"
   ]
  },
  {
   "cell_type": "markdown",
   "id": "2cd2a189",
   "metadata": {
    "papermill": {
     "duration": 0.013706,
     "end_time": "2022-11-06T09:07:33.174884",
     "exception": false,
     "start_time": "2022-11-06T09:07:33.161178",
     "status": "completed"
    },
    "tags": []
   },
   "source": [
    "## 2)Read in Explore the Data\n",
    "It's time to read in our training and testing data using pd_read.csv, and take a first look at the training data using the `describe()` function"
   ]
  },
  {
   "cell_type": "markdown",
   "id": "0be290c6",
   "metadata": {
    "papermill": {
     "duration": 0.014807,
     "end_time": "2022-11-06T09:07:33.203501",
     "exception": false,
     "start_time": "2022-11-06T09:07:33.188694",
     "status": "completed"
    },
    "tags": []
   },
   "source": []
  },
  {
   "cell_type": "code",
   "execution_count": 3,
   "id": "8b2401b2",
   "metadata": {
    "execution": {
     "iopub.execute_input": "2022-11-06T09:07:33.233988Z",
     "iopub.status.busy": "2022-11-06T09:07:33.233641Z",
     "iopub.status.idle": "2022-11-06T09:07:33.309385Z",
     "shell.execute_reply": "2022-11-06T09:07:33.308110Z"
    },
    "papermill": {
     "duration": 0.09395,
     "end_time": "2022-11-06T09:07:33.311871",
     "exception": false,
     "start_time": "2022-11-06T09:07:33.217921",
     "status": "completed"
    },
    "tags": []
   },
   "outputs": [
    {
     "data": {
      "text/plain": "        PassengerId    Survived      Pclass                     Name   Sex  \\\ncount    891.000000  891.000000  891.000000                      891   891   \nunique          NaN         NaN         NaN                      891     2   \ntop             NaN         NaN         NaN  Braund, Mr. Owen Harris  male   \nfreq            NaN         NaN         NaN                        1   577   \nmean     446.000000    0.383838    2.308642                      NaN   NaN   \nstd      257.353842    0.486592    0.836071                      NaN   NaN   \nmin        1.000000    0.000000    1.000000                      NaN   NaN   \n25%      223.500000    0.000000    2.000000                      NaN   NaN   \n50%      446.000000    0.000000    3.000000                      NaN   NaN   \n75%      668.500000    1.000000    3.000000                      NaN   NaN   \nmax      891.000000    1.000000    3.000000                      NaN   NaN   \n\n               Age       SibSp       Parch  Ticket        Fare    Cabin  \\\ncount   714.000000  891.000000  891.000000     891  891.000000      204   \nunique         NaN         NaN         NaN     681         NaN      147   \ntop            NaN         NaN         NaN  347082         NaN  B96 B98   \nfreq           NaN         NaN         NaN       7         NaN        4   \nmean     29.699118    0.523008    0.381594     NaN   32.204208      NaN   \nstd      14.526497    1.102743    0.806057     NaN   49.693429      NaN   \nmin       0.420000    0.000000    0.000000     NaN    0.000000      NaN   \n25%      20.125000    0.000000    0.000000     NaN    7.910400      NaN   \n50%      28.000000    0.000000    0.000000     NaN   14.454200      NaN   \n75%      38.000000    1.000000    0.000000     NaN   31.000000      NaN   \nmax      80.000000    8.000000    6.000000     NaN  512.329200      NaN   \n\n       Embarked  \ncount       889  \nunique        3  \ntop           S  \nfreq        644  \nmean        NaN  \nstd         NaN  \nmin         NaN  \n25%         NaN  \n50%         NaN  \n75%         NaN  \nmax         NaN  ",
      "text/html": "<div>\n<style scoped>\n    .dataframe tbody tr th:only-of-type {\n        vertical-align: middle;\n    }\n\n    .dataframe tbody tr th {\n        vertical-align: top;\n    }\n\n    .dataframe thead th {\n        text-align: right;\n    }\n</style>\n<table border=\"1\" class=\"dataframe\">\n  <thead>\n    <tr style=\"text-align: right;\">\n      <th></th>\n      <th>PassengerId</th>\n      <th>Survived</th>\n      <th>Pclass</th>\n      <th>Name</th>\n      <th>Sex</th>\n      <th>Age</th>\n      <th>SibSp</th>\n      <th>Parch</th>\n      <th>Ticket</th>\n      <th>Fare</th>\n      <th>Cabin</th>\n      <th>Embarked</th>\n    </tr>\n  </thead>\n  <tbody>\n    <tr>\n      <th>count</th>\n      <td>891.000000</td>\n      <td>891.000000</td>\n      <td>891.000000</td>\n      <td>891</td>\n      <td>891</td>\n      <td>714.000000</td>\n      <td>891.000000</td>\n      <td>891.000000</td>\n      <td>891</td>\n      <td>891.000000</td>\n      <td>204</td>\n      <td>889</td>\n    </tr>\n    <tr>\n      <th>unique</th>\n      <td>NaN</td>\n      <td>NaN</td>\n      <td>NaN</td>\n      <td>891</td>\n      <td>2</td>\n      <td>NaN</td>\n      <td>NaN</td>\n      <td>NaN</td>\n      <td>681</td>\n      <td>NaN</td>\n      <td>147</td>\n      <td>3</td>\n    </tr>\n    <tr>\n      <th>top</th>\n      <td>NaN</td>\n      <td>NaN</td>\n      <td>NaN</td>\n      <td>Braund, Mr. Owen Harris</td>\n      <td>male</td>\n      <td>NaN</td>\n      <td>NaN</td>\n      <td>NaN</td>\n      <td>347082</td>\n      <td>NaN</td>\n      <td>B96 B98</td>\n      <td>S</td>\n    </tr>\n    <tr>\n      <th>freq</th>\n      <td>NaN</td>\n      <td>NaN</td>\n      <td>NaN</td>\n      <td>1</td>\n      <td>577</td>\n      <td>NaN</td>\n      <td>NaN</td>\n      <td>NaN</td>\n      <td>7</td>\n      <td>NaN</td>\n      <td>4</td>\n      <td>644</td>\n    </tr>\n    <tr>\n      <th>mean</th>\n      <td>446.000000</td>\n      <td>0.383838</td>\n      <td>2.308642</td>\n      <td>NaN</td>\n      <td>NaN</td>\n      <td>29.699118</td>\n      <td>0.523008</td>\n      <td>0.381594</td>\n      <td>NaN</td>\n      <td>32.204208</td>\n      <td>NaN</td>\n      <td>NaN</td>\n    </tr>\n    <tr>\n      <th>std</th>\n      <td>257.353842</td>\n      <td>0.486592</td>\n      <td>0.836071</td>\n      <td>NaN</td>\n      <td>NaN</td>\n      <td>14.526497</td>\n      <td>1.102743</td>\n      <td>0.806057</td>\n      <td>NaN</td>\n      <td>49.693429</td>\n      <td>NaN</td>\n      <td>NaN</td>\n    </tr>\n    <tr>\n      <th>min</th>\n      <td>1.000000</td>\n      <td>0.000000</td>\n      <td>1.000000</td>\n      <td>NaN</td>\n      <td>NaN</td>\n      <td>0.420000</td>\n      <td>0.000000</td>\n      <td>0.000000</td>\n      <td>NaN</td>\n      <td>0.000000</td>\n      <td>NaN</td>\n      <td>NaN</td>\n    </tr>\n    <tr>\n      <th>25%</th>\n      <td>223.500000</td>\n      <td>0.000000</td>\n      <td>2.000000</td>\n      <td>NaN</td>\n      <td>NaN</td>\n      <td>20.125000</td>\n      <td>0.000000</td>\n      <td>0.000000</td>\n      <td>NaN</td>\n      <td>7.910400</td>\n      <td>NaN</td>\n      <td>NaN</td>\n    </tr>\n    <tr>\n      <th>50%</th>\n      <td>446.000000</td>\n      <td>0.000000</td>\n      <td>3.000000</td>\n      <td>NaN</td>\n      <td>NaN</td>\n      <td>28.000000</td>\n      <td>0.000000</td>\n      <td>0.000000</td>\n      <td>NaN</td>\n      <td>14.454200</td>\n      <td>NaN</td>\n      <td>NaN</td>\n    </tr>\n    <tr>\n      <th>75%</th>\n      <td>668.500000</td>\n      <td>1.000000</td>\n      <td>3.000000</td>\n      <td>NaN</td>\n      <td>NaN</td>\n      <td>38.000000</td>\n      <td>1.000000</td>\n      <td>0.000000</td>\n      <td>NaN</td>\n      <td>31.000000</td>\n      <td>NaN</td>\n      <td>NaN</td>\n    </tr>\n    <tr>\n      <th>max</th>\n      <td>891.000000</td>\n      <td>1.000000</td>\n      <td>3.000000</td>\n      <td>NaN</td>\n      <td>NaN</td>\n      <td>80.000000</td>\n      <td>8.000000</td>\n      <td>6.000000</td>\n      <td>NaN</td>\n      <td>512.329200</td>\n      <td>NaN</td>\n      <td>NaN</td>\n    </tr>\n  </tbody>\n</table>\n</div>"
     },
     "execution_count": 3,
     "metadata": {},
     "output_type": "execute_result"
    }
   ],
   "source": [
    "#import train and test CSV files\n",
    "train = pd.read_csv(\"../input/titanic/train.csv\")\n",
    "test = pd.read_csv(\"../input/titanic/test.csv\")\n",
    "\n",
    "#take a look at the training data\n",
    "train.describe(include = \"all\")\n"
   ]
  },
  {
   "cell_type": "markdown",
   "id": "905b1b86",
   "metadata": {
    "papermill": {
     "duration": 0.014384,
     "end_time": "2022-11-06T09:07:33.341184",
     "exception": false,
     "start_time": "2022-11-06T09:07:33.326800",
     "status": "completed"
    },
    "tags": []
   },
   "source": [
    "## 3) Data Analysis\n",
    "We're going to consider the features in the dataset and how complete they are. "
   ]
  },
  {
   "cell_type": "code",
   "execution_count": 4,
   "id": "adccce70",
   "metadata": {
    "execution": {
     "iopub.execute_input": "2022-11-06T09:07:33.373408Z",
     "iopub.status.busy": "2022-11-06T09:07:33.372996Z",
     "iopub.status.idle": "2022-11-06T09:07:33.379521Z",
     "shell.execute_reply": "2022-11-06T09:07:33.378132Z"
    },
    "papermill": {
     "duration": 0.025198,
     "end_time": "2022-11-06T09:07:33.381683",
     "exception": false,
     "start_time": "2022-11-06T09:07:33.356485",
     "status": "completed"
    },
    "tags": []
   },
   "outputs": [
    {
     "name": "stdout",
     "output_type": "stream",
     "text": [
      "Index(['PassengerId', 'Survived', 'Pclass', 'Name', 'Sex', 'Age', 'SibSp',\n",
      "       'Parch', 'Ticket', 'Fare', 'Cabin', 'Embarked'],\n",
      "      dtype='object')\n"
     ]
    }
   ],
   "source": [
    "#get a list of the feature within the dataset\n",
    "print(train.columns)"
   ]
  },
  {
   "cell_type": "code",
   "execution_count": 5,
   "id": "5f4f5cc3",
   "metadata": {
    "execution": {
     "iopub.execute_input": "2022-11-06T09:07:33.412241Z",
     "iopub.status.busy": "2022-11-06T09:07:33.411903Z",
     "iopub.status.idle": "2022-11-06T09:07:33.428926Z",
     "shell.execute_reply": "2022-11-06T09:07:33.427863Z"
    },
    "papermill": {
     "duration": 0.034433,
     "end_time": "2022-11-06T09:07:33.430746",
     "exception": false,
     "start_time": "2022-11-06T09:07:33.396313",
     "status": "completed"
    },
    "tags": []
   },
   "outputs": [
    {
     "data": {
      "text/plain": "     PassengerId  Survived  Pclass  \\\n327          328         1       2   \n589          590         0       3   \n880          881         1       2   \n469          470         1       3   \n617          618         0       3   \n\n                                                Name     Sex    Age  SibSp  \\\n327                          Ball, Mrs. (Ada E Hall)  female  36.00      0   \n589                              Murdlin, Mr. Joseph    male    NaN      0   \n880     Shelley, Mrs. William (Imanita Parrish Hall)  female  25.00      0   \n469                    Baclini, Miss. Helene Barbara  female   0.75      2   \n617  Lobb, Mrs. William Arthur (Cordelia K Stanlick)  female  26.00      1   \n\n     Parch      Ticket     Fare Cabin Embarked  \n327      0       28551  13.0000     D        S  \n589      0  A./5. 3235   8.0500   NaN        S  \n880      1      230433  26.0000   NaN        S  \n469      1        2666  19.2583   NaN        C  \n617      0   A/5. 3336  16.1000   NaN        S  ",
      "text/html": "<div>\n<style scoped>\n    .dataframe tbody tr th:only-of-type {\n        vertical-align: middle;\n    }\n\n    .dataframe tbody tr th {\n        vertical-align: top;\n    }\n\n    .dataframe thead th {\n        text-align: right;\n    }\n</style>\n<table border=\"1\" class=\"dataframe\">\n  <thead>\n    <tr style=\"text-align: right;\">\n      <th></th>\n      <th>PassengerId</th>\n      <th>Survived</th>\n      <th>Pclass</th>\n      <th>Name</th>\n      <th>Sex</th>\n      <th>Age</th>\n      <th>SibSp</th>\n      <th>Parch</th>\n      <th>Ticket</th>\n      <th>Fare</th>\n      <th>Cabin</th>\n      <th>Embarked</th>\n    </tr>\n  </thead>\n  <tbody>\n    <tr>\n      <th>327</th>\n      <td>328</td>\n      <td>1</td>\n      <td>2</td>\n      <td>Ball, Mrs. (Ada E Hall)</td>\n      <td>female</td>\n      <td>36.00</td>\n      <td>0</td>\n      <td>0</td>\n      <td>28551</td>\n      <td>13.0000</td>\n      <td>D</td>\n      <td>S</td>\n    </tr>\n    <tr>\n      <th>589</th>\n      <td>590</td>\n      <td>0</td>\n      <td>3</td>\n      <td>Murdlin, Mr. Joseph</td>\n      <td>male</td>\n      <td>NaN</td>\n      <td>0</td>\n      <td>0</td>\n      <td>A./5. 3235</td>\n      <td>8.0500</td>\n      <td>NaN</td>\n      <td>S</td>\n    </tr>\n    <tr>\n      <th>880</th>\n      <td>881</td>\n      <td>1</td>\n      <td>2</td>\n      <td>Shelley, Mrs. William (Imanita Parrish Hall)</td>\n      <td>female</td>\n      <td>25.00</td>\n      <td>0</td>\n      <td>1</td>\n      <td>230433</td>\n      <td>26.0000</td>\n      <td>NaN</td>\n      <td>S</td>\n    </tr>\n    <tr>\n      <th>469</th>\n      <td>470</td>\n      <td>1</td>\n      <td>3</td>\n      <td>Baclini, Miss. Helene Barbara</td>\n      <td>female</td>\n      <td>0.75</td>\n      <td>2</td>\n      <td>1</td>\n      <td>2666</td>\n      <td>19.2583</td>\n      <td>NaN</td>\n      <td>C</td>\n    </tr>\n    <tr>\n      <th>617</th>\n      <td>618</td>\n      <td>0</td>\n      <td>3</td>\n      <td>Lobb, Mrs. William Arthur (Cordelia K Stanlick)</td>\n      <td>female</td>\n      <td>26.00</td>\n      <td>1</td>\n      <td>0</td>\n      <td>A/5. 3336</td>\n      <td>16.1000</td>\n      <td>NaN</td>\n      <td>S</td>\n    </tr>\n  </tbody>\n</table>\n</div>"
     },
     "execution_count": 5,
     "metadata": {},
     "output_type": "execute_result"
    }
   ],
   "source": [
    "#see a sample of the dataset to get an idea of the variables\n",
    "train.sample(5)"
   ]
  },
  {
   "cell_type": "markdown",
   "id": "51339578",
   "metadata": {
    "papermill": {
     "duration": 0.014096,
     "end_time": "2022-11-06T09:07:33.459312",
     "exception": false,
     "start_time": "2022-11-06T09:07:33.445216",
     "status": "completed"
    },
    "tags": []
   },
   "source": [
    "- 数值类型字段： Age(Continues)、SibSp(Discrete)、Parch(Discrete)、Fare（Continues）\n",
    "- 类别类型字段：Pclass、Ticket、Cabin、Embarked\n",
    "- 字符串类型字段：Name、Ticket、Cabin"
   ]
  },
  {
   "cell_type": "markdown",
   "id": "d4ea20b1",
   "metadata": {
    "papermill": {
     "duration": 0.014094,
     "end_time": "2022-11-06T09:07:33.487931",
     "exception": false,
     "start_time": "2022-11-06T09:07:33.473837",
     "status": "completed"
    },
    "tags": []
   },
   "source": [
    "**What are the data types for each feature?**\n",
    "- Survived：int\n",
    "- Pclass : int\n",
    "- Name:string\n",
    "- Sex:string\n",
    "- Age:float\n",
    "- SibSp:int\n",
    "- Parch:int\n",
    "- Ticket:string\n",
    "- Fare:float\n",
    "- Cabin:string\n",
    "- Embarked:string\n",
    "\n",
    "Now that we hava an idea of what kinds of features we're working with,we can see how much information we hava about each of them"
   ]
  },
  {
   "cell_type": "code",
   "execution_count": 6,
   "id": "2494b265",
   "metadata": {
    "execution": {
     "iopub.execute_input": "2022-11-06T09:07:33.518327Z",
     "iopub.status.busy": "2022-11-06T09:07:33.517885Z",
     "iopub.status.idle": "2022-11-06T09:07:33.555059Z",
     "shell.execute_reply": "2022-11-06T09:07:33.554184Z"
    },
    "papermill": {
     "duration": 0.055006,
     "end_time": "2022-11-06T09:07:33.557211",
     "exception": false,
     "start_time": "2022-11-06T09:07:33.502205",
     "status": "completed"
    },
    "tags": []
   },
   "outputs": [
    {
     "data": {
      "text/plain": "        PassengerId    Survived      Pclass                     Name   Sex  \\\ncount    891.000000  891.000000  891.000000                      891   891   \nunique          NaN         NaN         NaN                      891     2   \ntop             NaN         NaN         NaN  Braund, Mr. Owen Harris  male   \nfreq            NaN         NaN         NaN                        1   577   \nmean     446.000000    0.383838    2.308642                      NaN   NaN   \nstd      257.353842    0.486592    0.836071                      NaN   NaN   \nmin        1.000000    0.000000    1.000000                      NaN   NaN   \n25%      223.500000    0.000000    2.000000                      NaN   NaN   \n50%      446.000000    0.000000    3.000000                      NaN   NaN   \n75%      668.500000    1.000000    3.000000                      NaN   NaN   \nmax      891.000000    1.000000    3.000000                      NaN   NaN   \n\n               Age       SibSp       Parch  Ticket        Fare    Cabin  \\\ncount   714.000000  891.000000  891.000000     891  891.000000      204   \nunique         NaN         NaN         NaN     681         NaN      147   \ntop            NaN         NaN         NaN  347082         NaN  B96 B98   \nfreq           NaN         NaN         NaN       7         NaN        4   \nmean     29.699118    0.523008    0.381594     NaN   32.204208      NaN   \nstd      14.526497    1.102743    0.806057     NaN   49.693429      NaN   \nmin       0.420000    0.000000    0.000000     NaN    0.000000      NaN   \n25%      20.125000    0.000000    0.000000     NaN    7.910400      NaN   \n50%      28.000000    0.000000    0.000000     NaN   14.454200      NaN   \n75%      38.000000    1.000000    0.000000     NaN   31.000000      NaN   \nmax      80.000000    8.000000    6.000000     NaN  512.329200      NaN   \n\n       Embarked  \ncount       889  \nunique        3  \ntop           S  \nfreq        644  \nmean        NaN  \nstd         NaN  \nmin         NaN  \n25%         NaN  \n50%         NaN  \n75%         NaN  \nmax         NaN  ",
      "text/html": "<div>\n<style scoped>\n    .dataframe tbody tr th:only-of-type {\n        vertical-align: middle;\n    }\n\n    .dataframe tbody tr th {\n        vertical-align: top;\n    }\n\n    .dataframe thead th {\n        text-align: right;\n    }\n</style>\n<table border=\"1\" class=\"dataframe\">\n  <thead>\n    <tr style=\"text-align: right;\">\n      <th></th>\n      <th>PassengerId</th>\n      <th>Survived</th>\n      <th>Pclass</th>\n      <th>Name</th>\n      <th>Sex</th>\n      <th>Age</th>\n      <th>SibSp</th>\n      <th>Parch</th>\n      <th>Ticket</th>\n      <th>Fare</th>\n      <th>Cabin</th>\n      <th>Embarked</th>\n    </tr>\n  </thead>\n  <tbody>\n    <tr>\n      <th>count</th>\n      <td>891.000000</td>\n      <td>891.000000</td>\n      <td>891.000000</td>\n      <td>891</td>\n      <td>891</td>\n      <td>714.000000</td>\n      <td>891.000000</td>\n      <td>891.000000</td>\n      <td>891</td>\n      <td>891.000000</td>\n      <td>204</td>\n      <td>889</td>\n    </tr>\n    <tr>\n      <th>unique</th>\n      <td>NaN</td>\n      <td>NaN</td>\n      <td>NaN</td>\n      <td>891</td>\n      <td>2</td>\n      <td>NaN</td>\n      <td>NaN</td>\n      <td>NaN</td>\n      <td>681</td>\n      <td>NaN</td>\n      <td>147</td>\n      <td>3</td>\n    </tr>\n    <tr>\n      <th>top</th>\n      <td>NaN</td>\n      <td>NaN</td>\n      <td>NaN</td>\n      <td>Braund, Mr. Owen Harris</td>\n      <td>male</td>\n      <td>NaN</td>\n      <td>NaN</td>\n      <td>NaN</td>\n      <td>347082</td>\n      <td>NaN</td>\n      <td>B96 B98</td>\n      <td>S</td>\n    </tr>\n    <tr>\n      <th>freq</th>\n      <td>NaN</td>\n      <td>NaN</td>\n      <td>NaN</td>\n      <td>1</td>\n      <td>577</td>\n      <td>NaN</td>\n      <td>NaN</td>\n      <td>NaN</td>\n      <td>7</td>\n      <td>NaN</td>\n      <td>4</td>\n      <td>644</td>\n    </tr>\n    <tr>\n      <th>mean</th>\n      <td>446.000000</td>\n      <td>0.383838</td>\n      <td>2.308642</td>\n      <td>NaN</td>\n      <td>NaN</td>\n      <td>29.699118</td>\n      <td>0.523008</td>\n      <td>0.381594</td>\n      <td>NaN</td>\n      <td>32.204208</td>\n      <td>NaN</td>\n      <td>NaN</td>\n    </tr>\n    <tr>\n      <th>std</th>\n      <td>257.353842</td>\n      <td>0.486592</td>\n      <td>0.836071</td>\n      <td>NaN</td>\n      <td>NaN</td>\n      <td>14.526497</td>\n      <td>1.102743</td>\n      <td>0.806057</td>\n      <td>NaN</td>\n      <td>49.693429</td>\n      <td>NaN</td>\n      <td>NaN</td>\n    </tr>\n    <tr>\n      <th>min</th>\n      <td>1.000000</td>\n      <td>0.000000</td>\n      <td>1.000000</td>\n      <td>NaN</td>\n      <td>NaN</td>\n      <td>0.420000</td>\n      <td>0.000000</td>\n      <td>0.000000</td>\n      <td>NaN</td>\n      <td>0.000000</td>\n      <td>NaN</td>\n      <td>NaN</td>\n    </tr>\n    <tr>\n      <th>25%</th>\n      <td>223.500000</td>\n      <td>0.000000</td>\n      <td>2.000000</td>\n      <td>NaN</td>\n      <td>NaN</td>\n      <td>20.125000</td>\n      <td>0.000000</td>\n      <td>0.000000</td>\n      <td>NaN</td>\n      <td>7.910400</td>\n      <td>NaN</td>\n      <td>NaN</td>\n    </tr>\n    <tr>\n      <th>50%</th>\n      <td>446.000000</td>\n      <td>0.000000</td>\n      <td>3.000000</td>\n      <td>NaN</td>\n      <td>NaN</td>\n      <td>28.000000</td>\n      <td>0.000000</td>\n      <td>0.000000</td>\n      <td>NaN</td>\n      <td>14.454200</td>\n      <td>NaN</td>\n      <td>NaN</td>\n    </tr>\n    <tr>\n      <th>75%</th>\n      <td>668.500000</td>\n      <td>1.000000</td>\n      <td>3.000000</td>\n      <td>NaN</td>\n      <td>NaN</td>\n      <td>38.000000</td>\n      <td>1.000000</td>\n      <td>0.000000</td>\n      <td>NaN</td>\n      <td>31.000000</td>\n      <td>NaN</td>\n      <td>NaN</td>\n    </tr>\n    <tr>\n      <th>max</th>\n      <td>891.000000</td>\n      <td>1.000000</td>\n      <td>3.000000</td>\n      <td>NaN</td>\n      <td>NaN</td>\n      <td>80.000000</td>\n      <td>8.000000</td>\n      <td>6.000000</td>\n      <td>NaN</td>\n      <td>512.329200</td>\n      <td>NaN</td>\n      <td>NaN</td>\n    </tr>\n  </tbody>\n</table>\n</div>"
     },
     "execution_count": 6,
     "metadata": {},
     "output_type": "execute_result"
    }
   ],
   "source": [
    "#see a summary of the training dataset\n",
    "train.describe(include = \"all\")"
   ]
  },
  {
   "cell_type": "markdown",
   "id": "1b621f8b",
   "metadata": {
    "papermill": {
     "duration": 0.015143,
     "end_time": "2022-11-06T09:07:33.587583",
     "exception": false,
     "start_time": "2022-11-06T09:07:33.572440",
     "status": "completed"
    },
    "tags": []
   },
   "source": [
    "**Some Observations:**\n",
    "- There are a total of 891 passengers in our training set.\n",
    "- The Age feature is missing approximately 19.8% of its values. I'm guessing that the Age feature is pretty important to  \n",
    "survival, so we should probably attempt to fill these gaps.\n",
    "- The Cabin feature is missing approximately 77.1% of its values. Since so much of the feature is missing, it would be  \n",
    "hard to fill in the missing values. We'll probably drop these values from our dataset.\n",
    "- The Embarked feature is missing 0.22% of its value, which should be relatively hramless.  \n"
   ]
  },
  {
   "cell_type": "code",
   "execution_count": 7,
   "id": "4ecbaf98",
   "metadata": {
    "execution": {
     "iopub.execute_input": "2022-11-06T09:07:33.619864Z",
     "iopub.status.busy": "2022-11-06T09:07:33.619485Z",
     "iopub.status.idle": "2022-11-06T09:07:33.627495Z",
     "shell.execute_reply": "2022-11-06T09:07:33.626091Z"
    },
    "papermill": {
     "duration": 0.026799,
     "end_time": "2022-11-06T09:07:33.629648",
     "exception": false,
     "start_time": "2022-11-06T09:07:33.602849",
     "status": "completed"
    },
    "tags": []
   },
   "outputs": [
    {
     "name": "stdout",
     "output_type": "stream",
     "text": [
      "PassengerId      0\n",
      "Survived         0\n",
      "Pclass           0\n",
      "Name             0\n",
      "Sex              0\n",
      "Age            177\n",
      "SibSp            0\n",
      "Parch            0\n",
      "Ticket           0\n",
      "Fare             0\n",
      "Cabin          687\n",
      "Embarked         2\n",
      "dtype: int64\n"
     ]
    }
   ],
   "source": [
    "#check for any other unusable values\n",
    "print(pd.isnull(train).sum())"
   ]
  },
  {
   "cell_type": "markdown",
   "id": "235a3ee6",
   "metadata": {
    "papermill": {
     "duration": 0.014635,
     "end_time": "2022-11-06T09:07:33.660074",
     "exception": false,
     "start_time": "2022-11-06T09:07:33.645439",
     "status": "completed"
    },
    "tags": []
   },
   "source": [
    "We can see that except for the abovementioned missing values, no NaN values exist."
   ]
  },
  {
   "cell_type": "markdown",
   "id": "accaa034",
   "metadata": {
    "papermill": {
     "duration": 0.014491,
     "end_time": "2022-11-06T09:07:33.689483",
     "exception": false,
     "start_time": "2022-11-06T09:07:33.674992",
     "status": "completed"
    },
    "tags": []
   },
   "source": [
    "**Some Predictions:**\n",
    "- Sex: Females are more likely to survive.\n",
    "- SibSp/Parch: People traveling alone are more likely to survive.\n",
    "- Age:Young children are more likely to survive.\n",
    "- Pclass:People of higher socioeconomic class are more likely to survive."
   ]
  },
  {
   "cell_type": "markdown",
   "id": "e5ba5fe4",
   "metadata": {
    "papermill": {
     "duration": 0.014428,
     "end_time": "2022-11-06T09:07:33.718865",
     "exception": false,
     "start_time": "2022-11-06T09:07:33.704437",
     "status": "completed"
    },
    "tags": []
   },
   "source": [
    "## 4) Data Visualization\n",
    "It's time to visualize our data so we can see whether our predictions were accurtae!"
   ]
  },
  {
   "cell_type": "markdown",
   "id": "3cef814f",
   "metadata": {
    "papermill": {
     "duration": 0.014612,
     "end_time": "2022-11-06T09:07:33.748274",
     "exception": false,
     "start_time": "2022-11-06T09:07:33.733662",
     "status": "completed"
    },
    "tags": []
   },
   "source": [
    "**Sex Feature**"
   ]
  },
  {
   "cell_type": "code",
   "execution_count": 8,
   "id": "532ddb11",
   "metadata": {
    "execution": {
     "iopub.execute_input": "2022-11-06T09:07:33.786993Z",
     "iopub.status.busy": "2022-11-06T09:07:33.786599Z",
     "iopub.status.idle": "2022-11-06T09:07:34.015638Z",
     "shell.execute_reply": "2022-11-06T09:07:34.014864Z"
    },
    "papermill": {
     "duration": 0.251728,
     "end_time": "2022-11-06T09:07:34.018534",
     "exception": false,
     "start_time": "2022-11-06T09:07:33.766806",
     "status": "completed"
    },
    "tags": []
   },
   "outputs": [
    {
     "name": "stdout",
     "output_type": "stream",
     "text": [
      "Percentage of females who survived: 74.20382165605095\n",
      "percentage of males who survived: 18.890814558058924\n"
     ]
    },
    {
     "data": {
      "text/plain": "<Figure size 432x288 with 1 Axes>",
      "image/png": "[encoded data removed]"
     },
     "metadata": {
      "needs_background": "light"
     },
     "output_type": "display_data"
    }
   ],
   "source": [
    "#draw a bar plot of survival by sex\n",
    "sns.barplot(x = \"Sex\", y = \"Survived\", data = train)\n",
    "\n",
    "#print percentages of females vs. males that survive\n",
    "print(\"Percentage of females who survived:\", train[\"Survived\"][train[\"Sex\"] == 'female'].value_counts(normalize = True)[1]*100)\n",
    "\n",
    "print(\"percentage of males who survived:\", train[\"Survived\"][train[\"Sex\"] == 'male'].value_counts(normalize = True)[1]*100)"
   ]
  },
  {
   "cell_type": "markdown",
   "id": "79b72400",
   "metadata": {
    "papermill": {
     "duration": 0.01492,
     "end_time": "2022-11-06T09:07:34.048860",
     "exception": false,
     "start_time": "2022-11-06T09:07:34.033940",
     "status": "completed"
    },
    "tags": []
   },
   "source": [
    "**Pclass Feature**\n"
   ]
  },
  {
   "cell_type": "code",
   "execution_count": 9,
   "id": "28d5d236",
   "metadata": {
    "execution": {
     "iopub.execute_input": "2022-11-06T09:07:34.081501Z",
     "iopub.status.busy": "2022-11-06T09:07:34.080929Z",
     "iopub.status.idle": "2022-11-06T09:07:34.283909Z",
     "shell.execute_reply": "2022-11-06T09:07:34.283162Z"
    },
    "papermill": {
     "duration": 0.222438,
     "end_time": "2022-11-06T09:07:34.286718",
     "exception": false,
     "start_time": "2022-11-06T09:07:34.064280",
     "status": "completed"
    },
    "tags": []
   },
   "outputs": [
    {
     "name": "stdout",
     "output_type": "stream",
     "text": [
      "Percentage of Pclass = 1 who survived: 62.96296296296296\n",
      "Percentage of Pclass = 2 who survived: 47.28260869565217\n",
      "Percentage of Pclass = 3 who survived: 24.236252545824847\n"
     ]
    },
    {
     "data": {
      "text/plain": "<Figure size 432x288 with 1 Axes>",
      "image/png": "[encoded data removed]"
     },
     "metadata": {
      "needs_background": "light"
     },
     "output_type": "display_data"
    }
   ],
   "source": [
    "#draw a bar plot of survival by Pclass\n",
    "sns.barplot(x = \"Pclass\", y=\"Survived\", data = train)\n",
    "\n",
    "#print percentage of people by Pclass that survived\n",
    "print(\"Percentage of Pclass = 1 who survived:\", train[\"Survived\"][train[\"Pclass\"] == 1].value_counts(normalize = True)[1]*100)\n",
    "\n",
    "print(\"Percentage of Pclass = 2 who survived:\", train[\"Survived\"][train[\"Pclass\"] == 2].value_counts(normalize = True)[1]*100)\n",
    "\n",
    "print(\"Percentage of Pclass = 3 who survived:\", train[\"Survived\"][train[\"Pclass\"] == 3].value_counts(normalize = True)[1]*100)"
   ]
  },
  {
   "cell_type": "markdown",
   "id": "0a175453",
   "metadata": {
    "papermill": {
     "duration": 0.015536,
     "end_time": "2022-11-06T09:07:34.322743",
     "exception": false,
     "start_time": "2022-11-06T09:07:34.307207",
     "status": "completed"
    },
    "tags": []
   },
   "source": [
    "As predicted, people with higher socioeconomic class had a higher rate of survival.(62.9% vs 47.3% vs 24.2%)"
   ]
  },
  {
   "cell_type": "markdown",
   "id": "c513230e",
   "metadata": {
    "papermill": {
     "duration": 0.015667,
     "end_time": "2022-11-06T09:07:34.354107",
     "exception": false,
     "start_time": "2022-11-06T09:07:34.338440",
     "status": "completed"
    },
    "tags": []
   },
   "source": [
    "**SibSp Feature**"
   ]
  },
  {
   "cell_type": "code",
   "execution_count": 10,
   "id": "8755395e",
   "metadata": {
    "execution": {
     "iopub.execute_input": "2022-11-06T09:07:34.388158Z",
     "iopub.status.busy": "2022-11-06T09:07:34.387508Z",
     "iopub.status.idle": "2022-11-06T09:07:34.681023Z",
     "shell.execute_reply": "2022-11-06T09:07:34.680204Z"
    },
    "papermill": {
     "duration": 0.312759,
     "end_time": "2022-11-06T09:07:34.682997",
     "exception": false,
     "start_time": "2022-11-06T09:07:34.370238",
     "status": "completed"
    },
    "tags": []
   },
   "outputs": [
    {
     "name": "stdout",
     "output_type": "stream",
     "text": [
      "Percentage of SibSp = 0 who survived: 34.53947368421053\n",
      "Percentage of SibSp = 1 who survived: 53.588516746411486\n",
      "Percentage of SibSp = 2 who survived: 46.42857142857143\n"
     ]
    },
    {
     "data": {
      "text/plain": "<Figure size 432x288 with 1 Axes>",
      "image/png": "[encoded data removed]"
     },
     "metadata": {
      "needs_background": "light"
     },
     "output_type": "display_data"
    }
   ],
   "source": [
    "#draw a bar plot for SibSp vs survival\n",
    "sns.barplot(x = \"SibSp\", y = \"Survived\", data = train)\n",
    "\n",
    "#I won't be printing individual percent values for all of these.\n",
    "print(\"Percentage of SibSp = 0 who survived:\" , train[\"Survived\"][train[\"SibSp\"] == 0].value_counts(normalize = True)[1]*100)\n",
    "\n",
    "print(\"Percentage of SibSp = 1 who survived:\" , train[\"Survived\"][train[\"SibSp\"] == 1].value_counts(normalize = True)[1]*100)\n",
    "\n",
    "print(\"Percentage of SibSp = 2 who survived:\" , train[\"Survived\"][train[\"SibSp\"] == 2].value_counts(normalize = True)[1]*100)"
   ]
  },
  {
   "cell_type": "markdown",
   "id": "632a3a1a",
   "metadata": {
    "papermill": {
     "duration": 0.015246,
     "end_time": "2022-11-06T09:07:34.715887",
     "exception": false,
     "start_time": "2022-11-06T09:07:34.700641",
     "status": "completed"
    },
    "tags": []
   },
   "source": [
    "In general, it's clear that people with more siblings or spouses aboard were less likely to survive. However, contrary to  \n",
    "expectations, people with no siblings or spouses were less to likely to survive than those with one or two.(34.5% vs 53.4% vs 46.4%)"
   ]
  },
  {
   "cell_type": "markdown",
   "id": "826f7f6f",
   "metadata": {
    "papermill": {
     "duration": 0.01587,
     "end_time": "2022-11-06T09:07:34.747942",
     "exception": false,
     "start_time": "2022-11-06T09:07:34.732072",
     "status": "completed"
    },
    "tags": []
   },
   "source": [
    "**Parch Feature**"
   ]
  },
  {
   "cell_type": "code",
   "execution_count": 11,
   "id": "8eee0da8",
   "metadata": {
    "execution": {
     "iopub.execute_input": "2022-11-06T09:07:34.782986Z",
     "iopub.status.busy": "2022-11-06T09:07:34.782498Z",
     "iopub.status.idle": "2022-11-06T09:07:35.037308Z",
     "shell.execute_reply": "2022-11-06T09:07:35.036488Z"
    },
    "papermill": {
     "duration": 0.275395,
     "end_time": "2022-11-06T09:07:35.040000",
     "exception": false,
     "start_time": "2022-11-06T09:07:34.764605",
     "status": "completed"
    },
    "tags": []
   },
   "outputs": [
    {
     "data": {
      "text/plain": "<Figure size 432x288 with 1 Axes>",
      "image/png": "[encoded data removed]"
     },
     "metadata": {
      "needs_background": "light"
     },
     "output_type": "display_data"
    }
   ],
   "source": [
    "#draw a bar plot for Parch vs. survival\n",
    "sns.barplot(x = \"Parch\", y = \"Survived\", data = train)\n",
    "plt.show()"
   ]
  },
  {
   "cell_type": "markdown",
   "id": "47fe0cb0",
   "metadata": {
    "papermill": {
     "duration": 0.016295,
     "end_time": "2022-11-06T09:07:35.077441",
     "exception": false,
     "start_time": "2022-11-06T09:07:35.061146",
     "status": "completed"
    },
    "tags": []
   },
   "source": [
    "People with less than four parents or children aboard are more likely to survive than those with four or more.   \n",
    "Again,people traveling alone are less likely to survive than those with 1-3 parents or children."
   ]
  },
  {
   "cell_type": "markdown",
   "id": "2de648c9",
   "metadata": {
    "papermill": {
     "duration": 0.016575,
     "end_time": "2022-11-06T09:07:35.110534",
     "exception": false,
     "start_time": "2022-11-06T09:07:35.093959",
     "status": "completed"
    },
    "tags": []
   },
   "source": [
    "**Age Feature**"
   ]
  },
  {
   "cell_type": "code",
   "execution_count": 12,
   "id": "1b65cb4f",
   "metadata": {
    "execution": {
     "iopub.execute_input": "2022-11-06T09:07:35.146160Z",
     "iopub.status.busy": "2022-11-06T09:07:35.145610Z",
     "iopub.status.idle": "2022-11-06T09:07:35.462895Z",
     "shell.execute_reply": "2022-11-06T09:07:35.462151Z"
    },
    "papermill": {
     "duration": 0.337934,
     "end_time": "2022-11-06T09:07:35.464855",
     "exception": false,
     "start_time": "2022-11-06T09:07:35.126921",
     "status": "completed"
    },
    "tags": []
   },
   "outputs": [
    {
     "data": {
      "text/plain": "<Figure size 432x288 with 1 Axes>",
      "image/png": "[encoded data removed]"
     },
     "metadata": {
      "needs_background": "light"
     },
     "output_type": "display_data"
    }
   ],
   "source": [
    "#sort the ages into logical categories\n",
    "train[\"Age\"] = train[\"Age\"].fillna(-0.5)\n",
    "test[\"Age\"] = train[\"Age\"].fillna(-0.5)\n",
    "bins = [-1, 0, 5, 12, 18, 24, 35, 60, np.inf]##数据处理 封箱操作\n",
    "labels = ['Unknown', 'Baby', 'Child', 'Teenager', 'Student', 'Young Adult', 'Adult', 'Senior']\n",
    "train['AgeGroup'] = pd.cut(train[\"Age\"], bins, labels = labels)\n",
    "test['AgeGroup'] = pd.cut(test[\"Age\"], bins, labels = labels)\n",
    "\n",
    "#draw a bar plot of Age vs. survival\n",
    "sns.barplot(x=\"AgeGroup\", y = \"Survived\", data = train)\n",
    "plt.show()"
   ]
  },
  {
   "cell_type": "markdown",
   "id": "34e34eb4",
   "metadata": {
    "papermill": {
     "duration": 0.016714,
     "end_time": "2022-11-06T09:07:35.497921",
     "exception": false,
     "start_time": "2022-11-06T09:07:35.481207",
     "status": "completed"
    },
    "tags": []
   },
   "source": [
    "Babies are more likely to survive than any other age group"
   ]
  },
  {
   "cell_type": "markdown",
   "id": "fb42bf53",
   "metadata": {
    "papermill": {
     "duration": 0.016404,
     "end_time": "2022-11-06T09:07:35.530851",
     "exception": false,
     "start_time": "2022-11-06T09:07:35.514447",
     "status": "completed"
    },
    "tags": []
   },
   "source": [
    "**Cabin Feature**"
   ]
  },
  {
   "cell_type": "markdown",
   "id": "d5cd833c",
   "metadata": {
    "papermill": {
     "duration": 0.016303,
     "end_time": "2022-11-06T09:07:35.564031",
     "exception": false,
     "start_time": "2022-11-06T09:07:35.547728",
     "status": "completed"
    },
    "tags": []
   },
   "source": [
    "I think the idea here is that people with recorded cabin numbers are of highers are of higher socioeconomic class, and thus more likely  \n",
    "to survive. Thanks for the tips.@** and @***"
   ]
  },
  {
   "cell_type": "code",
   "execution_count": 13,
   "id": "44dbb586",
   "metadata": {
    "execution": {
     "iopub.execute_input": "2022-11-06T09:07:35.599621Z",
     "iopub.status.busy": "2022-11-06T09:07:35.599103Z",
     "iopub.status.idle": "2022-11-06T09:07:35.769429Z",
     "shell.execute_reply": "2022-11-06T09:07:35.768402Z"
    },
    "papermill": {
     "duration": 0.191295,
     "end_time": "2022-11-06T09:07:35.772014",
     "exception": false,
     "start_time": "2022-11-06T09:07:35.580719",
     "status": "completed"
    },
    "tags": []
   },
   "outputs": [
    {
     "name": "stdout",
     "output_type": "stream",
     "text": [
      "Percentage of CabinBool = 1 who survived: 66.66666666666666\n",
      "Percentage of CabinBool = 0 who survived: 66.66666666666666\n"
     ]
    },
    {
     "data": {
      "text/plain": "<Figure size 432x288 with 1 Axes>",
      "image/png": "[encoded data removed]"
     },
     "metadata": {
      "needs_background": "light"
     },
     "output_type": "display_data"
    }
   ],
   "source": [
    "train[\"CabinBool\"] = (train[\"Cabin\"].notnull().astype('int'))\n",
    "test[\"CabinBool\"] = (test[\"Cabin\"].notnull().astype('int'))\n",
    "\n",
    "#calculate percentages of CabinBool vs. survived\n",
    "print(\"Percentage of CabinBool = 1 who survived:\", train[\"Survived\"][train[\"CabinBool\"] == 1].value_counts(normalize = True)[1]*100)\n",
    "print(\"Percentage of CabinBool = 0 who survived:\", train[\"Survived\"][train[\"CabinBool\"] == 1].value_counts(normalize = True)[1]*100)\n",
    "\n",
    "#draw a bar plot of CabinBool vs. survival\n",
    "sns.barplot(x = \"CabinBool\", y = \"Survived\", data=train)\n",
    "plt.show()"
   ]
  },
  {
   "cell_type": "markdown",
   "id": "5afcdf0d",
   "metadata": {
    "papermill": {
     "duration": 0.020462,
     "end_time": "2022-11-06T09:07:35.818118",
     "exception": false,
     "start_time": "2022-11-06T09:07:35.797656",
     "status": "completed"
    },
    "tags": []
   },
   "source": [
    "People with a recorded Cabin number are , in fact , more likely to survive(66.6% vs 29.9%)"
   ]
  },
  {
   "cell_type": "markdown",
   "id": "583193f5",
   "metadata": {
    "papermill": {
     "duration": 0.018118,
     "end_time": "2022-11-06T09:07:35.855508",
     "exception": false,
     "start_time": "2022-11-06T09:07:35.837390",
     "status": "completed"
    },
    "tags": []
   },
   "source": [
    "**Looking at the Test Data**  \n",
    "\n",
    "Let's see how our test data looks!"
   ]
  },
  {
   "cell_type": "code",
   "execution_count": 14,
   "id": "3689749a",
   "metadata": {
    "execution": {
     "iopub.execute_input": "2022-11-06T09:07:35.890667Z",
     "iopub.status.busy": "2022-11-06T09:07:35.890258Z",
     "iopub.status.idle": "2022-11-06T09:07:35.929759Z",
     "shell.execute_reply": "2022-11-06T09:07:35.928887Z"
    },
    "papermill": {
     "duration": 0.059489,
     "end_time": "2022-11-06T09:07:35.931630",
     "exception": false,
     "start_time": "2022-11-06T09:07:35.872141",
     "status": "completed"
    },
    "tags": []
   },
   "outputs": [
    {
     "data": {
      "text/plain": "        PassengerId      Pclass              Name   Sex         Age  \\\ncount    418.000000  418.000000               418   418  418.000000   \nunique          NaN         NaN               418     2         NaN   \ntop             NaN         NaN  Kelly, Mr. James  male         NaN   \nfreq            NaN         NaN                 1   266         NaN   \nmean    1100.500000    2.265550               NaN   NaN   22.885766   \nstd      120.810458    0.841838               NaN   NaN   17.210527   \nmin      892.000000    1.000000               NaN   NaN   -0.500000   \n25%      996.250000    1.000000               NaN   NaN    4.000000   \n50%     1100.500000    3.000000               NaN   NaN   24.000000   \n75%     1204.750000    3.000000               NaN   NaN   34.000000   \nmax     1309.000000    3.000000               NaN   NaN   71.000000   \n\n             SibSp       Parch    Ticket        Fare            Cabin  \\\ncount   418.000000  418.000000       418  417.000000               91   \nunique         NaN         NaN       363         NaN               76   \ntop            NaN         NaN  PC 17608         NaN  B57 B59 B63 B66   \nfreq           NaN         NaN         5         NaN                3   \nmean      0.447368    0.392344       NaN   35.627188              NaN   \nstd       0.896760    0.981429       NaN   55.907576              NaN   \nmin       0.000000    0.000000       NaN    0.000000              NaN   \n25%       0.000000    0.000000       NaN    7.895800              NaN   \n50%       0.000000    0.000000       NaN   14.454200              NaN   \n75%       1.000000    0.000000       NaN   31.500000              NaN   \nmax       8.000000    9.000000       NaN  512.329200              NaN   \n\n       Embarked     AgeGroup   CabinBool  \ncount       418          418  418.000000  \nunique        3            8         NaN  \ntop           S  Young Adult         NaN  \nfreq        270          100         NaN  \nmean        NaN          NaN    0.217703  \nstd         NaN          NaN    0.413179  \nmin         NaN          NaN    0.000000  \n25%         NaN          NaN    0.000000  \n50%         NaN          NaN    0.000000  \n75%         NaN          NaN    0.000000  \nmax         NaN          NaN    1.000000  ",
      "text/html": "<div>\n<style scoped>\n    .dataframe tbody tr th:only-of-type {\n        vertical-align: middle;\n    }\n\n    .dataframe tbody tr th {\n        vertical-align: top;\n    }\n\n    .dataframe thead th {\n        text-align: right;\n    }\n</style>\n<table border=\"1\" class=\"dataframe\">\n  <thead>\n    <tr style=\"text-align: right;\">\n      <th></th>\n      <th>PassengerId</th>\n      <th>Pclass</th>\n      <th>Name</th>\n      <th>Sex</th>\n      <th>Age</th>\n      <th>SibSp</th>\n      <th>Parch</th>\n      <th>Ticket</th>\n      <th>Fare</th>\n      <th>Cabin</th>\n      <th>Embarked</th>\n      <th>AgeGroup</th>\n      <th>CabinBool</th>\n    </tr>\n  </thead>\n  <tbody>\n    <tr>\n      <th>count</th>\n      <td>418.000000</td>\n      <td>418.000000</td>\n      <td>418</td>\n      <td>418</td>\n      <td>418.000000</td>\n      <td>418.000000</td>\n      <td>418.000000</td>\n      <td>418</td>\n      <td>417.000000</td>\n      <td>91</td>\n      <td>418</td>\n      <td>418</td>\n      <td>418.000000</td>\n    </tr>\n    <tr>\n      <th>unique</th>\n      <td>NaN</td>\n      <td>NaN</td>\n      <td>418</td>\n      <td>2</td>\n      <td>NaN</td>\n      <td>NaN</td>\n      <td>NaN</td>\n      <td>363</td>\n      <td>NaN</td>\n      <td>76</td>\n      <td>3</td>\n      <td>8</td>\n      <td>NaN</td>\n    </tr>\n    <tr>\n      <th>top</th>\n      <td>NaN</td>\n      <td>NaN</td>\n      <td>Kelly, Mr. James</td>\n      <td>male</td>\n      <td>NaN</td>\n      <td>NaN</td>\n      <td>NaN</td>\n      <td>PC 17608</td>\n      <td>NaN</td>\n      <td>B57 B59 B63 B66</td>\n      <td>S</td>\n      <td>Young Adult</td>\n      <td>NaN</td>\n    </tr>\n    <tr>\n      <th>freq</th>\n      <td>NaN</td>\n      <td>NaN</td>\n      <td>1</td>\n      <td>266</td>\n      <td>NaN</td>\n      <td>NaN</td>\n      <td>NaN</td>\n      <td>5</td>\n      <td>NaN</td>\n      <td>3</td>\n      <td>270</td>\n      <td>100</td>\n      <td>NaN</td>\n    </tr>\n    <tr>\n      <th>mean</th>\n      <td>1100.500000</td>\n      <td>2.265550</td>\n      <td>NaN</td>\n      <td>NaN</td>\n      <td>22.885766</td>\n      <td>0.447368</td>\n      <td>0.392344</td>\n      <td>NaN</td>\n      <td>35.627188</td>\n      <td>NaN</td>\n      <td>NaN</td>\n      <td>NaN</td>\n      <td>0.217703</td>\n    </tr>\n    <tr>\n      <th>std</th>\n      <td>120.810458</td>\n      <td>0.841838</td>\n      <td>NaN</td>\n      <td>NaN</td>\n      <td>17.210527</td>\n      <td>0.896760</td>\n      <td>0.981429</td>\n      <td>NaN</td>\n      <td>55.907576</td>\n      <td>NaN</td>\n      <td>NaN</td>\n      <td>NaN</td>\n      <td>0.413179</td>\n    </tr>\n    <tr>\n      <th>min</th>\n      <td>892.000000</td>\n      <td>1.000000</td>\n      <td>NaN</td>\n      <td>NaN</td>\n      <td>-0.500000</td>\n      <td>0.000000</td>\n      <td>0.000000</td>\n      <td>NaN</td>\n      <td>0.000000</td>\n      <td>NaN</td>\n      <td>NaN</td>\n      <td>NaN</td>\n      <td>0.000000</td>\n    </tr>\n    <tr>\n      <th>25%</th>\n      <td>996.250000</td>\n      <td>1.000000</td>\n      <td>NaN</td>\n      <td>NaN</td>\n      <td>4.000000</td>\n      <td>0.000000</td>\n      <td>0.000000</td>\n      <td>NaN</td>\n      <td>7.895800</td>\n      <td>NaN</td>\n      <td>NaN</td>\n      <td>NaN</td>\n      <td>0.000000</td>\n    </tr>\n    <tr>\n      <th>50%</th>\n      <td>1100.500000</td>\n      <td>3.000000</td>\n      <td>NaN</td>\n      <td>NaN</td>\n      <td>24.000000</td>\n      <td>0.000000</td>\n      <td>0.000000</td>\n      <td>NaN</td>\n      <td>14.454200</td>\n      <td>NaN</td>\n      <td>NaN</td>\n      <td>NaN</td>\n      <td>0.000000</td>\n    </tr>\n    <tr>\n      <th>75%</th>\n      <td>1204.750000</td>\n      <td>3.000000</td>\n      <td>NaN</td>\n      <td>NaN</td>\n      <td>34.000000</td>\n      <td>1.000000</td>\n      <td>0.000000</td>\n      <td>NaN</td>\n      <td>31.500000</td>\n      <td>NaN</td>\n      <td>NaN</td>\n      <td>NaN</td>\n      <td>0.000000</td>\n    </tr>\n    <tr>\n      <th>max</th>\n      <td>1309.000000</td>\n      <td>3.000000</td>\n      <td>NaN</td>\n      <td>NaN</td>\n      <td>71.000000</td>\n      <td>8.000000</td>\n      <td>9.000000</td>\n      <td>NaN</td>\n      <td>512.329200</td>\n      <td>NaN</td>\n      <td>NaN</td>\n      <td>NaN</td>\n      <td>1.000000</td>\n    </tr>\n  </tbody>\n</table>\n</div>"
     },
     "execution_count": 14,
     "metadata": {},
     "output_type": "execute_result"
    }
   ],
   "source": [
    "test.describe(include=\"all\")"
   ]
  },
  {
   "cell_type": "markdown",
   "id": "250ce0e0",
   "metadata": {
    "papermill": {
     "duration": 0.01642,
     "end_time": "2022-11-06T09:07:35.965214",
     "exception": false,
     "start_time": "2022-11-06T09:07:35.948794",
     "status": "completed"
    },
    "tags": []
   },
   "source": [
    "- We hava a total of 418 passengers.\n",
    "- 1 value from the Fare feature is missing\n",
    "- Around 20.5% of the Age feature is missing, we will need to fill that in."
   ]
  },
  {
   "cell_type": "markdown",
   "id": "75c8a98c",
   "metadata": {
    "papermill": {
     "duration": 0.016666,
     "end_time": "2022-11-06T09:07:35.998535",
     "exception": false,
     "start_time": "2022-11-06T09:07:35.981869",
     "status": "completed"
    },
    "tags": []
   },
   "source": [
    "**Cabin Feature**\n"
   ]
  },
  {
   "cell_type": "code",
   "execution_count": 15,
   "id": "d8c6c048",
   "metadata": {
    "execution": {
     "iopub.execute_input": "2022-11-06T09:07:36.033111Z",
     "iopub.status.busy": "2022-11-06T09:07:36.032754Z",
     "iopub.status.idle": "2022-11-06T09:07:36.039839Z",
     "shell.execute_reply": "2022-11-06T09:07:36.039178Z"
    },
    "papermill": {
     "duration": 0.02633,
     "end_time": "2022-11-06T09:07:36.041400",
     "exception": false,
     "start_time": "2022-11-06T09:07:36.015070",
     "status": "completed"
    },
    "tags": []
   },
   "outputs": [],
   "source": [
    "#we'll start off by dropping the Cabin feature since not a lot more useful information can be extracted from it.\n",
    "train = train.drop(['Cabin'], axis = 1)\n",
    "test = test.drop(['Cabin'], axis = 1)"
   ]
  },
  {
   "cell_type": "markdown",
   "id": "2cce91bc",
   "metadata": {
    "papermill": {
     "duration": 0.016696,
     "end_time": "2022-11-06T09:07:36.075192",
     "exception": false,
     "start_time": "2022-11-06T09:07:36.058496",
     "status": "completed"
    },
    "tags": []
   },
   "source": [
    "**Ticket Feature**\n"
   ]
  },
  {
   "cell_type": "code",
   "execution_count": 16,
   "id": "8e428a13",
   "metadata": {
    "execution": {
     "iopub.execute_input": "2022-11-06T09:07:36.111159Z",
     "iopub.status.busy": "2022-11-06T09:07:36.110607Z",
     "iopub.status.idle": "2022-11-06T09:07:36.117198Z",
     "shell.execute_reply": "2022-11-06T09:07:36.115930Z"
    },
    "papermill": {
     "duration": 0.027572,
     "end_time": "2022-11-06T09:07:36.119786",
     "exception": false,
     "start_time": "2022-11-06T09:07:36.092214",
     "status": "completed"
    },
    "tags": []
   },
   "outputs": [],
   "source": [
    "#we can also drop the Ticket feature since it's unlikely to yield any useful information\n",
    "train = train.drop(['Ticket'], axis = 1)\n",
    "test = test.drop(['Ticket'], axis = 1)\n"
   ]
  },
  {
   "cell_type": "markdown",
   "id": "6659def7",
   "metadata": {
    "papermill": {
     "duration": 0.017118,
     "end_time": "2022-11-06T09:07:36.154185",
     "exception": false,
     "start_time": "2022-11-06T09:07:36.137067",
     "status": "completed"
    },
    "tags": []
   },
   "source": [
    "**Embarked Feature**"
   ]
  },
  {
   "cell_type": "code",
   "execution_count": 17,
   "id": "73749e45",
   "metadata": {
    "execution": {
     "iopub.execute_input": "2022-11-06T09:07:36.189986Z",
     "iopub.status.busy": "2022-11-06T09:07:36.189669Z",
     "iopub.status.idle": "2022-11-06T09:07:36.199645Z",
     "shell.execute_reply": "2022-11-06T09:07:36.197926Z"
    },
    "papermill": {
     "duration": 0.030493,
     "end_time": "2022-11-06T09:07:36.201885",
     "exception": false,
     "start_time": "2022-11-06T09:07:36.171392",
     "status": "completed"
    },
    "tags": []
   },
   "outputs": [
    {
     "name": "stdout",
     "output_type": "stream",
     "text": [
      "Number of people embarking in Southampton (S)\n",
      "644\n",
      "Number of people embarking in Cherbourg(C)\n",
      "168\n",
      "Number of people embarking in Queenstown(Q)\n",
      "77\n"
     ]
    }
   ],
   "source": [
    "#now we need to fill in the missing values in the Embarked feature\n",
    "print(\"Number of people embarking in Southampton (S)\")\n",
    "southampton = train[train[\"Embarked\"] == \"S\"].shape[0]\n",
    "print(southampton)\n",
    "\n",
    "print(\"Number of people embarking in Cherbourg(C)\")\n",
    "cherbourg = train[train[\"Embarked\"] == \"C\"].shape[0]\n",
    "print(cherbourg)\n",
    "\n",
    "print(\"Number of people embarking in Queenstown(Q)\")\n",
    "queenstown = train[train[\"Embarked\"] == \"Q\"].shape[0]\n",
    "print(queenstown)"
   ]
  },
  {
   "cell_type": "markdown",
   "id": "3f86ab47",
   "metadata": {
    "papermill": {
     "duration": 0.01649,
     "end_time": "2022-11-06T09:07:36.235312",
     "exception": false,
     "start_time": "2022-11-06T09:07:36.218822",
     "status": "completed"
    },
    "tags": []
   },
   "source": [
    "It's clear that the majority of people embarked in Southampton(S). Let's go head and fill in the missing values with S."
   ]
  },
  {
   "cell_type": "code",
   "execution_count": 18,
   "id": "187b5c39",
   "metadata": {
    "execution": {
     "iopub.execute_input": "2022-11-06T09:07:36.270770Z",
     "iopub.status.busy": "2022-11-06T09:07:36.270422Z",
     "iopub.status.idle": "2022-11-06T09:07:36.276260Z",
     "shell.execute_reply": "2022-11-06T09:07:36.275117Z"
    },
    "papermill": {
     "duration": 0.025876,
     "end_time": "2022-11-06T09:07:36.278162",
     "exception": false,
     "start_time": "2022-11-06T09:07:36.252286",
     "status": "completed"
    },
    "tags": []
   },
   "outputs": [],
   "source": [
    "#replacing the missing values in the Embarked feature with S\n",
    "train = train.fillna({\"Embarked\":\"S\"})"
   ]
  },
  {
   "cell_type": "markdown",
   "id": "7c6819cf",
   "metadata": {
    "papermill": {
     "duration": 0.016497,
     "end_time": "2022-11-06T09:07:36.311473",
     "exception": false,
     "start_time": "2022-11-06T09:07:36.294976",
     "status": "completed"
    },
    "tags": []
   },
   "source": [
    "**Age Feature**"
   ]
  },
  {
   "cell_type": "markdown",
   "id": "fc6357c9",
   "metadata": {
    "papermill": {
     "duration": 0.015961,
     "end_time": "2022-11-06T09:07:36.343861",
     "exception": false,
     "start_time": "2022-11-06T09:07:36.327900",
     "status": "completed"
    },
    "tags": []
   },
   "source": [
    "Next we'll fill in the missing values in the Age feature. Since a higher percentage of values are missing, it would be illogical  \n",
    "to fill all of them with the same value (as we did with Embarked). Instead, let's try to find a way to predict the missing ages."
   ]
  },
  {
   "cell_type": "code",
   "execution_count": 19,
   "id": "4f082cf2",
   "metadata": {
    "execution": {
     "iopub.execute_input": "2022-11-06T09:07:36.378393Z",
     "iopub.status.busy": "2022-11-06T09:07:36.377896Z",
     "iopub.status.idle": "2022-11-06T09:07:36.407305Z",
     "shell.execute_reply": "2022-11-06T09:07:36.405696Z"
    },
    "papermill": {
     "duration": 0.049395,
     "end_time": "2022-11-06T09:07:36.409354",
     "exception": false,
     "start_time": "2022-11-06T09:07:36.359959",
     "status": "completed"
    },
    "tags": []
   },
   "outputs": [
    {
     "data": {
      "text/plain": "Sex       female  male\nTitle                 \nCapt           0     1\nCol            0     2\nCountess       1     0\nDon            0     1\nDr             1     6\nJonkheer       0     1\nLady           1     0\nMajor          0     2\nMaster         0    40\nMiss         182     0\nMlle           2     0\nMme            1     0\nMr             0   517\nMrs          125     0\nMs             1     0\nRev            0     6\nSir            0     1",
      "text/html": "<div>\n<style scoped>\n    .dataframe tbody tr th:only-of-type {\n        vertical-align: middle;\n    }\n\n    .dataframe tbody tr th {\n        vertical-align: top;\n    }\n\n    .dataframe thead th {\n        text-align: right;\n    }\n</style>\n<table border=\"1\" class=\"dataframe\">\n  <thead>\n    <tr style=\"text-align: right;\">\n      <th>Sex</th>\n      <th>female</th>\n      <th>male</th>\n    </tr>\n    <tr>\n      <th>Title</th>\n      <th></th>\n      <th></th>\n    </tr>\n  </thead>\n  <tbody>\n    <tr>\n      <th>Capt</th>\n      <td>0</td>\n      <td>1</td>\n    </tr>\n    <tr>\n      <th>Col</th>\n      <td>0</td>\n      <td>2</td>\n    </tr>\n    <tr>\n      <th>Countess</th>\n      <td>1</td>\n      <td>0</td>\n    </tr>\n    <tr>\n      <th>Don</th>\n      <td>0</td>\n      <td>1</td>\n    </tr>\n    <tr>\n      <th>Dr</th>\n      <td>1</td>\n      <td>6</td>\n    </tr>\n    <tr>\n      <th>Jonkheer</th>\n      <td>0</td>\n      <td>1</td>\n    </tr>\n    <tr>\n      <th>Lady</th>\n      <td>1</td>\n      <td>0</td>\n    </tr>\n    <tr>\n      <th>Major</th>\n      <td>0</td>\n      <td>2</td>\n    </tr>\n    <tr>\n      <th>Master</th>\n      <td>0</td>\n      <td>40</td>\n    </tr>\n    <tr>\n      <th>Miss</th>\n      <td>182</td>\n      <td>0</td>\n    </tr>\n    <tr>\n      <th>Mlle</th>\n      <td>2</td>\n      <td>0</td>\n    </tr>\n    <tr>\n      <th>Mme</th>\n      <td>1</td>\n      <td>0</td>\n    </tr>\n    <tr>\n      <th>Mr</th>\n      <td>0</td>\n      <td>517</td>\n    </tr>\n    <tr>\n      <th>Mrs</th>\n      <td>125</td>\n      <td>0</td>\n    </tr>\n    <tr>\n      <th>Ms</th>\n      <td>1</td>\n      <td>0</td>\n    </tr>\n    <tr>\n      <th>Rev</th>\n      <td>0</td>\n      <td>6</td>\n    </tr>\n    <tr>\n      <th>Sir</th>\n      <td>0</td>\n      <td>1</td>\n    </tr>\n  </tbody>\n</table>\n</div>"
     },
     "execution_count": 19,
     "metadata": {},
     "output_type": "execute_result"
    }
   ],
   "source": [
    "#create a combined group of both datasets\n",
    "combine = [train, test]\n",
    "\n",
    "#extract a title for each Name in the train and test datasets\n",
    "for dataset in combine:\n",
    "    dataset['Title'] = dataset.Name.str.extract('([A-Za-z]+)\\.', expand = False)\n",
    "\n",
    "pd.crosstab(train['Title'], train['Sex'])\n",
    "#train.head(20)"
   ]
  },
  {
   "cell_type": "code",
   "execution_count": 20,
   "id": "51107b42",
   "metadata": {
    "execution": {
     "iopub.execute_input": "2022-11-06T09:07:36.445789Z",
     "iopub.status.busy": "2022-11-06T09:07:36.445313Z",
     "iopub.status.idle": "2022-11-06T09:07:36.470720Z",
     "shell.execute_reply": "2022-11-06T09:07:36.469742Z"
    },
    "papermill": {
     "duration": 0.045789,
     "end_time": "2022-11-06T09:07:36.472469",
     "exception": false,
     "start_time": "2022-11-06T09:07:36.426680",
     "status": "completed"
    },
    "tags": []
   },
   "outputs": [
    {
     "data": {
      "text/plain": "      Title  Survived\n0  Countess  1.000000\n1    Master  0.575000\n2      Miss  0.702703\n3        Mr  0.156673\n4       Mrs  0.793651\n5      Rare  0.285714\n6     Royal  1.000000",
      "text/html": "<div>\n<style scoped>\n    .dataframe tbody tr th:only-of-type {\n        vertical-align: middle;\n    }\n\n    .dataframe tbody tr th {\n        vertical-align: top;\n    }\n\n    .dataframe thead th {\n        text-align: right;\n    }\n</style>\n<table border=\"1\" class=\"dataframe\">\n  <thead>\n    <tr style=\"text-align: right;\">\n      <th></th>\n      <th>Title</th>\n      <th>Survived</th>\n    </tr>\n  </thead>\n  <tbody>\n    <tr>\n      <th>0</th>\n      <td>Countess</td>\n      <td>1.000000</td>\n    </tr>\n    <tr>\n      <th>1</th>\n      <td>Master</td>\n      <td>0.575000</td>\n    </tr>\n    <tr>\n      <th>2</th>\n      <td>Miss</td>\n      <td>0.702703</td>\n    </tr>\n    <tr>\n      <th>3</th>\n      <td>Mr</td>\n      <td>0.156673</td>\n    </tr>\n    <tr>\n      <th>4</th>\n      <td>Mrs</td>\n      <td>0.793651</td>\n    </tr>\n    <tr>\n      <th>5</th>\n      <td>Rare</td>\n      <td>0.285714</td>\n    </tr>\n    <tr>\n      <th>6</th>\n      <td>Royal</td>\n      <td>1.000000</td>\n    </tr>\n  </tbody>\n</table>\n</div>"
     },
     "execution_count": 20,
     "metadata": {},
     "output_type": "execute_result"
    }
   ],
   "source": [
    "#replace various titles with more common names\n",
    "for dataset in combine:\n",
    "    dataset['Title'] = dataset['Title'].replace(['Lady', 'Capt', 'Col', 'Don', 'Dr', 'Major', 'Rev', 'Jonkheer', 'Dona'],'Rare')\n",
    "    \n",
    "    dataset['Title'] = dataset['Title'].replace(['Countees', 'Lady', 'Sir'], 'Royal')\n",
    "    dataset['Title'] = dataset['Title'].replace('Mlle', 'Miss')\n",
    "    dataset['Title'] = dataset['Title'].replace('Ms', 'Miss')\n",
    "    dataset['Title'] = dataset['Title'].replace('Mme', 'Mrs')\n",
    "    \n",
    "train[['Title', 'Survived']].groupby(['Title'], as_index = False).mean()"
   ]
  },
  {
   "cell_type": "code",
   "execution_count": 21,
   "id": "e88fd5bd",
   "metadata": {
    "execution": {
     "iopub.execute_input": "2022-11-06T09:07:36.517450Z",
     "iopub.status.busy": "2022-11-06T09:07:36.516337Z",
     "iopub.status.idle": "2022-11-06T09:07:36.546097Z",
     "shell.execute_reply": "2022-11-06T09:07:36.545270Z"
    },
    "papermill": {
     "duration": 0.053406,
     "end_time": "2022-11-06T09:07:36.547934",
     "exception": false,
     "start_time": "2022-11-06T09:07:36.494528",
     "status": "completed"
    },
    "tags": []
   },
   "outputs": [
    {
     "data": {
      "text/plain": "    PassengerId  Survived  Pclass  \\\n0             1         0       3   \n1             2         1       1   \n2             3         1       3   \n3             4         1       1   \n4             5         0       3   \n5             6         0       3   \n6             7         0       1   \n7             8         0       3   \n8             9         1       3   \n9            10         1       2   \n10           11         1       3   \n11           12         1       1   \n12           13         0       3   \n13           14         0       3   \n14           15         0       3   \n15           16         1       2   \n16           17         0       3   \n17           18         1       2   \n18           19         0       3   \n19           20         1       3   \n\n                                                 Name     Sex   Age  SibSp  \\\n0                             Braund, Mr. Owen Harris    male  22.0      1   \n1   Cumings, Mrs. John Bradley (Florence Briggs Th...  female  38.0      1   \n2                              Heikkinen, Miss. Laina  female  26.0      0   \n3        Futrelle, Mrs. Jacques Heath (Lily May Peel)  female  35.0      1   \n4                            Allen, Mr. William Henry    male  35.0      0   \n5                                    Moran, Mr. James    male  -0.5      0   \n6                             McCarthy, Mr. Timothy J    male  54.0      0   \n7                      Palsson, Master. Gosta Leonard    male   2.0      3   \n8   Johnson, Mrs. Oscar W (Elisabeth Vilhelmina Berg)  female  27.0      0   \n9                 Nasser, Mrs. Nicholas (Adele Achem)  female  14.0      1   \n10                    Sandstrom, Miss. Marguerite Rut  female   4.0      1   \n11                           Bonnell, Miss. Elizabeth  female  58.0      0   \n12                     Saundercock, Mr. William Henry    male  20.0      0   \n13                        Andersson, Mr. Anders Johan    male  39.0      1   \n14               Vestrom, Miss. Hulda Amanda Adolfina  female  14.0      0   \n15                   Hewlett, Mrs. (Mary D Kingcome)   female  55.0      0   \n16                               Rice, Master. Eugene    male   2.0      4   \n17                       Williams, Mr. Charles Eugene    male  -0.5      0   \n18  Vander Planke, Mrs. Julius (Emelia Maria Vande...  female  31.0      1   \n19                            Masselmani, Mrs. Fatima  female  -0.5      0   \n\n    Parch     Fare Embarked     AgeGroup  CabinBool  Title  \n0       0   7.2500        S      Student          0    1.0  \n1       0  71.2833        C        Adult          1    3.0  \n2       0   7.9250        S  Young Adult          0    2.0  \n3       0  53.1000        S  Young Adult          1    3.0  \n4       0   8.0500        S  Young Adult          0    1.0  \n5       0   8.4583        Q      Unknown          0    1.0  \n6       0  51.8625        S        Adult          1    1.0  \n7       1  21.0750        S         Baby          0    4.0  \n8       2  11.1333        S  Young Adult          0    3.0  \n9       0  30.0708        C     Teenager          0    3.0  \n10      1  16.7000        S         Baby          1    2.0  \n11      0  26.5500        S        Adult          1    2.0  \n12      0   8.0500        S      Student          0    1.0  \n13      5  31.2750        S        Adult          0    1.0  \n14      0   7.8542        S     Teenager          0    2.0  \n15      0  16.0000        S        Adult          0    3.0  \n16      1  29.1250        Q         Baby          0    4.0  \n17      0  13.0000        S      Unknown          0    1.0  \n18      0  18.0000        S  Young Adult          0    3.0  \n19      0   7.2250        C      Unknown          0    3.0  ",
      "text/html": "<div>\n<style scoped>\n    .dataframe tbody tr th:only-of-type {\n        vertical-align: middle;\n    }\n\n    .dataframe tbody tr th {\n        vertical-align: top;\n    }\n\n    .dataframe thead th {\n        text-align: right;\n    }\n</style>\n<table border=\"1\" class=\"dataframe\">\n  <thead>\n    <tr style=\"text-align: right;\">\n      <th></th>\n      <th>PassengerId</th>\n      <th>Survived</th>\n      <th>Pclass</th>\n      <th>Name</th>\n      <th>Sex</th>\n      <th>Age</th>\n      <th>SibSp</th>\n      <th>Parch</th>\n      <th>Fare</th>\n      <th>Embarked</th>\n      <th>AgeGroup</th>\n      <th>CabinBool</th>\n      <th>Title</th>\n    </tr>\n  </thead>\n  <tbody>\n    <tr>\n      <th>0</th>\n      <td>1</td>\n      <td>0</td>\n      <td>3</td>\n      <td>Braund, Mr. Owen Harris</td>\n      <td>male</td>\n      <td>22.0</td>\n      <td>1</td>\n      <td>0</td>\n      <td>7.2500</td>\n      <td>S</td>\n      <td>Student</td>\n      <td>0</td>\n      <td>1.0</td>\n    </tr>\n    <tr>\n      <th>1</th>\n      <td>2</td>\n      <td>1</td>\n      <td>1</td>\n      <td>Cumings, Mrs. John Bradley (Florence Briggs Th...</td>\n      <td>female</td>\n      <td>38.0</td>\n      <td>1</td>\n      <td>0</td>\n      <td>71.2833</td>\n      <td>C</td>\n      <td>Adult</td>\n      <td>1</td>\n      <td>3.0</td>\n    </tr>\n    <tr>\n      <th>2</th>\n      <td>3</td>\n      <td>1</td>\n      <td>3</td>\n      <td>Heikkinen, Miss. Laina</td>\n      <td>female</td>\n      <td>26.0</td>\n      <td>0</td>\n      <td>0</td>\n      <td>7.9250</td>\n      <td>S</td>\n      <td>Young Adult</td>\n      <td>0</td>\n      <td>2.0</td>\n    </tr>\n    <tr>\n      <th>3</th>\n      <td>4</td>\n      <td>1</td>\n      <td>1</td>\n      <td>Futrelle, Mrs. Jacques Heath (Lily May Peel)</td>\n      <td>female</td>\n      <td>35.0</td>\n      <td>1</td>\n      <td>0</td>\n      <td>53.1000</td>\n      <td>S</td>\n      <td>Young Adult</td>\n      <td>1</td>\n      <td>3.0</td>\n    </tr>\n    <tr>\n      <th>4</th>\n      <td>5</td>\n      <td>0</td>\n      <td>3</td>\n      <td>Allen, Mr. William Henry</td>\n      <td>male</td>\n      <td>35.0</td>\n      <td>0</td>\n      <td>0</td>\n      <td>8.0500</td>\n      <td>S</td>\n      <td>Young Adult</td>\n      <td>0</td>\n      <td>1.0</td>\n    </tr>\n    <tr>\n      <th>5</th>\n      <td>6</td>\n      <td>0</td>\n      <td>3</td>\n      <td>Moran, Mr. James</td>\n      <td>male</td>\n      <td>-0.5</td>\n      <td>0</td>\n      <td>0</td>\n      <td>8.4583</td>\n      <td>Q</td>\n      <td>Unknown</td>\n      <td>0</td>\n      <td>1.0</td>\n    </tr>\n    <tr>\n      <th>6</th>\n      <td>7</td>\n      <td>0</td>\n      <td>1</td>\n      <td>McCarthy, Mr. Timothy J</td>\n      <td>male</td>\n      <td>54.0</td>\n      <td>0</td>\n      <td>0</td>\n      <td>51.8625</td>\n      <td>S</td>\n      <td>Adult</td>\n      <td>1</td>\n      <td>1.0</td>\n    </tr>\n    <tr>\n      <th>7</th>\n      <td>8</td>\n      <td>0</td>\n      <td>3</td>\n      <td>Palsson, Master. Gosta Leonard</td>\n      <td>male</td>\n      <td>2.0</td>\n      <td>3</td>\n      <td>1</td>\n      <td>21.0750</td>\n      <td>S</td>\n      <td>Baby</td>\n      <td>0</td>\n      <td>4.0</td>\n    </tr>\n    <tr>\n      <th>8</th>\n      <td>9</td>\n      <td>1</td>\n      <td>3</td>\n      <td>Johnson, Mrs. Oscar W (Elisabeth Vilhelmina Berg)</td>\n      <td>female</td>\n      <td>27.0</td>\n      <td>0</td>\n      <td>2</td>\n      <td>11.1333</td>\n      <td>S</td>\n      <td>Young Adult</td>\n      <td>0</td>\n      <td>3.0</td>\n    </tr>\n    <tr>\n      <th>9</th>\n      <td>10</td>\n      <td>1</td>\n      <td>2</td>\n      <td>Nasser, Mrs. Nicholas (Adele Achem)</td>\n      <td>female</td>\n      <td>14.0</td>\n      <td>1</td>\n      <td>0</td>\n      <td>30.0708</td>\n      <td>C</td>\n      <td>Teenager</td>\n      <td>0</td>\n      <td>3.0</td>\n    </tr>\n    <tr>\n      <th>10</th>\n      <td>11</td>\n      <td>1</td>\n      <td>3</td>\n      <td>Sandstrom, Miss. Marguerite Rut</td>\n      <td>female</td>\n      <td>4.0</td>\n      <td>1</td>\n      <td>1</td>\n      <td>16.7000</td>\n      <td>S</td>\n      <td>Baby</td>\n      <td>1</td>\n      <td>2.0</td>\n    </tr>\n    <tr>\n      <th>11</th>\n      <td>12</td>\n      <td>1</td>\n      <td>1</td>\n      <td>Bonnell, Miss. Elizabeth</td>\n      <td>female</td>\n      <td>58.0</td>\n      <td>0</td>\n      <td>0</td>\n      <td>26.5500</td>\n      <td>S</td>\n      <td>Adult</td>\n      <td>1</td>\n      <td>2.0</td>\n    </tr>\n    <tr>\n      <th>12</th>\n      <td>13</td>\n      <td>0</td>\n      <td>3</td>\n      <td>Saundercock, Mr. William Henry</td>\n      <td>male</td>\n      <td>20.0</td>\n      <td>0</td>\n      <td>0</td>\n      <td>8.0500</td>\n      <td>S</td>\n      <td>Student</td>\n      <td>0</td>\n      <td>1.0</td>\n    </tr>\n    <tr>\n      <th>13</th>\n      <td>14</td>\n      <td>0</td>\n      <td>3</td>\n      <td>Andersson, Mr. Anders Johan</td>\n      <td>male</td>\n      <td>39.0</td>\n      <td>1</td>\n      <td>5</td>\n      <td>31.2750</td>\n      <td>S</td>\n      <td>Adult</td>\n      <td>0</td>\n      <td>1.0</td>\n    </tr>\n    <tr>\n      <th>14</th>\n      <td>15</td>\n      <td>0</td>\n      <td>3</td>\n      <td>Vestrom, Miss. Hulda Amanda Adolfina</td>\n      <td>female</td>\n      <td>14.0</td>\n      <td>0</td>\n      <td>0</td>\n      <td>7.8542</td>\n      <td>S</td>\n      <td>Teenager</td>\n      <td>0</td>\n      <td>2.0</td>\n    </tr>\n    <tr>\n      <th>15</th>\n      <td>16</td>\n      <td>1</td>\n      <td>2</td>\n      <td>Hewlett, Mrs. (Mary D Kingcome)</td>\n      <td>female</td>\n      <td>55.0</td>\n      <td>0</td>\n      <td>0</td>\n      <td>16.0000</td>\n      <td>S</td>\n      <td>Adult</td>\n      <td>0</td>\n      <td>3.0</td>\n    </tr>\n    <tr>\n      <th>16</th>\n      <td>17</td>\n      <td>0</td>\n      <td>3</td>\n      <td>Rice, Master. Eugene</td>\n      <td>male</td>\n      <td>2.0</td>\n      <td>4</td>\n      <td>1</td>\n      <td>29.1250</td>\n      <td>Q</td>\n      <td>Baby</td>\n      <td>0</td>\n      <td>4.0</td>\n    </tr>\n    <tr>\n      <th>17</th>\n      <td>18</td>\n      <td>1</td>\n      <td>2</td>\n      <td>Williams, Mr. Charles Eugene</td>\n      <td>male</td>\n      <td>-0.5</td>\n      <td>0</td>\n      <td>0</td>\n      <td>13.0000</td>\n      <td>S</td>\n      <td>Unknown</td>\n      <td>0</td>\n      <td>1.0</td>\n    </tr>\n    <tr>\n      <th>18</th>\n      <td>19</td>\n      <td>0</td>\n      <td>3</td>\n      <td>Vander Planke, Mrs. Julius (Emelia Maria Vande...</td>\n      <td>female</td>\n      <td>31.0</td>\n      <td>1</td>\n      <td>0</td>\n      <td>18.0000</td>\n      <td>S</td>\n      <td>Young Adult</td>\n      <td>0</td>\n      <td>3.0</td>\n    </tr>\n    <tr>\n      <th>19</th>\n      <td>20</td>\n      <td>1</td>\n      <td>3</td>\n      <td>Masselmani, Mrs. Fatima</td>\n      <td>female</td>\n      <td>-0.5</td>\n      <td>0</td>\n      <td>0</td>\n      <td>7.2250</td>\n      <td>C</td>\n      <td>Unknown</td>\n      <td>0</td>\n      <td>3.0</td>\n    </tr>\n  </tbody>\n</table>\n</div>"
     },
     "execution_count": 21,
     "metadata": {},
     "output_type": "execute_result"
    }
   ],
   "source": [
    "#map each of the title groups to a numerical value\n",
    "title_mapping = {\"Mr\":1, \"Miss\":2, \"Mrs\":3, \"Master\":4, \"Royal\":5, \"Rare\":6}\n",
    "for dataset in combine:\n",
    "    dataset['Title'] = dataset['Title'].map(title_mapping)\n",
    "    dataset['Title'] = dataset['Title'].fillna(0)\n",
    "    \n",
    "train.head(20)"
   ]
  },
  {
   "cell_type": "markdown",
   "id": "19a6a656",
   "metadata": {
    "papermill": {
     "duration": 0.017371,
     "end_time": "2022-11-06T09:07:36.584516",
     "exception": false,
     "start_time": "2022-11-06T09:07:36.567145",
     "status": "completed"
    },
    "tags": []
   },
   "source": [
    "The code I used above is from here(这应该有个超链接). Next, we'll to predict the missing Age values from the most common age for their Title"
   ]
  },
  {
   "cell_type": "code",
   "execution_count": 22,
   "id": "7b6a4d6d",
   "metadata": {
    "execution": {
     "iopub.execute_input": "2022-11-06T09:07:36.623592Z",
     "iopub.status.busy": "2022-11-06T09:07:36.623235Z",
     "iopub.status.idle": "2022-11-06T09:07:36.678766Z",
     "shell.execute_reply": "2022-11-06T09:07:36.677496Z"
    },
    "papermill": {
     "duration": 0.081577,
     "end_time": "2022-11-06T09:07:36.684521",
     "exception": false,
     "start_time": "2022-11-06T09:07:36.602944",
     "status": "completed"
    },
    "tags": []
   },
   "outputs": [
    {
     "data": {
      "text/plain": "    PassengerId  Survived  Pclass  \\\n0             1         0       3   \n1             2         1       1   \n2             3         1       3   \n3             4         1       1   \n4             5         0       3   \n5             6         0       3   \n6             7         0       1   \n7             8         0       3   \n8             9         1       3   \n9            10         1       2   \n10           11         1       3   \n11           12         1       1   \n12           13         0       3   \n13           14         0       3   \n14           15         0       3   \n15           16         1       2   \n16           17         0       3   \n17           18         1       2   \n18           19         0       3   \n19           20         1       3   \n\n                                                 Name     Sex   Age  SibSp  \\\n0                             Braund, Mr. Owen Harris    male  22.0      1   \n1   Cumings, Mrs. John Bradley (Florence Briggs Th...  female  38.0      1   \n2                              Heikkinen, Miss. Laina  female  26.0      0   \n3        Futrelle, Mrs. Jacques Heath (Lily May Peel)  female  35.0      1   \n4                            Allen, Mr. William Henry    male  35.0      0   \n5                                    Moran, Mr. James    male  -0.5      0   \n6                             McCarthy, Mr. Timothy J    male  54.0      0   \n7                      Palsson, Master. Gosta Leonard    male   2.0      3   \n8   Johnson, Mrs. Oscar W (Elisabeth Vilhelmina Berg)  female  27.0      0   \n9                 Nasser, Mrs. Nicholas (Adele Achem)  female  14.0      1   \n10                    Sandstrom, Miss. Marguerite Rut  female   4.0      1   \n11                           Bonnell, Miss. Elizabeth  female  58.0      0   \n12                     Saundercock, Mr. William Henry    male  20.0      0   \n13                        Andersson, Mr. Anders Johan    male  39.0      1   \n14               Vestrom, Miss. Hulda Amanda Adolfina  female  14.0      0   \n15                   Hewlett, Mrs. (Mary D Kingcome)   female  55.0      0   \n16                               Rice, Master. Eugene    male   2.0      4   \n17                       Williams, Mr. Charles Eugene    male  -0.5      0   \n18  Vander Planke, Mrs. Julius (Emelia Maria Vande...  female  31.0      1   \n19                            Masselmani, Mrs. Fatima  female  -0.5      0   \n\n    Parch     Fare Embarked     AgeGroup  CabinBool  Title  \n0       0   7.2500        S      Student          0    1.0  \n1       0  71.2833        C        Adult          1    3.0  \n2       0   7.9250        S  Young Adult          0    2.0  \n3       0  53.1000        S  Young Adult          1    3.0  \n4       0   8.0500        S  Young Adult          0    1.0  \n5       0   8.4583        Q      Unknown          0    1.0  \n6       0  51.8625        S        Adult          1    1.0  \n7       1  21.0750        S         Baby          0    4.0  \n8       2  11.1333        S  Young Adult          0    3.0  \n9       0  30.0708        C     Teenager          0    3.0  \n10      1  16.7000        S         Baby          1    2.0  \n11      0  26.5500        S        Adult          1    2.0  \n12      0   8.0500        S      Student          0    1.0  \n13      5  31.2750        S        Adult          0    1.0  \n14      0   7.8542        S     Teenager          0    2.0  \n15      0  16.0000        S        Adult          0    3.0  \n16      1  29.1250        Q         Baby          0    4.0  \n17      0  13.0000        S      Unknown          0    1.0  \n18      0  18.0000        S  Young Adult          0    3.0  \n19      0   7.2250        C      Unknown          0    3.0  ",
      "text/html": "<div>\n<style scoped>\n    .dataframe tbody tr th:only-of-type {\n        vertical-align: middle;\n    }\n\n    .dataframe tbody tr th {\n        vertical-align: top;\n    }\n\n    .dataframe thead th {\n        text-align: right;\n    }\n</style>\n<table border=\"1\" class=\"dataframe\">\n  <thead>\n    <tr style=\"text-align: right;\">\n      <th></th>\n      <th>PassengerId</th>\n      <th>Survived</th>\n      <th>Pclass</th>\n      <th>Name</th>\n      <th>Sex</th>\n      <th>Age</th>\n      <th>SibSp</th>\n      <th>Parch</th>\n      <th>Fare</th>\n      <th>Embarked</th>\n      <th>AgeGroup</th>\n      <th>CabinBool</th>\n      <th>Title</th>\n    </tr>\n  </thead>\n  <tbody>\n    <tr>\n      <th>0</th>\n      <td>1</td>\n      <td>0</td>\n      <td>3</td>\n      <td>Braund, Mr. Owen Harris</td>\n      <td>male</td>\n      <td>22.0</td>\n      <td>1</td>\n      <td>0</td>\n      <td>7.2500</td>\n      <td>S</td>\n      <td>Student</td>\n      <td>0</td>\n      <td>1.0</td>\n    </tr>\n    <tr>\n      <th>1</th>\n      <td>2</td>\n      <td>1</td>\n      <td>1</td>\n      <td>Cumings, Mrs. John Bradley (Florence Briggs Th...</td>\n      <td>female</td>\n      <td>38.0</td>\n      <td>1</td>\n      <td>0</td>\n      <td>71.2833</td>\n      <td>C</td>\n      <td>Adult</td>\n      <td>1</td>\n      <td>3.0</td>\n    </tr>\n    <tr>\n      <th>2</th>\n      <td>3</td>\n      <td>1</td>\n      <td>3</td>\n      <td>Heikkinen, Miss. Laina</td>\n      <td>female</td>\n      <td>26.0</td>\n      <td>0</td>\n      <td>0</td>\n      <td>7.9250</td>\n      <td>S</td>\n      <td>Young Adult</td>\n      <td>0</td>\n      <td>2.0</td>\n    </tr>\n    <tr>\n      <th>3</th>\n      <td>4</td>\n      <td>1</td>\n      <td>1</td>\n      <td>Futrelle, Mrs. Jacques Heath (Lily May Peel)</td>\n      <td>female</td>\n      <td>35.0</td>\n      <td>1</td>\n      <td>0</td>\n      <td>53.1000</td>\n      <td>S</td>\n      <td>Young Adult</td>\n      <td>1</td>\n      <td>3.0</td>\n    </tr>\n    <tr>\n      <th>4</th>\n      <td>5</td>\n      <td>0</td>\n      <td>3</td>\n      <td>Allen, Mr. William Henry</td>\n      <td>male</td>\n      <td>35.0</td>\n      <td>0</td>\n      <td>0</td>\n      <td>8.0500</td>\n      <td>S</td>\n      <td>Young Adult</td>\n      <td>0</td>\n      <td>1.0</td>\n    </tr>\n    <tr>\n      <th>5</th>\n      <td>6</td>\n      <td>0</td>\n      <td>3</td>\n      <td>Moran, Mr. James</td>\n      <td>male</td>\n      <td>-0.5</td>\n      <td>0</td>\n      <td>0</td>\n      <td>8.4583</td>\n      <td>Q</td>\n      <td>Unknown</td>\n      <td>0</td>\n      <td>1.0</td>\n    </tr>\n    <tr>\n      <th>6</th>\n      <td>7</td>\n      <td>0</td>\n      <td>1</td>\n      <td>McCarthy, Mr. Timothy J</td>\n      <td>male</td>\n      <td>54.0</td>\n      <td>0</td>\n      <td>0</td>\n      <td>51.8625</td>\n      <td>S</td>\n      <td>Adult</td>\n      <td>1</td>\n      <td>1.0</td>\n    </tr>\n    <tr>\n      <th>7</th>\n      <td>8</td>\n      <td>0</td>\n      <td>3</td>\n      <td>Palsson, Master. Gosta Leonard</td>\n      <td>male</td>\n      <td>2.0</td>\n      <td>3</td>\n      <td>1</td>\n      <td>21.0750</td>\n      <td>S</td>\n      <td>Baby</td>\n      <td>0</td>\n      <td>4.0</td>\n    </tr>\n    <tr>\n      <th>8</th>\n      <td>9</td>\n      <td>1</td>\n      <td>3</td>\n      <td>Johnson, Mrs. Oscar W (Elisabeth Vilhelmina Berg)</td>\n      <td>female</td>\n      <td>27.0</td>\n      <td>0</td>\n      <td>2</td>\n      <td>11.1333</td>\n      <td>S</td>\n      <td>Young Adult</td>\n      <td>0</td>\n      <td>3.0</td>\n    </tr>\n    <tr>\n      <th>9</th>\n      <td>10</td>\n      <td>1</td>\n      <td>2</td>\n      <td>Nasser, Mrs. Nicholas (Adele Achem)</td>\n      <td>female</td>\n      <td>14.0</td>\n      <td>1</td>\n      <td>0</td>\n      <td>30.0708</td>\n      <td>C</td>\n      <td>Teenager</td>\n      <td>0</td>\n      <td>3.0</td>\n    </tr>\n    <tr>\n      <th>10</th>\n      <td>11</td>\n      <td>1</td>\n      <td>3</td>\n      <td>Sandstrom, Miss. Marguerite Rut</td>\n      <td>female</td>\n      <td>4.0</td>\n      <td>1</td>\n      <td>1</td>\n      <td>16.7000</td>\n      <td>S</td>\n      <td>Baby</td>\n      <td>1</td>\n      <td>2.0</td>\n    </tr>\n    <tr>\n      <th>11</th>\n      <td>12</td>\n      <td>1</td>\n      <td>1</td>\n      <td>Bonnell, Miss. Elizabeth</td>\n      <td>female</td>\n      <td>58.0</td>\n      <td>0</td>\n      <td>0</td>\n      <td>26.5500</td>\n      <td>S</td>\n      <td>Adult</td>\n      <td>1</td>\n      <td>2.0</td>\n    </tr>\n    <tr>\n      <th>12</th>\n      <td>13</td>\n      <td>0</td>\n      <td>3</td>\n      <td>Saundercock, Mr. William Henry</td>\n      <td>male</td>\n      <td>20.0</td>\n      <td>0</td>\n      <td>0</td>\n      <td>8.0500</td>\n      <td>S</td>\n      <td>Student</td>\n      <td>0</td>\n      <td>1.0</td>\n    </tr>\n    <tr>\n      <th>13</th>\n      <td>14</td>\n      <td>0</td>\n      <td>3</td>\n      <td>Andersson, Mr. Anders Johan</td>\n      <td>male</td>\n      <td>39.0</td>\n      <td>1</td>\n      <td>5</td>\n      <td>31.2750</td>\n      <td>S</td>\n      <td>Adult</td>\n      <td>0</td>\n      <td>1.0</td>\n    </tr>\n    <tr>\n      <th>14</th>\n      <td>15</td>\n      <td>0</td>\n      <td>3</td>\n      <td>Vestrom, Miss. Hulda Amanda Adolfina</td>\n      <td>female</td>\n      <td>14.0</td>\n      <td>0</td>\n      <td>0</td>\n      <td>7.8542</td>\n      <td>S</td>\n      <td>Teenager</td>\n      <td>0</td>\n      <td>2.0</td>\n    </tr>\n    <tr>\n      <th>15</th>\n      <td>16</td>\n      <td>1</td>\n      <td>2</td>\n      <td>Hewlett, Mrs. (Mary D Kingcome)</td>\n      <td>female</td>\n      <td>55.0</td>\n      <td>0</td>\n      <td>0</td>\n      <td>16.0000</td>\n      <td>S</td>\n      <td>Adult</td>\n      <td>0</td>\n      <td>3.0</td>\n    </tr>\n    <tr>\n      <th>16</th>\n      <td>17</td>\n      <td>0</td>\n      <td>3</td>\n      <td>Rice, Master. Eugene</td>\n      <td>male</td>\n      <td>2.0</td>\n      <td>4</td>\n      <td>1</td>\n      <td>29.1250</td>\n      <td>Q</td>\n      <td>Baby</td>\n      <td>0</td>\n      <td>4.0</td>\n    </tr>\n    <tr>\n      <th>17</th>\n      <td>18</td>\n      <td>1</td>\n      <td>2</td>\n      <td>Williams, Mr. Charles Eugene</td>\n      <td>male</td>\n      <td>-0.5</td>\n      <td>0</td>\n      <td>0</td>\n      <td>13.0000</td>\n      <td>S</td>\n      <td>Unknown</td>\n      <td>0</td>\n      <td>1.0</td>\n    </tr>\n    <tr>\n      <th>18</th>\n      <td>19</td>\n      <td>0</td>\n      <td>3</td>\n      <td>Vander Planke, Mrs. Julius (Emelia Maria Vande...</td>\n      <td>female</td>\n      <td>31.0</td>\n      <td>1</td>\n      <td>0</td>\n      <td>18.0000</td>\n      <td>S</td>\n      <td>Young Adult</td>\n      <td>0</td>\n      <td>3.0</td>\n    </tr>\n    <tr>\n      <th>19</th>\n      <td>20</td>\n      <td>1</td>\n      <td>3</td>\n      <td>Masselmani, Mrs. Fatima</td>\n      <td>female</td>\n      <td>-0.5</td>\n      <td>0</td>\n      <td>0</td>\n      <td>7.2250</td>\n      <td>C</td>\n      <td>Unknown</td>\n      <td>0</td>\n      <td>3.0</td>\n    </tr>\n  </tbody>\n</table>\n</div>"
     },
     "execution_count": 22,
     "metadata": {},
     "output_type": "execute_result"
    }
   ],
   "source": [
    "#fill missing age with mode age group for each title\n",
    "mr_age = train[train[\"Title\"] == 1][\"AgeGroup\"].mode() #Young Adult\n",
    "miss_age = train[train[\"Title\"] == 2][\"AgeGroup\"].mode() #Student\n",
    "mrs_age = train[train[\"Title\"] == 3][\"AgeGroup\"].mode() #Adult\n",
    "master_age = train[train[\"Title\"] == 4][\"AgeGroup\"].mode() #Baby\n",
    "royal_age = train[train[\"Title\"] == 5][\"AgeGroup\"].mode() #Adult\n",
    "rare_age = train[train[\"Title\"] == 6][\"AgeGroup\"].mode() #Adult\n",
    "\n",
    "age_title_mapping = {1:\"Young Adult\", 2: \"Student\", 3: \"Adult\", 4:\"Baby\", 5:\"Adult\", 6:\"Adult\"}\n",
    "\n",
    "#I tried to get this code to work with using .map(), but could't.\n",
    "#I've put down a less elegent, temporary solution for now.\n",
    "#train = train.fillna({\"Age\": train[\"Title\"].map(age_title_mapping)})\n",
    "#test = test.fillna({\"Age\": test[\"Title\"].map(age_title_mapping)})\n",
    "\n",
    "for x in range(len(train[\"AgeGroup\"])):\n",
    "    if train[\"AgeGroup\"][x] == \"Unknow\":\n",
    "        train[\"AgeGroup\"][x] = age_title_mapping[train[\"Title\"][x]]\n",
    "        \n",
    "for x in range(len(test[\"AgeGroup\"])):\n",
    "    if test[\"AgeGroup\"][x] == \"Unknow\":\n",
    "        test[\"AgeGroup\"][x] = age_title_mapping[test[\"Title\"][x]]\n",
    "train.head(20)"
   ]
  },
  {
   "cell_type": "markdown",
   "id": "5acd4abb",
   "metadata": {
    "papermill": {
     "duration": 0.018182,
     "end_time": "2022-11-06T09:07:36.721463",
     "exception": false,
     "start_time": "2022-11-06T09:07:36.703281",
     "status": "completed"
    },
    "tags": []
   },
   "source": [
    "Now that we've filled in the missing values at least somewhat accurately(I will work on a better way  \n",
    "for predicting missing age values), It's time to map each group to a numerical value."
   ]
  },
  {
   "cell_type": "code",
   "execution_count": 23,
   "id": "a00ed4df",
   "metadata": {
    "execution": {
     "iopub.execute_input": "2022-11-06T09:07:36.765179Z",
     "iopub.status.busy": "2022-11-06T09:07:36.764798Z",
     "iopub.status.idle": "2022-11-06T09:07:36.791329Z",
     "shell.execute_reply": "2022-11-06T09:07:36.790619Z"
    },
    "papermill": {
     "duration": 0.051349,
     "end_time": "2022-11-06T09:07:36.793116",
     "exception": false,
     "start_time": "2022-11-06T09:07:36.741767",
     "status": "completed"
    },
    "tags": []
   },
   "outputs": [
    {
     "data": {
      "text/plain": "    PassengerId  Survived  Pclass  \\\n0             1         0       3   \n1             2         1       1   \n2             3         1       3   \n3             4         1       1   \n4             5         0       3   \n5             6         0       3   \n6             7         0       1   \n7             8         0       3   \n8             9         1       3   \n9            10         1       2   \n10           11         1       3   \n11           12         1       1   \n12           13         0       3   \n13           14         0       3   \n14           15         0       3   \n15           16         1       2   \n16           17         0       3   \n17           18         1       2   \n18           19         0       3   \n19           20         1       3   \n\n                                                 Name     Sex  SibSp  Parch  \\\n0                             Braund, Mr. Owen Harris    male      1      0   \n1   Cumings, Mrs. John Bradley (Florence Briggs Th...  female      1      0   \n2                              Heikkinen, Miss. Laina  female      0      0   \n3        Futrelle, Mrs. Jacques Heath (Lily May Peel)  female      1      0   \n4                            Allen, Mr. William Henry    male      0      0   \n5                                    Moran, Mr. James    male      0      0   \n6                             McCarthy, Mr. Timothy J    male      0      0   \n7                      Palsson, Master. Gosta Leonard    male      3      1   \n8   Johnson, Mrs. Oscar W (Elisabeth Vilhelmina Berg)  female      0      2   \n9                 Nasser, Mrs. Nicholas (Adele Achem)  female      1      0   \n10                    Sandstrom, Miss. Marguerite Rut  female      1      1   \n11                           Bonnell, Miss. Elizabeth  female      0      0   \n12                     Saundercock, Mr. William Henry    male      0      0   \n13                        Andersson, Mr. Anders Johan    male      1      5   \n14               Vestrom, Miss. Hulda Amanda Adolfina  female      0      0   \n15                   Hewlett, Mrs. (Mary D Kingcome)   female      0      0   \n16                               Rice, Master. Eugene    male      4      1   \n17                       Williams, Mr. Charles Eugene    male      0      0   \n18  Vander Planke, Mrs. Julius (Emelia Maria Vande...  female      1      0   \n19                            Masselmani, Mrs. Fatima  female      0      0   \n\n       Fare Embarked AgeGroup  CabinBool  Title  \n0    7.2500        S        4          0    1.0  \n1   71.2833        C        6          1    3.0  \n2    7.9250        S        5          0    2.0  \n3   53.1000        S        5          1    3.0  \n4    8.0500        S        5          0    1.0  \n5    8.4583        Q        8          0    1.0  \n6   51.8625        S        6          1    1.0  \n7   21.0750        S        1          0    4.0  \n8   11.1333        S        5          0    3.0  \n9   30.0708        C        3          0    3.0  \n10  16.7000        S        1          1    2.0  \n11  26.5500        S        6          1    2.0  \n12   8.0500        S        4          0    1.0  \n13  31.2750        S        6          0    1.0  \n14   7.8542        S        3          0    2.0  \n15  16.0000        S        6          0    3.0  \n16  29.1250        Q        1          0    4.0  \n17  13.0000        S        8          0    1.0  \n18  18.0000        S        5          0    3.0  \n19   7.2250        C        8          0    3.0  ",
      "text/html": "<div>\n<style scoped>\n    .dataframe tbody tr th:only-of-type {\n        vertical-align: middle;\n    }\n\n    .dataframe tbody tr th {\n        vertical-align: top;\n    }\n\n    .dataframe thead th {\n        text-align: right;\n    }\n</style>\n<table border=\"1\" class=\"dataframe\">\n  <thead>\n    <tr style=\"text-align: right;\">\n      <th></th>\n      <th>PassengerId</th>\n      <th>Survived</th>\n      <th>Pclass</th>\n      <th>Name</th>\n      <th>Sex</th>\n      <th>SibSp</th>\n      <th>Parch</th>\n      <th>Fare</th>\n      <th>Embarked</th>\n      <th>AgeGroup</th>\n      <th>CabinBool</th>\n      <th>Title</th>\n    </tr>\n  </thead>\n  <tbody>\n    <tr>\n      <th>0</th>\n      <td>1</td>\n      <td>0</td>\n      <td>3</td>\n      <td>Braund, Mr. Owen Harris</td>\n      <td>male</td>\n      <td>1</td>\n      <td>0</td>\n      <td>7.2500</td>\n      <td>S</td>\n      <td>4</td>\n      <td>0</td>\n      <td>1.0</td>\n    </tr>\n    <tr>\n      <th>1</th>\n      <td>2</td>\n      <td>1</td>\n      <td>1</td>\n      <td>Cumings, Mrs. John Bradley (Florence Briggs Th...</td>\n      <td>female</td>\n      <td>1</td>\n      <td>0</td>\n      <td>71.2833</td>\n      <td>C</td>\n      <td>6</td>\n      <td>1</td>\n      <td>3.0</td>\n    </tr>\n    <tr>\n      <th>2</th>\n      <td>3</td>\n      <td>1</td>\n      <td>3</td>\n      <td>Heikkinen, Miss. Laina</td>\n      <td>female</td>\n      <td>0</td>\n      <td>0</td>\n      <td>7.9250</td>\n      <td>S</td>\n      <td>5</td>\n      <td>0</td>\n      <td>2.0</td>\n    </tr>\n    <tr>\n      <th>3</th>\n      <td>4</td>\n      <td>1</td>\n      <td>1</td>\n      <td>Futrelle, Mrs. Jacques Heath (Lily May Peel)</td>\n      <td>female</td>\n      <td>1</td>\n      <td>0</td>\n      <td>53.1000</td>\n      <td>S</td>\n      <td>5</td>\n      <td>1</td>\n      <td>3.0</td>\n    </tr>\n    <tr>\n      <th>4</th>\n      <td>5</td>\n      <td>0</td>\n      <td>3</td>\n      <td>Allen, Mr. William Henry</td>\n      <td>male</td>\n      <td>0</td>\n      <td>0</td>\n      <td>8.0500</td>\n      <td>S</td>\n      <td>5</td>\n      <td>0</td>\n      <td>1.0</td>\n    </tr>\n    <tr>\n      <th>5</th>\n      <td>6</td>\n      <td>0</td>\n      <td>3</td>\n      <td>Moran, Mr. James</td>\n      <td>male</td>\n      <td>0</td>\n      <td>0</td>\n      <td>8.4583</td>\n      <td>Q</td>\n      <td>8</td>\n      <td>0</td>\n      <td>1.0</td>\n    </tr>\n    <tr>\n      <th>6</th>\n      <td>7</td>\n      <td>0</td>\n      <td>1</td>\n      <td>McCarthy, Mr. Timothy J</td>\n      <td>male</td>\n      <td>0</td>\n      <td>0</td>\n      <td>51.8625</td>\n      <td>S</td>\n      <td>6</td>\n      <td>1</td>\n      <td>1.0</td>\n    </tr>\n    <tr>\n      <th>7</th>\n      <td>8</td>\n      <td>0</td>\n      <td>3</td>\n      <td>Palsson, Master. Gosta Leonard</td>\n      <td>male</td>\n      <td>3</td>\n      <td>1</td>\n      <td>21.0750</td>\n      <td>S</td>\n      <td>1</td>\n      <td>0</td>\n      <td>4.0</td>\n    </tr>\n    <tr>\n      <th>8</th>\n      <td>9</td>\n      <td>1</td>\n      <td>3</td>\n      <td>Johnson, Mrs. Oscar W (Elisabeth Vilhelmina Berg)</td>\n      <td>female</td>\n      <td>0</td>\n      <td>2</td>\n      <td>11.1333</td>\n      <td>S</td>\n      <td>5</td>\n      <td>0</td>\n      <td>3.0</td>\n    </tr>\n    <tr>\n      <th>9</th>\n      <td>10</td>\n      <td>1</td>\n      <td>2</td>\n      <td>Nasser, Mrs. Nicholas (Adele Achem)</td>\n      <td>female</td>\n      <td>1</td>\n      <td>0</td>\n      <td>30.0708</td>\n      <td>C</td>\n      <td>3</td>\n      <td>0</td>\n      <td>3.0</td>\n    </tr>\n    <tr>\n      <th>10</th>\n      <td>11</td>\n      <td>1</td>\n      <td>3</td>\n      <td>Sandstrom, Miss. Marguerite Rut</td>\n      <td>female</td>\n      <td>1</td>\n      <td>1</td>\n      <td>16.7000</td>\n      <td>S</td>\n      <td>1</td>\n      <td>1</td>\n      <td>2.0</td>\n    </tr>\n    <tr>\n      <th>11</th>\n      <td>12</td>\n      <td>1</td>\n      <td>1</td>\n      <td>Bonnell, Miss. Elizabeth</td>\n      <td>female</td>\n      <td>0</td>\n      <td>0</td>\n      <td>26.5500</td>\n      <td>S</td>\n      <td>6</td>\n      <td>1</td>\n      <td>2.0</td>\n    </tr>\n    <tr>\n      <th>12</th>\n      <td>13</td>\n      <td>0</td>\n      <td>3</td>\n      <td>Saundercock, Mr. William Henry</td>\n      <td>male</td>\n      <td>0</td>\n      <td>0</td>\n      <td>8.0500</td>\n      <td>S</td>\n      <td>4</td>\n      <td>0</td>\n      <td>1.0</td>\n    </tr>\n    <tr>\n      <th>13</th>\n      <td>14</td>\n      <td>0</td>\n      <td>3</td>\n      <td>Andersson, Mr. Anders Johan</td>\n      <td>male</td>\n      <td>1</td>\n      <td>5</td>\n      <td>31.2750</td>\n      <td>S</td>\n      <td>6</td>\n      <td>0</td>\n      <td>1.0</td>\n    </tr>\n    <tr>\n      <th>14</th>\n      <td>15</td>\n      <td>0</td>\n      <td>3</td>\n      <td>Vestrom, Miss. Hulda Amanda Adolfina</td>\n      <td>female</td>\n      <td>0</td>\n      <td>0</td>\n      <td>7.8542</td>\n      <td>S</td>\n      <td>3</td>\n      <td>0</td>\n      <td>2.0</td>\n    </tr>\n    <tr>\n      <th>15</th>\n      <td>16</td>\n      <td>1</td>\n      <td>2</td>\n      <td>Hewlett, Mrs. (Mary D Kingcome)</td>\n      <td>female</td>\n      <td>0</td>\n      <td>0</td>\n      <td>16.0000</td>\n      <td>S</td>\n      <td>6</td>\n      <td>0</td>\n      <td>3.0</td>\n    </tr>\n    <tr>\n      <th>16</th>\n      <td>17</td>\n      <td>0</td>\n      <td>3</td>\n      <td>Rice, Master. Eugene</td>\n      <td>male</td>\n      <td>4</td>\n      <td>1</td>\n      <td>29.1250</td>\n      <td>Q</td>\n      <td>1</td>\n      <td>0</td>\n      <td>4.0</td>\n    </tr>\n    <tr>\n      <th>17</th>\n      <td>18</td>\n      <td>1</td>\n      <td>2</td>\n      <td>Williams, Mr. Charles Eugene</td>\n      <td>male</td>\n      <td>0</td>\n      <td>0</td>\n      <td>13.0000</td>\n      <td>S</td>\n      <td>8</td>\n      <td>0</td>\n      <td>1.0</td>\n    </tr>\n    <tr>\n      <th>18</th>\n      <td>19</td>\n      <td>0</td>\n      <td>3</td>\n      <td>Vander Planke, Mrs. Julius (Emelia Maria Vande...</td>\n      <td>female</td>\n      <td>1</td>\n      <td>0</td>\n      <td>18.0000</td>\n      <td>S</td>\n      <td>5</td>\n      <td>0</td>\n      <td>3.0</td>\n    </tr>\n    <tr>\n      <th>19</th>\n      <td>20</td>\n      <td>1</td>\n      <td>3</td>\n      <td>Masselmani, Mrs. Fatima</td>\n      <td>female</td>\n      <td>0</td>\n      <td>0</td>\n      <td>7.2250</td>\n      <td>C</td>\n      <td>8</td>\n      <td>0</td>\n      <td>3.0</td>\n    </tr>\n  </tbody>\n</table>\n</div>"
     },
     "execution_count": 23,
     "metadata": {},
     "output_type": "execute_result"
    }
   ],
   "source": [
    "#map each Age value to a numerical value\n",
    "age_mapping = {'Baby':1, 'Child':2, 'Teenager':3, 'Student':4, 'Young Adult':5, 'Adult':6, 'Senior':7, 'Unknown':8}##封箱操作\n",
    "train['AgeGroup'] = train['AgeGroup'].map(age_mapping)\n",
    "test['AgeGroup'] = test['AgeGroup'].map(age_mapping)\n",
    "\n",
    "train.head(20)\n",
    "#dropping the Age feature for now might change\n",
    "train = train.drop(['Age'],axis = 1)\n",
    "test = test.drop(['Age'], axis = 1)\n",
    "\n",
    "train.head(20)"
   ]
  },
  {
   "cell_type": "markdown",
   "id": "833d39a9",
   "metadata": {
    "papermill": {
     "duration": 0.018764,
     "end_time": "2022-11-06T09:07:36.831536",
     "exception": false,
     "start_time": "2022-11-06T09:07:36.812772",
     "status": "completed"
    },
    "tags": []
   },
   "source": [
    "**Name Feature**\n",
    "\n",
    "We can drop the name feature now that we're extracted the titles."
   ]
  },
  {
   "cell_type": "code",
   "execution_count": 24,
   "id": "ded1e349",
   "metadata": {
    "execution": {
     "iopub.execute_input": "2022-11-06T09:07:36.871535Z",
     "iopub.status.busy": "2022-11-06T09:07:36.870904Z",
     "iopub.status.idle": "2022-11-06T09:07:36.876755Z",
     "shell.execute_reply": "2022-11-06T09:07:36.876082Z"
    },
    "papermill": {
     "duration": 0.02856,
     "end_time": "2022-11-06T09:07:36.879103",
     "exception": false,
     "start_time": "2022-11-06T09:07:36.850543",
     "status": "completed"
    },
    "tags": []
   },
   "outputs": [],
   "source": [
    "#drop the name feature since it contains no more usefull information.\n",
    "train = train.drop(['Name'], axis = 1)\n",
    "test = test.drop(['Name'], axis = 1)"
   ]
  },
  {
   "cell_type": "markdown",
   "id": "911e2087",
   "metadata": {
    "papermill": {
     "duration": 0.018765,
     "end_time": "2022-11-06T09:07:36.916979",
     "exception": false,
     "start_time": "2022-11-06T09:07:36.898214",
     "status": "completed"
    },
    "tags": []
   },
   "source": []
  },
  {
   "cell_type": "markdown",
   "id": "ee68f2de",
   "metadata": {
    "papermill": {
     "duration": 0.018867,
     "end_time": "2022-11-06T09:07:36.954914",
     "exception": false,
     "start_time": "2022-11-06T09:07:36.936047",
     "status": "completed"
    },
    "tags": []
   },
   "source": [
    "**Sex Feature**\n"
   ]
  },
  {
   "cell_type": "code",
   "execution_count": 25,
   "id": "c84ba548",
   "metadata": {
    "execution": {
     "iopub.execute_input": "2022-11-06T09:07:36.995406Z",
     "iopub.status.busy": "2022-11-06T09:07:36.994509Z",
     "iopub.status.idle": "2022-11-06T09:07:37.013357Z",
     "shell.execute_reply": "2022-11-06T09:07:37.012155Z"
    },
    "papermill": {
     "duration": 0.041958,
     "end_time": "2022-11-06T09:07:37.015959",
     "exception": false,
     "start_time": "2022-11-06T09:07:36.974001",
     "status": "completed"
    },
    "tags": []
   },
   "outputs": [
    {
     "data": {
      "text/plain": "   PassengerId  Survived  Pclass  Sex  SibSp  Parch     Fare Embarked  \\\n0            1         0       3    0      1      0   7.2500        S   \n1            2         1       1    1      1      0  71.2833        C   \n2            3         1       3    1      0      0   7.9250        S   \n3            4         1       1    1      1      0  53.1000        S   \n4            5         0       3    0      0      0   8.0500        S   \n\n  AgeGroup  CabinBool  Title  \n0        4          0    1.0  \n1        6          1    3.0  \n2        5          0    2.0  \n3        5          1    3.0  \n4        5          0    1.0  ",
      "text/html": "<div>\n<style scoped>\n    .dataframe tbody tr th:only-of-type {\n        vertical-align: middle;\n    }\n\n    .dataframe tbody tr th {\n        vertical-align: top;\n    }\n\n    .dataframe thead th {\n        text-align: right;\n    }\n</style>\n<table border=\"1\" class=\"dataframe\">\n  <thead>\n    <tr style=\"text-align: right;\">\n      <th></th>\n      <th>PassengerId</th>\n      <th>Survived</th>\n      <th>Pclass</th>\n      <th>Sex</th>\n      <th>SibSp</th>\n      <th>Parch</th>\n      <th>Fare</th>\n      <th>Embarked</th>\n      <th>AgeGroup</th>\n      <th>CabinBool</th>\n      <th>Title</th>\n    </tr>\n  </thead>\n  <tbody>\n    <tr>\n      <th>0</th>\n      <td>1</td>\n      <td>0</td>\n      <td>3</td>\n      <td>0</td>\n      <td>1</td>\n      <td>0</td>\n      <td>7.2500</td>\n      <td>S</td>\n      <td>4</td>\n      <td>0</td>\n      <td>1.0</td>\n    </tr>\n    <tr>\n      <th>1</th>\n      <td>2</td>\n      <td>1</td>\n      <td>1</td>\n      <td>1</td>\n      <td>1</td>\n      <td>0</td>\n      <td>71.2833</td>\n      <td>C</td>\n      <td>6</td>\n      <td>1</td>\n      <td>3.0</td>\n    </tr>\n    <tr>\n      <th>2</th>\n      <td>3</td>\n      <td>1</td>\n      <td>3</td>\n      <td>1</td>\n      <td>0</td>\n      <td>0</td>\n      <td>7.9250</td>\n      <td>S</td>\n      <td>5</td>\n      <td>0</td>\n      <td>2.0</td>\n    </tr>\n    <tr>\n      <th>3</th>\n      <td>4</td>\n      <td>1</td>\n      <td>1</td>\n      <td>1</td>\n      <td>1</td>\n      <td>0</td>\n      <td>53.1000</td>\n      <td>S</td>\n      <td>5</td>\n      <td>1</td>\n      <td>3.0</td>\n    </tr>\n    <tr>\n      <th>4</th>\n      <td>5</td>\n      <td>0</td>\n      <td>3</td>\n      <td>0</td>\n      <td>0</td>\n      <td>0</td>\n      <td>8.0500</td>\n      <td>S</td>\n      <td>5</td>\n      <td>0</td>\n      <td>1.0</td>\n    </tr>\n  </tbody>\n</table>\n</div>"
     },
     "execution_count": 25,
     "metadata": {},
     "output_type": "execute_result"
    }
   ],
   "source": [
    "#map each Sex value to a numerical value\n",
    "sex_mapping = {\"male\":0, \"female\":1}\n",
    "train['Sex'] = train['Sex'].map(sex_mapping)\n",
    "test['Sex'] = test['Sex'].map(sex_mapping)\n",
    "\n",
    "train.head()"
   ]
  },
  {
   "cell_type": "markdown",
   "id": "5c5718bf",
   "metadata": {
    "papermill": {
     "duration": 0.018588,
     "end_time": "2022-11-06T09:07:37.054127",
     "exception": false,
     "start_time": "2022-11-06T09:07:37.035539",
     "status": "completed"
    },
    "tags": []
   },
   "source": [
    "**Embarked Feature**"
   ]
  },
  {
   "cell_type": "code",
   "execution_count": 26,
   "id": "55914309",
   "metadata": {
    "execution": {
     "iopub.execute_input": "2022-11-06T09:07:37.095512Z",
     "iopub.status.busy": "2022-11-06T09:07:37.094638Z",
     "iopub.status.idle": "2022-11-06T09:07:37.114457Z",
     "shell.execute_reply": "2022-11-06T09:07:37.112813Z"
    },
    "papermill": {
     "duration": 0.044399,
     "end_time": "2022-11-06T09:07:37.117236",
     "exception": false,
     "start_time": "2022-11-06T09:07:37.072837",
     "status": "completed"
    },
    "tags": []
   },
   "outputs": [
    {
     "data": {
      "text/plain": "   PassengerId  Survived  Pclass  Sex  SibSp  Parch     Fare  Embarked  \\\n0            1         0       3    0      1      0   7.2500         1   \n1            2         1       1    1      1      0  71.2833         2   \n2            3         1       3    1      0      0   7.9250         1   \n3            4         1       1    1      1      0  53.1000         1   \n4            5         0       3    0      0      0   8.0500         1   \n\n  AgeGroup  CabinBool  Title  \n0        4          0    1.0  \n1        6          1    3.0  \n2        5          0    2.0  \n3        5          1    3.0  \n4        5          0    1.0  ",
      "text/html": "<div>\n<style scoped>\n    .dataframe tbody tr th:only-of-type {\n        vertical-align: middle;\n    }\n\n    .dataframe tbody tr th {\n        vertical-align: top;\n    }\n\n    .dataframe thead th {\n        text-align: right;\n    }\n</style>\n<table border=\"1\" class=\"dataframe\">\n  <thead>\n    <tr style=\"text-align: right;\">\n      <th></th>\n      <th>PassengerId</th>\n      <th>Survived</th>\n      <th>Pclass</th>\n      <th>Sex</th>\n      <th>SibSp</th>\n      <th>Parch</th>\n      <th>Fare</th>\n      <th>Embarked</th>\n      <th>AgeGroup</th>\n      <th>CabinBool</th>\n      <th>Title</th>\n    </tr>\n  </thead>\n  <tbody>\n    <tr>\n      <th>0</th>\n      <td>1</td>\n      <td>0</td>\n      <td>3</td>\n      <td>0</td>\n      <td>1</td>\n      <td>0</td>\n      <td>7.2500</td>\n      <td>1</td>\n      <td>4</td>\n      <td>0</td>\n      <td>1.0</td>\n    </tr>\n    <tr>\n      <th>1</th>\n      <td>2</td>\n      <td>1</td>\n      <td>1</td>\n      <td>1</td>\n      <td>1</td>\n      <td>0</td>\n      <td>71.2833</td>\n      <td>2</td>\n      <td>6</td>\n      <td>1</td>\n      <td>3.0</td>\n    </tr>\n    <tr>\n      <th>2</th>\n      <td>3</td>\n      <td>1</td>\n      <td>3</td>\n      <td>1</td>\n      <td>0</td>\n      <td>0</td>\n      <td>7.9250</td>\n      <td>1</td>\n      <td>5</td>\n      <td>0</td>\n      <td>2.0</td>\n    </tr>\n    <tr>\n      <th>3</th>\n      <td>4</td>\n      <td>1</td>\n      <td>1</td>\n      <td>1</td>\n      <td>1</td>\n      <td>0</td>\n      <td>53.1000</td>\n      <td>1</td>\n      <td>5</td>\n      <td>1</td>\n      <td>3.0</td>\n    </tr>\n    <tr>\n      <th>4</th>\n      <td>5</td>\n      <td>0</td>\n      <td>3</td>\n      <td>0</td>\n      <td>0</td>\n      <td>0</td>\n      <td>8.0500</td>\n      <td>1</td>\n      <td>5</td>\n      <td>0</td>\n      <td>1.0</td>\n    </tr>\n  </tbody>\n</table>\n</div>"
     },
     "execution_count": 26,
     "metadata": {},
     "output_type": "execute_result"
    }
   ],
   "source": [
    "#map each Embarked value to a numerical value\n",
    "embarked_mapping = {\"S\": 1, \"C\":2, \"Q\":3}\n",
    "train['Embarked'] = train['Embarked'].map(embarked_mapping)\n",
    "test['Embarked'] = test['Embarked'].map(embarked_mapping)\n",
    "\n",
    "train.head()"
   ]
  },
  {
   "cell_type": "markdown",
   "id": "96952553",
   "metadata": {
    "papermill": {
     "duration": 0.020656,
     "end_time": "2022-11-06T09:07:37.157758",
     "exception": false,
     "start_time": "2022-11-06T09:07:37.137102",
     "status": "completed"
    },
    "tags": []
   },
   "source": [
    "**Fare Feature**  \n",
    "\n",
    "It's time separate the fare values into some logical groups as well as filling in the single missing value in the test dataset."
   ]
  },
  {
   "cell_type": "code",
   "execution_count": 27,
   "id": "8397705d",
   "metadata": {
    "execution": {
     "iopub.execute_input": "2022-11-06T09:07:37.200520Z",
     "iopub.status.busy": "2022-11-06T09:07:37.200100Z",
     "iopub.status.idle": "2022-11-06T09:07:37.216557Z",
     "shell.execute_reply": "2022-11-06T09:07:37.215746Z"
    },
    "papermill": {
     "duration": 0.040212,
     "end_time": "2022-11-06T09:07:37.218793",
     "exception": false,
     "start_time": "2022-11-06T09:07:37.178581",
     "status": "completed"
    },
    "tags": []
   },
   "outputs": [],
   "source": [
    "#fill in missing Fare value in test set base on mean fare for that Pclass\n",
    "for x in range(len(test[\"Fare\"])):\n",
    "    if pd.isnull(test[\"Fare\"][x]):\n",
    "        pclass = test[\"Pclass\"][x] #Pclass = 3\n",
    "        test[\"Fare\"][x] = round(train[train[\"Pclass\"] == pclass][\"Fare\"].mean(), 4)\n",
    "        \n",
    "#mpa Fare values into groups of numerical values\n",
    "train['FareBand'] = pd.qcut(train['Fare'], 4, labels = [1,2,3,4]) #qcut 是pands里面的封箱函数\n",
    "test['FareBand'] = pd.qcut(test['Fare'], 4, labels = [1,2,3,4])\n",
    "\n",
    "#drop Fare values\n",
    "train = train.drop(['Fare'], axis = 1)\n",
    "test = test.drop(['Fare'], axis = 1)"
   ]
  },
  {
   "cell_type": "code",
   "execution_count": 28,
   "id": "8e2d7437",
   "metadata": {
    "execution": {
     "iopub.execute_input": "2022-11-06T09:07:37.259535Z",
     "iopub.status.busy": "2022-11-06T09:07:37.258559Z",
     "iopub.status.idle": "2022-11-06T09:07:37.274007Z",
     "shell.execute_reply": "2022-11-06T09:07:37.273408Z"
    },
    "papermill": {
     "duration": 0.037644,
     "end_time": "2022-11-06T09:07:37.275770",
     "exception": false,
     "start_time": "2022-11-06T09:07:37.238126",
     "status": "completed"
    },
    "tags": []
   },
   "outputs": [
    {
     "data": {
      "text/plain": "    PassengerId  Survived  Pclass  Sex  SibSp  Parch  Embarked AgeGroup  \\\n0             1         0       3    0      1      0         1        4   \n1             2         1       1    1      1      0         2        6   \n2             3         1       3    1      0      0         1        5   \n3             4         1       1    1      1      0         1        5   \n4             5         0       3    0      0      0         1        5   \n5             6         0       3    0      0      0         3        8   \n6             7         0       1    0      0      0         1        6   \n7             8         0       3    0      3      1         1        1   \n8             9         1       3    1      0      2         1        5   \n9            10         1       2    1      1      0         2        3   \n10           11         1       3    1      1      1         1        1   \n11           12         1       1    1      0      0         1        6   \n12           13         0       3    0      0      0         1        4   \n13           14         0       3    0      1      5         1        6   \n14           15         0       3    1      0      0         1        3   \n15           16         1       2    1      0      0         1        6   \n16           17         0       3    0      4      1         3        1   \n17           18         1       2    0      0      0         1        8   \n18           19         0       3    1      1      0         1        5   \n19           20         1       3    1      0      0         2        8   \n\n    CabinBool  Title FareBand  \n0           0    1.0        1  \n1           1    3.0        4  \n2           0    2.0        2  \n3           1    3.0        4  \n4           0    1.0        2  \n5           0    1.0        2  \n6           1    1.0        4  \n7           0    4.0        3  \n8           0    3.0        2  \n9           0    3.0        3  \n10          1    2.0        3  \n11          1    2.0        3  \n12          0    1.0        2  \n13          0    1.0        4  \n14          0    2.0        1  \n15          0    3.0        3  \n16          0    4.0        3  \n17          0    1.0        2  \n18          0    3.0        3  \n19          0    3.0        1  ",
      "text/html": "<div>\n<style scoped>\n    .dataframe tbody tr th:only-of-type {\n        vertical-align: middle;\n    }\n\n    .dataframe tbody tr th {\n        vertical-align: top;\n    }\n\n    .dataframe thead th {\n        text-align: right;\n    }\n</style>\n<table border=\"1\" class=\"dataframe\">\n  <thead>\n    <tr style=\"text-align: right;\">\n      <th></th>\n      <th>PassengerId</th>\n      <th>Survived</th>\n      <th>Pclass</th>\n      <th>Sex</th>\n      <th>SibSp</th>\n      <th>Parch</th>\n      <th>Embarked</th>\n      <th>AgeGroup</th>\n      <th>CabinBool</th>\n      <th>Title</th>\n      <th>FareBand</th>\n    </tr>\n  </thead>\n  <tbody>\n    <tr>\n      <th>0</th>\n      <td>1</td>\n      <td>0</td>\n      <td>3</td>\n      <td>0</td>\n      <td>1</td>\n      <td>0</td>\n      <td>1</td>\n      <td>4</td>\n      <td>0</td>\n      <td>1.0</td>\n      <td>1</td>\n    </tr>\n    <tr>\n      <th>1</th>\n      <td>2</td>\n      <td>1</td>\n      <td>1</td>\n      <td>1</td>\n      <td>1</td>\n      <td>0</td>\n      <td>2</td>\n      <td>6</td>\n      <td>1</td>\n      <td>3.0</td>\n      <td>4</td>\n    </tr>\n    <tr>\n      <th>2</th>\n      <td>3</td>\n      <td>1</td>\n      <td>3</td>\n      <td>1</td>\n      <td>0</td>\n      <td>0</td>\n      <td>1</td>\n      <td>5</td>\n      <td>0</td>\n      <td>2.0</td>\n      <td>2</td>\n    </tr>\n    <tr>\n      <th>3</th>\n      <td>4</td>\n      <td>1</td>\n      <td>1</td>\n      <td>1</td>\n      <td>1</td>\n      <td>0</td>\n      <td>1</td>\n      <td>5</td>\n      <td>1</td>\n      <td>3.0</td>\n      <td>4</td>\n    </tr>\n    <tr>\n      <th>4</th>\n      <td>5</td>\n      <td>0</td>\n      <td>3</td>\n      <td>0</td>\n      <td>0</td>\n      <td>0</td>\n      <td>1</td>\n      <td>5</td>\n      <td>0</td>\n      <td>1.0</td>\n      <td>2</td>\n    </tr>\n    <tr>\n      <th>5</th>\n      <td>6</td>\n      <td>0</td>\n      <td>3</td>\n      <td>0</td>\n      <td>0</td>\n      <td>0</td>\n      <td>3</td>\n      <td>8</td>\n      <td>0</td>\n      <td>1.0</td>\n      <td>2</td>\n    </tr>\n    <tr>\n      <th>6</th>\n      <td>7</td>\n      <td>0</td>\n      <td>1</td>\n      <td>0</td>\n      <td>0</td>\n      <td>0</td>\n      <td>1</td>\n      <td>6</td>\n      <td>1</td>\n      <td>1.0</td>\n      <td>4</td>\n    </tr>\n    <tr>\n      <th>7</th>\n      <td>8</td>\n      <td>0</td>\n      <td>3</td>\n      <td>0</td>\n      <td>3</td>\n      <td>1</td>\n      <td>1</td>\n      <td>1</td>\n      <td>0</td>\n      <td>4.0</td>\n      <td>3</td>\n    </tr>\n    <tr>\n      <th>8</th>\n      <td>9</td>\n      <td>1</td>\n      <td>3</td>\n      <td>1</td>\n      <td>0</td>\n      <td>2</td>\n      <td>1</td>\n      <td>5</td>\n      <td>0</td>\n      <td>3.0</td>\n      <td>2</td>\n    </tr>\n    <tr>\n      <th>9</th>\n      <td>10</td>\n      <td>1</td>\n      <td>2</td>\n      <td>1</td>\n      <td>1</td>\n      <td>0</td>\n      <td>2</td>\n      <td>3</td>\n      <td>0</td>\n      <td>3.0</td>\n      <td>3</td>\n    </tr>\n    <tr>\n      <th>10</th>\n      <td>11</td>\n      <td>1</td>\n      <td>3</td>\n      <td>1</td>\n      <td>1</td>\n      <td>1</td>\n      <td>1</td>\n      <td>1</td>\n      <td>1</td>\n      <td>2.0</td>\n      <td>3</td>\n    </tr>\n    <tr>\n      <th>11</th>\n      <td>12</td>\n      <td>1</td>\n      <td>1</td>\n      <td>1</td>\n      <td>0</td>\n      <td>0</td>\n      <td>1</td>\n      <td>6</td>\n      <td>1</td>\n      <td>2.0</td>\n      <td>3</td>\n    </tr>\n    <tr>\n      <th>12</th>\n      <td>13</td>\n      <td>0</td>\n      <td>3</td>\n      <td>0</td>\n      <td>0</td>\n      <td>0</td>\n      <td>1</td>\n      <td>4</td>\n      <td>0</td>\n      <td>1.0</td>\n      <td>2</td>\n    </tr>\n    <tr>\n      <th>13</th>\n      <td>14</td>\n      <td>0</td>\n      <td>3</td>\n      <td>0</td>\n      <td>1</td>\n      <td>5</td>\n      <td>1</td>\n      <td>6</td>\n      <td>0</td>\n      <td>1.0</td>\n      <td>4</td>\n    </tr>\n    <tr>\n      <th>14</th>\n      <td>15</td>\n      <td>0</td>\n      <td>3</td>\n      <td>1</td>\n      <td>0</td>\n      <td>0</td>\n      <td>1</td>\n      <td>3</td>\n      <td>0</td>\n      <td>2.0</td>\n      <td>1</td>\n    </tr>\n    <tr>\n      <th>15</th>\n      <td>16</td>\n      <td>1</td>\n      <td>2</td>\n      <td>1</td>\n      <td>0</td>\n      <td>0</td>\n      <td>1</td>\n      <td>6</td>\n      <td>0</td>\n      <td>3.0</td>\n      <td>3</td>\n    </tr>\n    <tr>\n      <th>16</th>\n      <td>17</td>\n      <td>0</td>\n      <td>3</td>\n      <td>0</td>\n      <td>4</td>\n      <td>1</td>\n      <td>3</td>\n      <td>1</td>\n      <td>0</td>\n      <td>4.0</td>\n      <td>3</td>\n    </tr>\n    <tr>\n      <th>17</th>\n      <td>18</td>\n      <td>1</td>\n      <td>2</td>\n      <td>0</td>\n      <td>0</td>\n      <td>0</td>\n      <td>1</td>\n      <td>8</td>\n      <td>0</td>\n      <td>1.0</td>\n      <td>2</td>\n    </tr>\n    <tr>\n      <th>18</th>\n      <td>19</td>\n      <td>0</td>\n      <td>3</td>\n      <td>1</td>\n      <td>1</td>\n      <td>0</td>\n      <td>1</td>\n      <td>5</td>\n      <td>0</td>\n      <td>3.0</td>\n      <td>3</td>\n    </tr>\n    <tr>\n      <th>19</th>\n      <td>20</td>\n      <td>1</td>\n      <td>3</td>\n      <td>1</td>\n      <td>0</td>\n      <td>0</td>\n      <td>2</td>\n      <td>8</td>\n      <td>0</td>\n      <td>3.0</td>\n      <td>1</td>\n    </tr>\n  </tbody>\n</table>\n</div>"
     },
     "execution_count": 28,
     "metadata": {},
     "output_type": "execute_result"
    }
   ],
   "source": [
    "#check train data\n",
    "train.head(20)"
   ]
  },
  {
   "cell_type": "code",
   "execution_count": 29,
   "id": "01e8a487",
   "metadata": {
    "execution": {
     "iopub.execute_input": "2022-11-06T09:07:37.318546Z",
     "iopub.status.busy": "2022-11-06T09:07:37.317584Z",
     "iopub.status.idle": "2022-11-06T09:07:37.330036Z",
     "shell.execute_reply": "2022-11-06T09:07:37.328852Z"
    },
    "papermill": {
     "duration": 0.03585,
     "end_time": "2022-11-06T09:07:37.331781",
     "exception": false,
     "start_time": "2022-11-06T09:07:37.295931",
     "status": "completed"
    },
    "tags": []
   },
   "outputs": [
    {
     "data": {
      "text/plain": "   PassengerId  Pclass  Sex  SibSp  Parch  Embarked AgeGroup  CabinBool  \\\n0          892       3    0      0      0         3        4          0   \n1          893       3    1      1      0         1        6          0   \n2          894       2    0      0      0         3        5          0   \n3          895       3    0      0      0         1        5          0   \n4          896       3    1      1      1         1        5          0   \n\n   Title FareBand  \n0      1        1  \n1      3        1  \n2      1        2  \n3      1        2  \n4      3        2  ",
      "text/html": "<div>\n<style scoped>\n    .dataframe tbody tr th:only-of-type {\n        vertical-align: middle;\n    }\n\n    .dataframe tbody tr th {\n        vertical-align: top;\n    }\n\n    .dataframe thead th {\n        text-align: right;\n    }\n</style>\n<table border=\"1\" class=\"dataframe\">\n  <thead>\n    <tr style=\"text-align: right;\">\n      <th></th>\n      <th>PassengerId</th>\n      <th>Pclass</th>\n      <th>Sex</th>\n      <th>SibSp</th>\n      <th>Parch</th>\n      <th>Embarked</th>\n      <th>AgeGroup</th>\n      <th>CabinBool</th>\n      <th>Title</th>\n      <th>FareBand</th>\n    </tr>\n  </thead>\n  <tbody>\n    <tr>\n      <th>0</th>\n      <td>892</td>\n      <td>3</td>\n      <td>0</td>\n      <td>0</td>\n      <td>0</td>\n      <td>3</td>\n      <td>4</td>\n      <td>0</td>\n      <td>1</td>\n      <td>1</td>\n    </tr>\n    <tr>\n      <th>1</th>\n      <td>893</td>\n      <td>3</td>\n      <td>1</td>\n      <td>1</td>\n      <td>0</td>\n      <td>1</td>\n      <td>6</td>\n      <td>0</td>\n      <td>3</td>\n      <td>1</td>\n    </tr>\n    <tr>\n      <th>2</th>\n      <td>894</td>\n      <td>2</td>\n      <td>0</td>\n      <td>0</td>\n      <td>0</td>\n      <td>3</td>\n      <td>5</td>\n      <td>0</td>\n      <td>1</td>\n      <td>2</td>\n    </tr>\n    <tr>\n      <th>3</th>\n      <td>895</td>\n      <td>3</td>\n      <td>0</td>\n      <td>0</td>\n      <td>0</td>\n      <td>1</td>\n      <td>5</td>\n      <td>0</td>\n      <td>1</td>\n      <td>2</td>\n    </tr>\n    <tr>\n      <th>4</th>\n      <td>896</td>\n      <td>3</td>\n      <td>1</td>\n      <td>1</td>\n      <td>1</td>\n      <td>1</td>\n      <td>5</td>\n      <td>0</td>\n      <td>3</td>\n      <td>2</td>\n    </tr>\n  </tbody>\n</table>\n</div>"
     },
     "execution_count": 29,
     "metadata": {},
     "output_type": "execute_result"
    }
   ],
   "source": [
    "#check test data\n",
    "test.head()"
   ]
  },
  {
   "cell_type": "markdown",
   "id": "c2a58e1d",
   "metadata": {
    "papermill": {
     "duration": 0.018859,
     "end_time": "2022-11-06T09:07:37.369919",
     "exception": false,
     "start_time": "2022-11-06T09:07:37.351060",
     "status": "completed"
    },
    "tags": []
   },
   "source": [
    "## 6) Choosing the Best Model\n",
    "**Splitting the Training Data**\n",
    "\n",
    "We will use part of our training data(22% in this case) to test the accuracy of our different models."
   ]
  },
  {
   "cell_type": "code",
   "execution_count": 30,
   "id": "019e3475",
   "metadata": {
    "execution": {
     "iopub.execute_input": "2022-11-06T09:07:37.409386Z",
     "iopub.status.busy": "2022-11-06T09:07:37.409056Z",
     "iopub.status.idle": "2022-11-06T09:07:37.588962Z",
     "shell.execute_reply": "2022-11-06T09:07:37.587831Z"
    },
    "papermill": {
     "duration": 0.2027,
     "end_time": "2022-11-06T09:07:37.591594",
     "exception": false,
     "start_time": "2022-11-06T09:07:37.388894",
     "status": "completed"
    },
    "tags": []
   },
   "outputs": [],
   "source": [
    "from sklearn.model_selection import train_test_split\n",
    "\n",
    "predictors = train.drop(['Survived', 'PassengerId'], axis = 1)\n",
    "target = train[\"Survived\"]\n",
    "x_train, x_val, y_train, y_val = train_test_split(predictors, target, test_size = 0.22, random_state = 0)"
   ]
  },
  {
   "cell_type": "markdown",
   "id": "43cc0d46",
   "metadata": {
    "papermill": {
     "duration": 0.020842,
     "end_time": "2022-11-06T09:07:37.633055",
     "exception": false,
     "start_time": "2022-11-06T09:07:37.612213",
     "status": "completed"
    },
    "tags": []
   },
   "source": [
    "** Testing Different Models**\n",
    "\n",
    "I will be testing the following models with my training data(got the list from here //有个超链接)：\n",
    "- Gaussian Naive Bayes\n",
    "- Logistic Regression\n",
    "- Support Vector Machines\n",
    "- Perceptron\n",
    "- Decision Tree Classifier\n",
    "- Random Forest Classifier\n",
    "- KNN or k-Nearest Neighbors\n",
    "- Stochastic Gradient Descent\n",
    "- Gradient Boosting Classifier\n",
    "\n",
    "For each model, we set the model, fit it with 80% of our training data, predict for 20% of the training data and check the accuracy."
   ]
  },
  {
   "cell_type": "code",
   "execution_count": 31,
   "id": "a84657bb",
   "metadata": {
    "execution": {
     "iopub.execute_input": "2022-11-06T09:07:37.674927Z",
     "iopub.status.busy": "2022-11-06T09:07:37.674523Z",
     "iopub.status.idle": "2022-11-06T09:07:37.689612Z",
     "shell.execute_reply": "2022-11-06T09:07:37.687928Z"
    },
    "papermill": {
     "duration": 0.03815,
     "end_time": "2022-11-06T09:07:37.691813",
     "exception": false,
     "start_time": "2022-11-06T09:07:37.653663",
     "status": "completed"
    },
    "tags": []
   },
   "outputs": [
    {
     "name": "stdout",
     "output_type": "stream",
     "text": [
      "78.68\n"
     ]
    }
   ],
   "source": [
    "#Gussian Naive Bayes\n",
    "from sklearn.naive_bayes import GaussianNB\n",
    "from sklearn.metrics import accuracy_score\n",
    "\n",
    "gaussian = GaussianNB()\n",
    "gaussian.fit(x_train, y_train)\n",
    "y_pred = gaussian.predict(x_val)\n",
    "acc_gaussian = round(accuracy_score(y_pred, y_val) * 100 , 2)\n",
    "print(acc_gaussian)"
   ]
  },
  {
   "cell_type": "code",
   "execution_count": 32,
   "id": "a340a394",
   "metadata": {
    "execution": {
     "iopub.execute_input": "2022-11-06T09:07:37.734281Z",
     "iopub.status.busy": "2022-11-06T09:07:37.733928Z",
     "iopub.status.idle": "2022-11-06T09:07:37.828582Z",
     "shell.execute_reply": "2022-11-06T09:07:37.827097Z"
    },
    "papermill": {
     "duration": 0.118811,
     "end_time": "2022-11-06T09:07:37.830812",
     "exception": false,
     "start_time": "2022-11-06T09:07:37.712001",
     "status": "completed"
    },
    "tags": []
   },
   "outputs": [
    {
     "name": "stdout",
     "output_type": "stream",
     "text": [
      "79.19\n"
     ]
    }
   ],
   "source": [
    "#Logistic Regression\n",
    "from sklearn.linear_model import LogisticRegression\n",
    "\n",
    "logreg = LogisticRegression()\n",
    "logreg.fit(x_train, y_train)\n",
    "y_pred = logreg.predict(x_val)\n",
    "acc_logreg = round(accuracy_score(y_pred, y_val) * 100 , 2)\n",
    "print(acc_logreg)"
   ]
  },
  {
   "cell_type": "code",
   "execution_count": 33,
   "id": "927e2cb8",
   "metadata": {
    "execution": {
     "iopub.execute_input": "2022-11-06T09:07:37.872514Z",
     "iopub.status.busy": "2022-11-06T09:07:37.872092Z",
     "iopub.status.idle": "2022-11-06T09:07:37.902222Z",
     "shell.execute_reply": "2022-11-06T09:07:37.900826Z"
    },
    "papermill": {
     "duration": 0.053719,
     "end_time": "2022-11-06T09:07:37.904875",
     "exception": false,
     "start_time": "2022-11-06T09:07:37.851156",
     "status": "completed"
    },
    "tags": []
   },
   "outputs": [
    {
     "name": "stdout",
     "output_type": "stream",
     "text": [
      "81.73\n"
     ]
    }
   ],
   "source": [
    "#Support Vector Machine\n",
    "from sklearn.svm import SVC\n",
    "\n",
    "svc = SVC()\n",
    "svc.fit(x_train, y_train)\n",
    "y_pred = svc.predict(x_val)\n",
    "acc_svc = round(accuracy_score(y_pred, y_val)*100, 2)\n",
    "print(acc_svc)"
   ]
  },
  {
   "cell_type": "code",
   "execution_count": 34,
   "id": "7abe915d",
   "metadata": {
    "execution": {
     "iopub.execute_input": "2022-11-06T09:07:37.945949Z",
     "iopub.status.busy": "2022-11-06T09:07:37.945549Z",
     "iopub.status.idle": "2022-11-06T09:07:37.994159Z",
     "shell.execute_reply": "2022-11-06T09:07:37.992965Z"
    },
    "papermill": {
     "duration": 0.072031,
     "end_time": "2022-11-06T09:07:37.996615",
     "exception": false,
     "start_time": "2022-11-06T09:07:37.924584",
     "status": "completed"
    },
    "tags": []
   },
   "outputs": [
    {
     "name": "stdout",
     "output_type": "stream",
     "text": [
      "78.17\n"
     ]
    }
   ],
   "source": [
    "# Linear SVC\n",
    "from sklearn.svm import LinearSVC\n",
    "\n",
    "linear_svc = LinearSVC()\n",
    "linear_svc.fit(x_train, y_train)\n",
    "y_pred = linear_svc.predict(x_val)\n",
    "acc_linear_svc = round(accuracy_score(y_pred, y_val)*100, 2)\n",
    "print(acc_linear_svc)"
   ]
  },
  {
   "cell_type": "code",
   "execution_count": 35,
   "id": "91a065bd",
   "metadata": {
    "execution": {
     "iopub.execute_input": "2022-11-06T09:07:38.037090Z",
     "iopub.status.busy": "2022-11-06T09:07:38.036761Z",
     "iopub.status.idle": "2022-11-06T09:07:38.049671Z",
     "shell.execute_reply": "2022-11-06T09:07:38.048403Z"
    },
    "papermill": {
     "duration": 0.035814,
     "end_time": "2022-11-06T09:07:38.051906",
     "exception": false,
     "start_time": "2022-11-06T09:07:38.016092",
     "status": "completed"
    },
    "tags": []
   },
   "outputs": [
    {
     "name": "stdout",
     "output_type": "stream",
     "text": [
      "78.17\n"
     ]
    }
   ],
   "source": [
    "# Perceptron\n",
    "from sklearn.linear_model import Perceptron\n",
    "\n",
    "perceptron = Perceptron()\n",
    "perceptron.fit(x_train, y_train)\n",
    "y_pred = perceptron.predict(x_val)\n",
    "acc_perceptron = round(accuracy_score(y_pred, y_val)*100, 2)\n",
    "print(acc_perceptron)"
   ]
  },
  {
   "cell_type": "code",
   "execution_count": 36,
   "id": "1f9e0efa",
   "metadata": {
    "execution": {
     "iopub.execute_input": "2022-11-06T09:07:38.095476Z",
     "iopub.status.busy": "2022-11-06T09:07:38.094353Z",
     "iopub.status.idle": "2022-11-06T09:07:38.177947Z",
     "shell.execute_reply": "2022-11-06T09:07:38.176519Z"
    },
    "papermill": {
     "duration": 0.107779,
     "end_time": "2022-11-06T09:07:38.180328",
     "exception": false,
     "start_time": "2022-11-06T09:07:38.072549",
     "status": "completed"
    },
    "tags": []
   },
   "outputs": [
    {
     "name": "stdout",
     "output_type": "stream",
     "text": [
      "82.23\n"
     ]
    }
   ],
   "source": [
    "# Decision Tree\n",
    "from sklearn.tree import DecisionTreeClassifier\n",
    "\n",
    "decisiontree = DecisionTreeClassifier()\n",
    "decisiontree.fit(x_train, y_train)\n",
    "y_pred = decisiontree.predict(x_val)\n",
    "acc_decisiontree = round(accuracy_score(y_pred, y_val)*100, 2)\n",
    "print(acc_decisiontree)"
   ]
  },
  {
   "cell_type": "code",
   "execution_count": 37,
   "id": "90d390a7",
   "metadata": {
    "execution": {
     "iopub.execute_input": "2022-11-06T09:07:38.222713Z",
     "iopub.status.busy": "2022-11-06T09:07:38.222320Z",
     "iopub.status.idle": "2022-11-06T09:07:38.438556Z",
     "shell.execute_reply": "2022-11-06T09:07:38.436666Z"
    },
    "papermill": {
     "duration": 0.240169,
     "end_time": "2022-11-06T09:07:38.440845",
     "exception": false,
     "start_time": "2022-11-06T09:07:38.200676",
     "status": "completed"
    },
    "tags": []
   },
   "outputs": [
    {
     "name": "stdout",
     "output_type": "stream",
     "text": [
      "84.77\n"
     ]
    }
   ],
   "source": [
    "# Random Forest\n",
    "from sklearn.ensemble import RandomForestClassifier\n",
    "\n",
    "randomforest = RandomForestClassifier()\n",
    "randomforest.fit(x_train, y_train)\n",
    "y_pred = randomforest.predict(x_val)\n",
    "acc_randomforest = round(accuracy_score(y_pred, y_val)*100, 2)\n",
    "print(acc_randomforest)"
   ]
  },
  {
   "cell_type": "code",
   "execution_count": 38,
   "id": "b6ab6f1f",
   "metadata": {
    "execution": {
     "iopub.execute_input": "2022-11-06T09:07:38.481427Z",
     "iopub.status.busy": "2022-11-06T09:07:38.481080Z",
     "iopub.status.idle": "2022-11-06T09:07:38.498699Z",
     "shell.execute_reply": "2022-11-06T09:07:38.497274Z"
    },
    "papermill": {
     "duration": 0.040188,
     "end_time": "2022-11-06T09:07:38.500834",
     "exception": false,
     "start_time": "2022-11-06T09:07:38.460646",
     "status": "completed"
    },
    "tags": []
   },
   "outputs": [
    {
     "name": "stdout",
     "output_type": "stream",
     "text": [
      "82.23\n"
     ]
    }
   ],
   "source": [
    "# KNN or k-Nearest Neighbors\n",
    "from sklearn.neighbors import KNeighborsClassifier\n",
    "\n",
    "knn = KNeighborsClassifier()\n",
    "knn.fit(x_train, y_train)\n",
    "y_pred = knn.predict(x_val)\n",
    "acc_knn = round(accuracy_score(y_pred, y_val)*100, 2)\n",
    "print(acc_knn)"
   ]
  },
  {
   "cell_type": "code",
   "execution_count": 39,
   "id": "c36c5f40",
   "metadata": {
    "execution": {
     "iopub.execute_input": "2022-11-06T09:07:38.541951Z",
     "iopub.status.busy": "2022-11-06T09:07:38.541625Z",
     "iopub.status.idle": "2022-11-06T09:07:38.557773Z",
     "shell.execute_reply": "2022-11-06T09:07:38.556441Z"
    },
    "papermill": {
     "duration": 0.039294,
     "end_time": "2022-11-06T09:07:38.560281",
     "exception": false,
     "start_time": "2022-11-06T09:07:38.520987",
     "status": "completed"
    },
    "tags": []
   },
   "outputs": [
    {
     "name": "stdout",
     "output_type": "stream",
     "text": [
      "37.06\n"
     ]
    }
   ],
   "source": [
    "# Stochastic Gradient Descent\n",
    "from sklearn.linear_model import SGDClassifier\n",
    "\n",
    "sgd = SGDClassifier()\n",
    "sgd.fit(x_train, y_train)\n",
    "y_pred = sgd.predict(x_val)\n",
    "acc_sgd = round(accuracy_score(y_pred, y_val)*100, 2)\n",
    "print(acc_sgd)"
   ]
  },
  {
   "cell_type": "code",
   "execution_count": 40,
   "id": "23a64124",
   "metadata": {
    "execution": {
     "iopub.execute_input": "2022-11-06T09:07:38.601161Z",
     "iopub.status.busy": "2022-11-06T09:07:38.600831Z",
     "iopub.status.idle": "2022-11-06T09:07:38.680876Z",
     "shell.execute_reply": "2022-11-06T09:07:38.679412Z"
    },
    "papermill": {
     "duration": 0.102924,
     "end_time": "2022-11-06T09:07:38.682975",
     "exception": false,
     "start_time": "2022-11-06T09:07:38.580051",
     "status": "completed"
    },
    "tags": []
   },
   "outputs": [
    {
     "name": "stdout",
     "output_type": "stream",
     "text": [
      "84.26\n"
     ]
    }
   ],
   "source": [
    "# Gradient Boosting Classifer\n",
    "from sklearn.ensemble import GradientBoostingClassifier\n",
    "\n",
    "gbk= GradientBoostingClassifier()\n",
    "gbk.fit(x_train, y_train)\n",
    "y_pred = gbk.predict(x_val)\n",
    "acc_gbk = round(accuracy_score(y_pred, y_val)*100, 2)\n",
    "print(acc_gbk)"
   ]
  },
  {
   "cell_type": "markdown",
   "id": "ed60e2bb",
   "metadata": {
    "papermill": {
     "duration": 0.019562,
     "end_time": "2022-11-06T09:07:38.722258",
     "exception": false,
     "start_time": "2022-11-06T09:07:38.702696",
     "status": "completed"
    },
    "tags": []
   },
   "source": [
    "Let's compare the accuracies of each model!"
   ]
  },
  {
   "cell_type": "code",
   "execution_count": 41,
   "id": "410cf085",
   "metadata": {
    "execution": {
     "iopub.execute_input": "2022-11-06T09:07:38.764327Z",
     "iopub.status.busy": "2022-11-06T09:07:38.763191Z",
     "iopub.status.idle": "2022-11-06T09:07:38.778933Z",
     "shell.execute_reply": "2022-11-06T09:07:38.777783Z"
    },
    "papermill": {
     "duration": 0.038561,
     "end_time": "2022-11-06T09:07:38.780744",
     "exception": false,
     "start_time": "2022-11-06T09:07:38.742183",
     "status": "completed"
    },
    "tags": []
   },
   "outputs": [
    {
     "data": {
      "text/plain": "                          Model  Score\n3                 Random Forest  84.77\n9  Gradient Boosting Classifier  84.26\n1                           KNN  82.23\n7                 Decision Tree  82.23\n0       Support Vector Machines  81.73\n2           Logistic Regression  79.19\n4                   Naive Bayes  78.68\n5                    Perceptron  78.17\n6                    Linear SVC  78.17\n8   Stochastic Gradient Descent  37.06",
      "text/html": "<div>\n<style scoped>\n    .dataframe tbody tr th:only-of-type {\n        vertical-align: middle;\n    }\n\n    .dataframe tbody tr th {\n        vertical-align: top;\n    }\n\n    .dataframe thead th {\n        text-align: right;\n    }\n</style>\n<table border=\"1\" class=\"dataframe\">\n  <thead>\n    <tr style=\"text-align: right;\">\n      <th></th>\n      <th>Model</th>\n      <th>Score</th>\n    </tr>\n  </thead>\n  <tbody>\n    <tr>\n      <th>3</th>\n      <td>Random Forest</td>\n      <td>84.77</td>\n    </tr>\n    <tr>\n      <th>9</th>\n      <td>Gradient Boosting Classifier</td>\n      <td>84.26</td>\n    </tr>\n    <tr>\n      <th>1</th>\n      <td>KNN</td>\n      <td>82.23</td>\n    </tr>\n    <tr>\n      <th>7</th>\n      <td>Decision Tree</td>\n      <td>82.23</td>\n    </tr>\n    <tr>\n      <th>0</th>\n      <td>Support Vector Machines</td>\n      <td>81.73</td>\n    </tr>\n    <tr>\n      <th>2</th>\n      <td>Logistic Regression</td>\n      <td>79.19</td>\n    </tr>\n    <tr>\n      <th>4</th>\n      <td>Naive Bayes</td>\n      <td>78.68</td>\n    </tr>\n    <tr>\n      <th>5</th>\n      <td>Perceptron</td>\n      <td>78.17</td>\n    </tr>\n    <tr>\n      <th>6</th>\n      <td>Linear SVC</td>\n      <td>78.17</td>\n    </tr>\n    <tr>\n      <th>8</th>\n      <td>Stochastic Gradient Descent</td>\n      <td>37.06</td>\n    </tr>\n  </tbody>\n</table>\n</div>"
     },
     "execution_count": 41,
     "metadata": {},
     "output_type": "execute_result"
    }
   ],
   "source": [
    "models = pd.DataFrame({\n",
    "    'Model':['Support Vector Machines','KNN', 'Logistic Regression',\n",
    "            'Random Forest', 'Naive Bayes', 'Perceptron','Linear SVC',\n",
    "            'Decision Tree', 'Stochastic Gradient Descent', 'Gradient Boosting Classifier'],\n",
    "    'Score':[acc_svc, acc_knn, acc_logreg,\n",
    "              acc_randomforest, acc_gaussian, acc_perceptron, acc_linear_svc, acc_decisiontree,\n",
    "             acc_sgd, acc_gbk]})\n",
    "models.sort_values(by='Score', ascending = False)"
   ]
  },
  {
   "cell_type": "markdown",
   "id": "adbbbf20",
   "metadata": {
    "papermill": {
     "duration": 0.019401,
     "end_time": "2022-11-06T09:07:38.819964",
     "exception": false,
     "start_time": "2022-11-06T09:07:38.800563",
     "status": "completed"
    },
    "tags": []
   },
   "source": [
    "I decided to use the Gradient Boosting Classifier model for the testing data.\n"
   ]
  },
  {
   "cell_type": "markdown",
   "id": "2847828b",
   "metadata": {
    "papermill": {
     "duration": 0.019459,
     "end_time": "2022-11-06T09:07:38.858967",
     "exception": false,
     "start_time": "2022-11-06T09:07:38.839508",
     "status": "completed"
    },
    "tags": []
   },
   "source": [
    "## 7) Creating Submission File\n",
    "It's time to create a submission.csv file to upload to the Kagle competition!"
   ]
  },
  {
   "cell_type": "code",
   "execution_count": 43,
   "id": "277dca82",
   "metadata": {
    "execution": {
     "iopub.execute_input": "2022-11-06T09:07:38.899611Z",
     "iopub.status.busy": "2022-11-06T09:07:38.899255Z",
     "iopub.status.idle": "2022-11-06T09:07:38.913265Z",
     "shell.execute_reply": "2022-11-06T09:07:38.912184Z"
    },
    "papermill": {
     "duration": 0.036461,
     "end_time": "2022-11-06T09:07:38.915229",
     "exception": false,
     "start_time": "2022-11-06T09:07:38.878768",
     "status": "completed"
    },
    "tags": []
   },
   "outputs": [],
   "source": [
    "#set ids as PassengerId and predict survival\n",
    "ids = test['PassengerId']\n",
    "predictions = gbk.predict(test.drop('PassengerId', axis = 1))\n",
    "\n",
    "#set the output as a dataframe and convert to csv file named submission.csv\n",
    "output = pd.DataFrame({'PassengerId':ids, 'Survived':predictions})\n",
    "output.to_csv('submission.csv', index = False)"
   ]
  },
  {
   "cell_type": "code",
   "execution_count": null,
   "outputs": [],
   "source": [],
   "metadata": {
    "collapsed": false,
    "pycharm": {
     "name": "#%%\n"
    }
   }
  }
 ],
 "metadata": {
  "kernelspec": {
   "display_name": "Python 3",
   "language": "python",
   "name": "python3"
  },
  "language_info": {
   "codemirror_mode": {
    "name": "ipython",
    "version": 3
   },
   "file_extension": ".py",
   "mimetype": "text/x-python",
   "name": "python",
   "nbconvert_exporter": "python",
   "pygments_lexer": "ipython3",
   "version": "3.7.12"
  },
  "papermill": {
   "default_parameters": {},
   "duration": 15.145751,
   "end_time": "2022-11-06T09:07:39.657532",
   "environment_variables": {},
   "exception": null,
   "input_path": "__notebook__.ipynb",
   "output_path": "__notebook__.ipynb",
   "parameters": {},
   "start_time": "2022-11-06T09:07:24.511781",
   "version": "2.3.4"
  }
 },
 "nbformat": 4,
 "nbformat_minor": 5
}