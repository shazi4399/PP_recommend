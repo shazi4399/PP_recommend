{
 "cells": [
  {
   "cell_type": "code",
   "execution_count": 2,
   "metadata": {
    "collapsed": true
   },
   "outputs": [],
   "source": [
    "#data analysis libraries\n",
    "import numpy as np\n",
    "import pandas as pd\n",
    "\n",
    "#visualization libraries\n",
    "import matplotlib.pyplot as plt\n",
    "import seaborn as sns\n",
    "%matplotlib inline\n",
    "\n",
    "#ignore warnings\n",
    "import warnings\n",
    "warnings.filterwarnings('ignore')"
   ]
  },
  {
   "cell_type": "markdown",
   "source": [
    "## 读入数据"
   ],
   "metadata": {
    "collapsed": false,
    "pycharm": {
     "name": "#%% md\n"
    }
   }
  },
  {
   "cell_type": "code",
   "source": [
    "#import train and test CSV files\n",
    "Bank_data = pd.read_csv(\"../赛题/公开数据集/Bank_data.csv\")\n",
    "PetroStation_data = pd.read_csv(\"../赛题/公开数据集/PetrolStation_data.csv\")\n",
    "VehicleSystem_data = pd.read_csv(\"../赛题/公开数据集/VehicleSystem_data.csv\")\n",
    "\n",
    "#take a look at the training data\n",
    "Bank_data.describe(include = \"all\")"
   ],
   "metadata": {
    "collapsed": false,
    "pycharm": {
     "name": "#%%\n"
    }
   },
   "execution_count": 3,
   "outputs": [
    {
     "data": {
      "text/plain": "                 ID gender   age    maritalStatus                 education  \\\ncount    2537.00000   2537  2537             2537                      2537   \nunique          NaN      2     8                5                         6   \ntop             NaN   Male    21  Married partner  Some college - no degree   \nfreq            NaN   1269   567             1036                       883   \nmean    16465.87229    NaN   NaN              NaN                       NaN   \nstd      3656.59043    NaN   NaN              NaN                       NaN   \nmin     10004.00000    NaN   NaN              NaN                       NaN   \n25%     13268.00000    NaN   NaN              NaN                       NaN   \n50%     16538.00000    NaN   NaN              NaN                       NaN   \n75%     19660.00000    NaN   NaN              NaN                       NaN   \nmax     22683.00000    NaN   NaN              NaN                       NaN   \n\n        occupation           income    Bar CoffeeHouse CarryAway  \\\ncount         2537             2537   2522        2506      2510   \nunique          25                9      5           5         5   \ntop     Unemployed  $25000 - $37499  never       less1       1~3   \nfreq           372              408    992         676       941   \nmean           NaN              NaN    NaN         NaN       NaN   \nstd            NaN              NaN    NaN         NaN       NaN   \nmin            NaN              NaN    NaN         NaN       NaN   \n25%            NaN              NaN    NaN         NaN       NaN   \n50%            NaN              NaN    NaN         NaN       NaN   \n75%            NaN              NaN    NaN         NaN       NaN   \nmax            NaN              NaN    NaN         NaN       NaN   \n\n       RestaurantLessThan20 Restaurant20To50  \ncount                  2521             2503  \nunique                    5                5  \ntop                     1~3            less1  \nfreq                   1099             1249  \nmean                    NaN              NaN  \nstd                     NaN              NaN  \nmin                     NaN              NaN  \n25%                     NaN              NaN  \n50%                     NaN              NaN  \n75%                     NaN              NaN  \nmax                     NaN              NaN  ",
      "text/html": "<div>\n<style scoped>\n    .dataframe tbody tr th:only-of-type {\n        vertical-align: middle;\n    }\n\n    .dataframe tbody tr th {\n        vertical-align: top;\n    }\n\n    .dataframe thead th {\n        text-align: right;\n    }\n</style>\n<table border=\"1\" class=\"dataframe\">\n  <thead>\n    <tr style=\"text-align: right;\">\n      <th></th>\n      <th>ID</th>\n      <th>gender</th>\n      <th>age</th>\n      <th>maritalStatus</th>\n      <th>education</th>\n      <th>occupation</th>\n      <th>income</th>\n      <th>Bar</th>\n      <th>CoffeeHouse</th>\n      <th>CarryAway</th>\n      <th>RestaurantLessThan20</th>\n      <th>Restaurant20To50</th>\n    </tr>\n  </thead>\n  <tbody>\n    <tr>\n      <th>count</th>\n      <td>2537.00000</td>\n      <td>2537</td>\n      <td>2537</td>\n      <td>2537</td>\n      <td>2537</td>\n      <td>2537</td>\n      <td>2537</td>\n      <td>2522</td>\n      <td>2506</td>\n      <td>2510</td>\n      <td>2521</td>\n      <td>2503</td>\n    </tr>\n    <tr>\n      <th>unique</th>\n      <td>NaN</td>\n      <td>2</td>\n      <td>8</td>\n      <td>5</td>\n      <td>6</td>\n      <td>25</td>\n      <td>9</td>\n      <td>5</td>\n      <td>5</td>\n      <td>5</td>\n      <td>5</td>\n      <td>5</td>\n    </tr>\n    <tr>\n      <th>top</th>\n      <td>NaN</td>\n      <td>Male</td>\n      <td>21</td>\n      <td>Married partner</td>\n      <td>Some college - no degree</td>\n      <td>Unemployed</td>\n      <td>$25000 - $37499</td>\n      <td>never</td>\n      <td>less1</td>\n      <td>1~3</td>\n      <td>1~3</td>\n      <td>less1</td>\n    </tr>\n    <tr>\n      <th>freq</th>\n      <td>NaN</td>\n      <td>1269</td>\n      <td>567</td>\n      <td>1036</td>\n      <td>883</td>\n      <td>372</td>\n      <td>408</td>\n      <td>992</td>\n      <td>676</td>\n      <td>941</td>\n      <td>1099</td>\n      <td>1249</td>\n    </tr>\n    <tr>\n      <th>mean</th>\n      <td>16465.87229</td>\n      <td>NaN</td>\n      <td>NaN</td>\n      <td>NaN</td>\n      <td>NaN</td>\n      <td>NaN</td>\n      <td>NaN</td>\n      <td>NaN</td>\n      <td>NaN</td>\n      <td>NaN</td>\n      <td>NaN</td>\n      <td>NaN</td>\n    </tr>\n    <tr>\n      <th>std</th>\n      <td>3656.59043</td>\n      <td>NaN</td>\n      <td>NaN</td>\n      <td>NaN</td>\n      <td>NaN</td>\n      <td>NaN</td>\n      <td>NaN</td>\n      <td>NaN</td>\n      <td>NaN</td>\n      <td>NaN</td>\n      <td>NaN</td>\n      <td>NaN</td>\n    </tr>\n    <tr>\n      <th>min</th>\n      <td>10004.00000</td>\n      <td>NaN</td>\n      <td>NaN</td>\n      <td>NaN</td>\n      <td>NaN</td>\n      <td>NaN</td>\n      <td>NaN</td>\n      <td>NaN</td>\n      <td>NaN</td>\n      <td>NaN</td>\n      <td>NaN</td>\n      <td>NaN</td>\n    </tr>\n    <tr>\n      <th>25%</th>\n      <td>13268.00000</td>\n      <td>NaN</td>\n      <td>NaN</td>\n      <td>NaN</td>\n      <td>NaN</td>\n      <td>NaN</td>\n      <td>NaN</td>\n      <td>NaN</td>\n      <td>NaN</td>\n      <td>NaN</td>\n      <td>NaN</td>\n      <td>NaN</td>\n    </tr>\n    <tr>\n      <th>50%</th>\n      <td>16538.00000</td>\n      <td>NaN</td>\n      <td>NaN</td>\n      <td>NaN</td>\n      <td>NaN</td>\n      <td>NaN</td>\n      <td>NaN</td>\n      <td>NaN</td>\n      <td>NaN</td>\n      <td>NaN</td>\n      <td>NaN</td>\n      <td>NaN</td>\n    </tr>\n    <tr>\n      <th>75%</th>\n      <td>19660.00000</td>\n      <td>NaN</td>\n      <td>NaN</td>\n      <td>NaN</td>\n      <td>NaN</td>\n      <td>NaN</td>\n      <td>NaN</td>\n      <td>NaN</td>\n      <td>NaN</td>\n      <td>NaN</td>\n      <td>NaN</td>\n      <td>NaN</td>\n    </tr>\n    <tr>\n      <th>max</th>\n      <td>22683.00000</td>\n      <td>NaN</td>\n      <td>NaN</td>\n      <td>NaN</td>\n      <td>NaN</td>\n      <td>NaN</td>\n      <td>NaN</td>\n      <td>NaN</td>\n      <td>NaN</td>\n      <td>NaN</td>\n      <td>NaN</td>\n      <td>NaN</td>\n    </tr>\n  </tbody>\n</table>\n</div>"
     },
     "execution_count": 3,
     "metadata": {},
     "output_type": "execute_result"
    }
   ]
  },
  {
   "cell_type": "code",
   "execution_count": 6,
   "outputs": [
    {
     "data": {
      "text/plain": "                 ID weather  time        coupon expiration            Y\ncount    2537.00000    2537  2537          2537       2537  2537.000000\nunique          NaN       3     5             5          2          NaN\ntop             NaN   Sunny   6PM  Coffee House         1d          NaN\nfreq            NaN    2006   654           754       1437          NaN\nmean    16465.87229     NaN   NaN           NaN        NaN     0.568388\nstd      3656.59043     NaN   NaN           NaN        NaN     0.495399\nmin     10004.00000     NaN   NaN           NaN        NaN     0.000000\n25%     13268.00000     NaN   NaN           NaN        NaN     0.000000\n50%     16538.00000     NaN   NaN           NaN        NaN     1.000000\n75%     19660.00000     NaN   NaN           NaN        NaN     1.000000\nmax     22683.00000     NaN   NaN           NaN        NaN     1.000000",
      "text/html": "<div>\n<style scoped>\n    .dataframe tbody tr th:only-of-type {\n        vertical-align: middle;\n    }\n\n    .dataframe tbody tr th {\n        vertical-align: top;\n    }\n\n    .dataframe thead th {\n        text-align: right;\n    }\n</style>\n<table border=\"1\" class=\"dataframe\">\n  <thead>\n    <tr style=\"text-align: right;\">\n      <th></th>\n      <th>ID</th>\n      <th>weather</th>\n      <th>time</th>\n      <th>coupon</th>\n      <th>expiration</th>\n      <th>Y</th>\n    </tr>\n  </thead>\n  <tbody>\n    <tr>\n      <th>count</th>\n      <td>2537.00000</td>\n      <td>2537</td>\n      <td>2537</td>\n      <td>2537</td>\n      <td>2537</td>\n      <td>2537.000000</td>\n    </tr>\n    <tr>\n      <th>unique</th>\n      <td>NaN</td>\n      <td>3</td>\n      <td>5</td>\n      <td>5</td>\n      <td>2</td>\n      <td>NaN</td>\n    </tr>\n    <tr>\n      <th>top</th>\n      <td>NaN</td>\n      <td>Sunny</td>\n      <td>6PM</td>\n      <td>Coffee House</td>\n      <td>1d</td>\n      <td>NaN</td>\n    </tr>\n    <tr>\n      <th>freq</th>\n      <td>NaN</td>\n      <td>2006</td>\n      <td>654</td>\n      <td>754</td>\n      <td>1437</td>\n      <td>NaN</td>\n    </tr>\n    <tr>\n      <th>mean</th>\n      <td>16465.87229</td>\n      <td>NaN</td>\n      <td>NaN</td>\n      <td>NaN</td>\n      <td>NaN</td>\n      <td>0.568388</td>\n    </tr>\n    <tr>\n      <th>std</th>\n      <td>3656.59043</td>\n      <td>NaN</td>\n      <td>NaN</td>\n      <td>NaN</td>\n      <td>NaN</td>\n      <td>0.495399</td>\n    </tr>\n    <tr>\n      <th>min</th>\n      <td>10004.00000</td>\n      <td>NaN</td>\n      <td>NaN</td>\n      <td>NaN</td>\n      <td>NaN</td>\n      <td>0.000000</td>\n    </tr>\n    <tr>\n      <th>25%</th>\n      <td>13268.00000</td>\n      <td>NaN</td>\n      <td>NaN</td>\n      <td>NaN</td>\n      <td>NaN</td>\n      <td>0.000000</td>\n    </tr>\n    <tr>\n      <th>50%</th>\n      <td>16538.00000</td>\n      <td>NaN</td>\n      <td>NaN</td>\n      <td>NaN</td>\n      <td>NaN</td>\n      <td>1.000000</td>\n    </tr>\n    <tr>\n      <th>75%</th>\n      <td>19660.00000</td>\n      <td>NaN</td>\n      <td>NaN</td>\n      <td>NaN</td>\n      <td>NaN</td>\n      <td>1.000000</td>\n    </tr>\n    <tr>\n      <th>max</th>\n      <td>22683.00000</td>\n      <td>NaN</td>\n      <td>NaN</td>\n      <td>NaN</td>\n      <td>NaN</td>\n      <td>1.000000</td>\n    </tr>\n  </tbody>\n</table>\n</div>"
     },
     "execution_count": 6,
     "metadata": {},
     "output_type": "execute_result"
    }
   ],
   "source": [
    "PetroStation_data.describe(include = \"all\")"
   ],
   "metadata": {
    "collapsed": false,
    "pycharm": {
     "name": "#%%\n"
    }
   }
  },
  {
   "cell_type": "code",
   "execution_count": 7,
   "outputs": [
    {
     "data": {
      "text/plain": "                 ID      destination passanger  toCoupon_GEQ15min  \\\ncount    2537.00000             2537      2537        2537.000000   \nunique          NaN                3         4                NaN   \ntop             NaN  No Urgent Place     Alone                NaN   \nfreq            NaN             1204      1493                NaN   \nmean    16465.87229              NaN       NaN           0.569176   \nstd      3656.59043              NaN       NaN           0.495289   \nmin     10004.00000              NaN       NaN           0.000000   \n25%     13268.00000              NaN       NaN           0.000000   \n50%     16538.00000              NaN       NaN           1.000000   \n75%     19660.00000              NaN       NaN           1.000000   \nmax     22683.00000              NaN       NaN           1.000000   \n\n        toCoupon_GEQ25min  direction_same  direction_opp  \ncount         2537.000000     2537.000000    2537.000000  \nunique                NaN             NaN            NaN  \ntop                   NaN             NaN            NaN  \nfreq                  NaN             NaN            NaN  \nmean             0.131257        0.223492       0.776508  \nstd              0.337748        0.416668       0.416668  \nmin              0.000000        0.000000       0.000000  \n25%              0.000000        0.000000       1.000000  \n50%              0.000000        0.000000       1.000000  \n75%              0.000000        0.000000       1.000000  \nmax              1.000000        1.000000       1.000000  ",
      "text/html": "<div>\n<style scoped>\n    .dataframe tbody tr th:only-of-type {\n        vertical-align: middle;\n    }\n\n    .dataframe tbody tr th {\n        vertical-align: top;\n    }\n\n    .dataframe thead th {\n        text-align: right;\n    }\n</style>\n<table border=\"1\" class=\"dataframe\">\n  <thead>\n    <tr style=\"text-align: right;\">\n      <th></th>\n      <th>ID</th>\n      <th>destination</th>\n      <th>passanger</th>\n      <th>toCoupon_GEQ15min</th>\n      <th>toCoupon_GEQ25min</th>\n      <th>direction_same</th>\n      <th>direction_opp</th>\n    </tr>\n  </thead>\n  <tbody>\n    <tr>\n      <th>count</th>\n      <td>2537.00000</td>\n      <td>2537</td>\n      <td>2537</td>\n      <td>2537.000000</td>\n      <td>2537.000000</td>\n      <td>2537.000000</td>\n      <td>2537.000000</td>\n    </tr>\n    <tr>\n      <th>unique</th>\n      <td>NaN</td>\n      <td>3</td>\n      <td>4</td>\n      <td>NaN</td>\n      <td>NaN</td>\n      <td>NaN</td>\n      <td>NaN</td>\n    </tr>\n    <tr>\n      <th>top</th>\n      <td>NaN</td>\n      <td>No Urgent Place</td>\n      <td>Alone</td>\n      <td>NaN</td>\n      <td>NaN</td>\n      <td>NaN</td>\n      <td>NaN</td>\n    </tr>\n    <tr>\n      <th>freq</th>\n      <td>NaN</td>\n      <td>1204</td>\n      <td>1493</td>\n      <td>NaN</td>\n      <td>NaN</td>\n      <td>NaN</td>\n      <td>NaN</td>\n    </tr>\n    <tr>\n      <th>mean</th>\n      <td>16465.87229</td>\n      <td>NaN</td>\n      <td>NaN</td>\n      <td>0.569176</td>\n      <td>0.131257</td>\n      <td>0.223492</td>\n      <td>0.776508</td>\n    </tr>\n    <tr>\n      <th>std</th>\n      <td>3656.59043</td>\n      <td>NaN</td>\n      <td>NaN</td>\n      <td>0.495289</td>\n      <td>0.337748</td>\n      <td>0.416668</td>\n      <td>0.416668</td>\n    </tr>\n    <tr>\n      <th>min</th>\n      <td>10004.00000</td>\n      <td>NaN</td>\n      <td>NaN</td>\n      <td>0.000000</td>\n      <td>0.000000</td>\n      <td>0.000000</td>\n      <td>0.000000</td>\n    </tr>\n    <tr>\n      <th>25%</th>\n      <td>13268.00000</td>\n      <td>NaN</td>\n      <td>NaN</td>\n      <td>0.000000</td>\n      <td>0.000000</td>\n      <td>0.000000</td>\n      <td>1.000000</td>\n    </tr>\n    <tr>\n      <th>50%</th>\n      <td>16538.00000</td>\n      <td>NaN</td>\n      <td>NaN</td>\n      <td>1.000000</td>\n      <td>0.000000</td>\n      <td>0.000000</td>\n      <td>1.000000</td>\n    </tr>\n    <tr>\n      <th>75%</th>\n      <td>19660.00000</td>\n      <td>NaN</td>\n      <td>NaN</td>\n      <td>1.000000</td>\n      <td>0.000000</td>\n      <td>0.000000</td>\n      <td>1.000000</td>\n    </tr>\n    <tr>\n      <th>max</th>\n      <td>22683.00000</td>\n      <td>NaN</td>\n      <td>NaN</td>\n      <td>1.000000</td>\n      <td>1.000000</td>\n      <td>1.000000</td>\n      <td>1.000000</td>\n    </tr>\n  </tbody>\n</table>\n</div>"
     },
     "execution_count": 7,
     "metadata": {},
     "output_type": "execute_result"
    }
   ],
   "source": [
    "VehicleSystem_data.describe(include = \"all\")"
   ],
   "metadata": {
    "collapsed": false,
    "pycharm": {
     "name": "#%%\n"
    }
   }
  },
  {
   "cell_type": "code",
   "execution_count": null,
   "outputs": [],
   "source": [],
   "metadata": {
    "collapsed": false,
    "pycharm": {
     "name": "#%%\n"
    }
   }
  },
  {
   "cell_type": "code",
   "execution_count": 4,
   "outputs": [
    {
     "data": {
      "text/plain": "      ID  gender     age    maritalStatus                 education  \\\n0  11263    Male  50plus          Widowed  Some college - no degree   \n1  20136  Female      26  Married partner  Some college - no degree   \n2  14763  Female  50plus           Single          Bachelors degree   \n3  12612  Female      41  Married partner          Bachelors degree   \n4  17850  Female      31  Married partner  Some college - no degree   \n\n                        occupation            income    Bar CoffeeHouse  \\\n0        Construction & Extraction  Less than $12500  never       never   \n1  Office & Administrative Support   $75000 - $87499  never       never   \n2                          Retired   $37500 - $49999  never       never   \n3                            Legal   $100000 or More  never         1~3   \n4          Computer & Mathematical   $100000 or More  less1       less1   \n\n  CarryAway  ...                 coupon expiration  Y     ID      destination  \\\n0     less1  ...           Coffee House         1d  1  11263  No Urgent Place   \n1       1~3  ...                    Bar         1d  0  20136             Work   \n2     less1  ...           Coffee House         1d  0  14763             Work   \n3       1~3  ...  Carry out & Take away         2h  0  12612  No Urgent Place   \n4       gt8  ...           Coffee House         2h  0  17850  No Urgent Place   \n\n   passanger toCoupon_GEQ15min  toCoupon_GEQ25min  direction_same  \\\n0  Friend(s)                 0                  0               0   \n1      Alone                 1                  0               1   \n2      Alone                 1                  0               0   \n3     Kid(s)                 1                  0               0   \n4    Partner                 1                  0               0   \n\n  direction_opp  \n0             1  \n1             0  \n2             1  \n3             1  \n4             1  \n\n[5 rows x 25 columns]",
      "text/html": "<div>\n<style scoped>\n    .dataframe tbody tr th:only-of-type {\n        vertical-align: middle;\n    }\n\n    .dataframe tbody tr th {\n        vertical-align: top;\n    }\n\n    .dataframe thead th {\n        text-align: right;\n    }\n</style>\n<table border=\"1\" class=\"dataframe\">\n  <thead>\n    <tr style=\"text-align: right;\">\n      <th></th>\n      <th>ID</th>\n      <th>gender</th>\n      <th>age</th>\n      <th>maritalStatus</th>\n      <th>education</th>\n      <th>occupation</th>\n      <th>income</th>\n      <th>Bar</th>\n      <th>CoffeeHouse</th>\n      <th>CarryAway</th>\n      <th>...</th>\n      <th>coupon</th>\n      <th>expiration</th>\n      <th>Y</th>\n      <th>ID</th>\n      <th>destination</th>\n      <th>passanger</th>\n      <th>toCoupon_GEQ15min</th>\n      <th>toCoupon_GEQ25min</th>\n      <th>direction_same</th>\n      <th>direction_opp</th>\n    </tr>\n  </thead>\n  <tbody>\n    <tr>\n      <th>0</th>\n      <td>11263</td>\n      <td>Male</td>\n      <td>50plus</td>\n      <td>Widowed</td>\n      <td>Some college - no degree</td>\n      <td>Construction &amp; Extraction</td>\n      <td>Less than $12500</td>\n      <td>never</td>\n      <td>never</td>\n      <td>less1</td>\n      <td>...</td>\n      <td>Coffee House</td>\n      <td>1d</td>\n      <td>1</td>\n      <td>11263</td>\n      <td>No Urgent Place</td>\n      <td>Friend(s)</td>\n      <td>0</td>\n      <td>0</td>\n      <td>0</td>\n      <td>1</td>\n    </tr>\n    <tr>\n      <th>1</th>\n      <td>20136</td>\n      <td>Female</td>\n      <td>26</td>\n      <td>Married partner</td>\n      <td>Some college - no degree</td>\n      <td>Office &amp; Administrative Support</td>\n      <td>$75000 - $87499</td>\n      <td>never</td>\n      <td>never</td>\n      <td>1~3</td>\n      <td>...</td>\n      <td>Bar</td>\n      <td>1d</td>\n      <td>0</td>\n      <td>20136</td>\n      <td>Work</td>\n      <td>Alone</td>\n      <td>1</td>\n      <td>0</td>\n      <td>1</td>\n      <td>0</td>\n    </tr>\n    <tr>\n      <th>2</th>\n      <td>14763</td>\n      <td>Female</td>\n      <td>50plus</td>\n      <td>Single</td>\n      <td>Bachelors degree</td>\n      <td>Retired</td>\n      <td>$37500 - $49999</td>\n      <td>never</td>\n      <td>never</td>\n      <td>less1</td>\n      <td>...</td>\n      <td>Coffee House</td>\n      <td>1d</td>\n      <td>0</td>\n      <td>14763</td>\n      <td>Work</td>\n      <td>Alone</td>\n      <td>1</td>\n      <td>0</td>\n      <td>0</td>\n      <td>1</td>\n    </tr>\n    <tr>\n      <th>3</th>\n      <td>12612</td>\n      <td>Female</td>\n      <td>41</td>\n      <td>Married partner</td>\n      <td>Bachelors degree</td>\n      <td>Legal</td>\n      <td>$100000 or More</td>\n      <td>never</td>\n      <td>1~3</td>\n      <td>1~3</td>\n      <td>...</td>\n      <td>Carry out &amp; Take away</td>\n      <td>2h</td>\n      <td>0</td>\n      <td>12612</td>\n      <td>No Urgent Place</td>\n      <td>Kid(s)</td>\n      <td>1</td>\n      <td>0</td>\n      <td>0</td>\n      <td>1</td>\n    </tr>\n    <tr>\n      <th>4</th>\n      <td>17850</td>\n      <td>Female</td>\n      <td>31</td>\n      <td>Married partner</td>\n      <td>Some college - no degree</td>\n      <td>Computer &amp; Mathematical</td>\n      <td>$100000 or More</td>\n      <td>less1</td>\n      <td>less1</td>\n      <td>gt8</td>\n      <td>...</td>\n      <td>Coffee House</td>\n      <td>2h</td>\n      <td>0</td>\n      <td>17850</td>\n      <td>No Urgent Place</td>\n      <td>Partner</td>\n      <td>1</td>\n      <td>0</td>\n      <td>0</td>\n      <td>1</td>\n    </tr>\n  </tbody>\n</table>\n<p>5 rows × 25 columns</p>\n</div>"
     },
     "execution_count": 4,
     "metadata": {},
     "output_type": "execute_result"
    }
   ],
   "source": [
    "out_csv = pd.concat([Bank_data,VehicleSystem_data,PetroStation_data], axis = 1)\n",
    "out_csv.to_csv(\"all.csv\", index = False)\n",
    "out_csv.head()"
   ],
   "metadata": {
    "collapsed": false,
    "pycharm": {
     "name": "#%%\n"
    }
   }
  },
  {
   "cell_type": "code",
   "execution_count": 5,
   "outputs": [
    {
     "data": {
      "text/plain": "                 ID gender   age    maritalStatus                 education  \\\ncount    2537.00000   2537  2537             2537                      2537   \nunique          NaN      2     8                5                         6   \ntop             NaN   Male    21  Married partner  Some college - no degree   \nfreq            NaN   1269   567             1036                       883   \nmean    16465.87229    NaN   NaN              NaN                       NaN   \nstd      3656.59043    NaN   NaN              NaN                       NaN   \nmin     10004.00000    NaN   NaN              NaN                       NaN   \n25%     13268.00000    NaN   NaN              NaN                       NaN   \n50%     16538.00000    NaN   NaN              NaN                       NaN   \n75%     19660.00000    NaN   NaN              NaN                       NaN   \nmax     22683.00000    NaN   NaN              NaN                       NaN   \n\n        occupation           income    Bar CoffeeHouse CarryAway  ...  \\\ncount         2537             2537   2522        2506      2510  ...   \nunique          25                9      5           5         5  ...   \ntop     Unemployed  $25000 - $37499  never       less1       1~3  ...   \nfreq           372              408    992         676       941  ...   \nmean           NaN              NaN    NaN         NaN       NaN  ...   \nstd            NaN              NaN    NaN         NaN       NaN  ...   \nmin            NaN              NaN    NaN         NaN       NaN  ...   \n25%            NaN              NaN    NaN         NaN       NaN  ...   \n50%            NaN              NaN    NaN         NaN       NaN  ...   \n75%            NaN              NaN    NaN         NaN       NaN  ...   \nmax            NaN              NaN    NaN         NaN       NaN  ...   \n\n              coupon expiration            Y           ID      destination  \\\ncount           2537       2537  2537.000000   2537.00000             2537   \nunique             5          2          NaN          NaN                3   \ntop     Coffee House         1d          NaN          NaN  No Urgent Place   \nfreq             754       1437          NaN          NaN             1204   \nmean             NaN        NaN     0.568388  16465.87229              NaN   \nstd              NaN        NaN     0.495399   3656.59043              NaN   \nmin              NaN        NaN     0.000000  10004.00000              NaN   \n25%              NaN        NaN     0.000000  13268.00000              NaN   \n50%              NaN        NaN     1.000000  16538.00000              NaN   \n75%              NaN        NaN     1.000000  19660.00000              NaN   \nmax              NaN        NaN     1.000000  22683.00000              NaN   \n\n       passanger toCoupon_GEQ15min  toCoupon_GEQ25min  direction_same  \\\ncount       2537       2537.000000        2537.000000     2537.000000   \nunique         4               NaN                NaN             NaN   \ntop        Alone               NaN                NaN             NaN   \nfreq        1493               NaN                NaN             NaN   \nmean         NaN          0.569176           0.131257        0.223492   \nstd          NaN          0.495289           0.337748        0.416668   \nmin          NaN          0.000000           0.000000        0.000000   \n25%          NaN          0.000000           0.000000        0.000000   \n50%          NaN          1.000000           0.000000        0.000000   \n75%          NaN          1.000000           0.000000        0.000000   \nmax          NaN          1.000000           1.000000        1.000000   \n\n       direction_opp  \ncount    2537.000000  \nunique           NaN  \ntop              NaN  \nfreq             NaN  \nmean        0.776508  \nstd         0.416668  \nmin         0.000000  \n25%         1.000000  \n50%         1.000000  \n75%         1.000000  \nmax         1.000000  \n\n[11 rows x 25 columns]",
      "text/html": "<div>\n<style scoped>\n    .dataframe tbody tr th:only-of-type {\n        vertical-align: middle;\n    }\n\n    .dataframe tbody tr th {\n        vertical-align: top;\n    }\n\n    .dataframe thead th {\n        text-align: right;\n    }\n</style>\n<table border=\"1\" class=\"dataframe\">\n  <thead>\n    <tr style=\"text-align: right;\">\n      <th></th>\n      <th>ID</th>\n      <th>gender</th>\n      <th>age</th>\n      <th>maritalStatus</th>\n      <th>education</th>\n      <th>occupation</th>\n      <th>income</th>\n      <th>Bar</th>\n      <th>CoffeeHouse</th>\n      <th>CarryAway</th>\n      <th>...</th>\n      <th>coupon</th>\n      <th>expiration</th>\n      <th>Y</th>\n      <th>ID</th>\n      <th>destination</th>\n      <th>passanger</th>\n      <th>toCoupon_GEQ15min</th>\n      <th>toCoupon_GEQ25min</th>\n      <th>direction_same</th>\n      <th>direction_opp</th>\n    </tr>\n  </thead>\n  <tbody>\n    <tr>\n      <th>count</th>\n      <td>2537.00000</td>\n      <td>2537</td>\n      <td>2537</td>\n      <td>2537</td>\n      <td>2537</td>\n      <td>2537</td>\n      <td>2537</td>\n      <td>2522</td>\n      <td>2506</td>\n      <td>2510</td>\n      <td>...</td>\n      <td>2537</td>\n      <td>2537</td>\n      <td>2537.000000</td>\n      <td>2537.00000</td>\n      <td>2537</td>\n      <td>2537</td>\n      <td>2537.000000</td>\n      <td>2537.000000</td>\n      <td>2537.000000</td>\n      <td>2537.000000</td>\n    </tr>\n    <tr>\n      <th>unique</th>\n      <td>NaN</td>\n      <td>2</td>\n      <td>8</td>\n      <td>5</td>\n      <td>6</td>\n      <td>25</td>\n      <td>9</td>\n      <td>5</td>\n      <td>5</td>\n      <td>5</td>\n      <td>...</td>\n      <td>5</td>\n      <td>2</td>\n      <td>NaN</td>\n      <td>NaN</td>\n      <td>3</td>\n      <td>4</td>\n      <td>NaN</td>\n      <td>NaN</td>\n      <td>NaN</td>\n      <td>NaN</td>\n    </tr>\n    <tr>\n      <th>top</th>\n      <td>NaN</td>\n      <td>Male</td>\n      <td>21</td>\n      <td>Married partner</td>\n      <td>Some college - no degree</td>\n      <td>Unemployed</td>\n      <td>$25000 - $37499</td>\n      <td>never</td>\n      <td>less1</td>\n      <td>1~3</td>\n      <td>...</td>\n      <td>Coffee House</td>\n      <td>1d</td>\n      <td>NaN</td>\n      <td>NaN</td>\n      <td>No Urgent Place</td>\n      <td>Alone</td>\n      <td>NaN</td>\n      <td>NaN</td>\n      <td>NaN</td>\n      <td>NaN</td>\n    </tr>\n    <tr>\n      <th>freq</th>\n      <td>NaN</td>\n      <td>1269</td>\n      <td>567</td>\n      <td>1036</td>\n      <td>883</td>\n      <td>372</td>\n      <td>408</td>\n      <td>992</td>\n      <td>676</td>\n      <td>941</td>\n      <td>...</td>\n      <td>754</td>\n      <td>1437</td>\n      <td>NaN</td>\n      <td>NaN</td>\n      <td>1204</td>\n      <td>1493</td>\n      <td>NaN</td>\n      <td>NaN</td>\n      <td>NaN</td>\n      <td>NaN</td>\n    </tr>\n    <tr>\n      <th>mean</th>\n      <td>16465.87229</td>\n      <td>NaN</td>\n      <td>NaN</td>\n      <td>NaN</td>\n      <td>NaN</td>\n      <td>NaN</td>\n      <td>NaN</td>\n      <td>NaN</td>\n      <td>NaN</td>\n      <td>NaN</td>\n      <td>...</td>\n      <td>NaN</td>\n      <td>NaN</td>\n      <td>0.568388</td>\n      <td>16465.87229</td>\n      <td>NaN</td>\n      <td>NaN</td>\n      <td>0.569176</td>\n      <td>0.131257</td>\n      <td>0.223492</td>\n      <td>0.776508</td>\n    </tr>\n    <tr>\n      <th>std</th>\n      <td>3656.59043</td>\n      <td>NaN</td>\n      <td>NaN</td>\n      <td>NaN</td>\n      <td>NaN</td>\n      <td>NaN</td>\n      <td>NaN</td>\n      <td>NaN</td>\n      <td>NaN</td>\n      <td>NaN</td>\n      <td>...</td>\n      <td>NaN</td>\n      <td>NaN</td>\n      <td>0.495399</td>\n      <td>3656.59043</td>\n      <td>NaN</td>\n      <td>NaN</td>\n      <td>0.495289</td>\n      <td>0.337748</td>\n      <td>0.416668</td>\n      <td>0.416668</td>\n    </tr>\n    <tr>\n      <th>min</th>\n      <td>10004.00000</td>\n      <td>NaN</td>\n      <td>NaN</td>\n      <td>NaN</td>\n      <td>NaN</td>\n      <td>NaN</td>\n      <td>NaN</td>\n      <td>NaN</td>\n      <td>NaN</td>\n      <td>NaN</td>\n      <td>...</td>\n      <td>NaN</td>\n      <td>NaN</td>\n      <td>0.000000</td>\n      <td>10004.00000</td>\n      <td>NaN</td>\n      <td>NaN</td>\n      <td>0.000000</td>\n      <td>0.000000</td>\n      <td>0.000000</td>\n      <td>0.000000</td>\n    </tr>\n    <tr>\n      <th>25%</th>\n      <td>13268.00000</td>\n      <td>NaN</td>\n      <td>NaN</td>\n      <td>NaN</td>\n      <td>NaN</td>\n      <td>NaN</td>\n      <td>NaN</td>\n      <td>NaN</td>\n      <td>NaN</td>\n      <td>NaN</td>\n      <td>...</td>\n      <td>NaN</td>\n      <td>NaN</td>\n      <td>0.000000</td>\n      <td>13268.00000</td>\n      <td>NaN</td>\n      <td>NaN</td>\n      <td>0.000000</td>\n      <td>0.000000</td>\n      <td>0.000000</td>\n      <td>1.000000</td>\n    </tr>\n    <tr>\n      <th>50%</th>\n      <td>16538.00000</td>\n      <td>NaN</td>\n      <td>NaN</td>\n      <td>NaN</td>\n      <td>NaN</td>\n      <td>NaN</td>\n      <td>NaN</td>\n      <td>NaN</td>\n      <td>NaN</td>\n      <td>NaN</td>\n      <td>...</td>\n      <td>NaN</td>\n      <td>NaN</td>\n      <td>1.000000</td>\n      <td>16538.00000</td>\n      <td>NaN</td>\n      <td>NaN</td>\n      <td>1.000000</td>\n      <td>0.000000</td>\n      <td>0.000000</td>\n      <td>1.000000</td>\n    </tr>\n    <tr>\n      <th>75%</th>\n      <td>19660.00000</td>\n      <td>NaN</td>\n      <td>NaN</td>\n      <td>NaN</td>\n      <td>NaN</td>\n      <td>NaN</td>\n      <td>NaN</td>\n      <td>NaN</td>\n      <td>NaN</td>\n      <td>NaN</td>\n      <td>...</td>\n      <td>NaN</td>\n      <td>NaN</td>\n      <td>1.000000</td>\n      <td>19660.00000</td>\n      <td>NaN</td>\n      <td>NaN</td>\n      <td>1.000000</td>\n      <td>0.000000</td>\n      <td>0.000000</td>\n      <td>1.000000</td>\n    </tr>\n    <tr>\n      <th>max</th>\n      <td>22683.00000</td>\n      <td>NaN</td>\n      <td>NaN</td>\n      <td>NaN</td>\n      <td>NaN</td>\n      <td>NaN</td>\n      <td>NaN</td>\n      <td>NaN</td>\n      <td>NaN</td>\n      <td>NaN</td>\n      <td>...</td>\n      <td>NaN</td>\n      <td>NaN</td>\n      <td>1.000000</td>\n      <td>22683.00000</td>\n      <td>NaN</td>\n      <td>NaN</td>\n      <td>1.000000</td>\n      <td>1.000000</td>\n      <td>1.000000</td>\n      <td>1.000000</td>\n    </tr>\n  </tbody>\n</table>\n<p>11 rows × 25 columns</p>\n</div>"
     },
     "execution_count": 5,
     "metadata": {},
     "output_type": "execute_result"
    }
   ],
   "source": [
    "out_csv.describe(include = \"all\")"
   ],
   "metadata": {
    "collapsed": false,
    "pycharm": {
     "name": "#%%\n"
    }
   }
  },
  {
   "cell_type": "code",
   "execution_count": null,
   "outputs": [],
   "source": [],
   "metadata": {
    "collapsed": false,
    "pycharm": {
     "name": "#%%\n"
    }
   }
  }
 ],
 "metadata": {
  "kernelspec": {
   "display_name": "Python 3",
   "language": "python",
   "name": "python3"
  },
  "language_info": {
   "codemirror_mode": {
    "name": "ipython",
    "version": 2
   },
   "file_extension": ".py",
   "mimetype": "text/x-python",
   "name": "python",
   "nbconvert_exporter": "python",
   "pygments_lexer": "ipython2",
   "version": "2.7.6"
  }
 },
 "nbformat": 4,
 "nbformat_minor": 0
}